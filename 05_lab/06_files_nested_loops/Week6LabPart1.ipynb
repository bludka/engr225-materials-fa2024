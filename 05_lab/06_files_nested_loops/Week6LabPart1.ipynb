{
  "cells": [
    {
      "cell_type": "markdown",
      "metadata": {
        "id": "HtQGdb6Y9MeI"
      },
      "source": [
        "# Week 6 Part 1 Notebook - Working with Files"
      ]
    },
    {
      "cell_type": "markdown",
      "metadata": {
        "id": "8bRW01zq4BtB"
      },
      "source": [
        "## 1. The File Path\n",
        "\n",
        "**Question 1.1** Your instructor has sent you this notebook directly to your Desktop, inside a folder called `LabWeek6Part1`. From the Desktop navigate to the location of this notebook file. Right click on the file and click \"Copy as Path\" to get the file path.\n",
        "\n",
        "*Double-click on this box to paste the file path here. This is your answer to this question. See the image below*\n",
        "\n",
        "<img src=\"notebook_images\\copy_as_path.jpg\"\n",
        "     width=500 />"
      ]
    },
    {
      "cell_type": "markdown",
      "metadata": {},
      "source": [
        "**Question 1.2** The file path would look different depending on whether you are using a Windows Operating System (OS) or a Mac OS. The python package `os` makes it easy to share code between Windows and Mac users. Run the code below. This tells you what type of OS you are using, but it uses different labels to describe Windows and Mac/Linux: `posix` and `nt`. One stands for \"Portable Operating System Interface\" (POSIX) and the other stands for \"New Technology\" (NT). Based on the output you get below, which label do you think describes Windows and which label describes Mac/Linux?\n",
        "\n",
        "*Type your answer here*"
      ]
    },
    {
      "cell_type": "code",
      "execution_count": null,
      "metadata": {},
      "outputs": [],
      "source": [
        "import os\n",
        "os.name"
      ]
    },
    {
      "cell_type": "markdown",
      "metadata": {},
      "source": [
        "**Question 1.3** Run the code below. What does it tell you?\n",
        "\n",
        "*Type your answer here*"
      ]
    },
    {
      "cell_type": "code",
      "execution_count": null,
      "metadata": {},
      "outputs": [],
      "source": [
        "os.getcwd()"
      ]
    },
    {
      "cell_type": "markdown",
      "metadata": {},
      "source": [
        "**Question 1.4** Why are there double slashes in the output? \n",
        "\n",
        "*Type your answer here*\n",
        "\n",
        "\n",
        "Run the code below for a hint :)"
      ]
    },
    {
      "cell_type": "code",
      "execution_count": null,
      "metadata": {},
      "outputs": [],
      "source": [
        "print('\\folder\\name_of_file')"
      ]
    },
    {
      "cell_type": "markdown",
      "metadata": {},
      "source": [
        "So to avoid the issue seen above you can use the double slashes or a \"raw\" string"
      ]
    },
    {
      "cell_type": "code",
      "execution_count": null,
      "metadata": {},
      "outputs": [],
      "source": [
        "filepath_doubleslash = '\\\\folder\\\\name_of_file'\n",
        "print(filepath_doubleslash)\n",
        "#or\n",
        "filepath_rawstring = r'\\folder\\name_of_file'\n",
        "print(filepath_rawstring)"
      ]
    },
    {
      "cell_type": "markdown",
      "metadata": {},
      "source": [
        "**Question 1.5** On a Mac the path slashes go the other way (`/` instead of `\\`). What would the path of this notebook be on a Mac? Hint: Double slashes are not needed for this type of slash.\n",
        "\n",
        "*Type your answer here*"
      ]
    },
    {
      "cell_type": "markdown",
      "metadata": {},
      "source": [
        "**Question 1.6** Modify the code below so that it would work on a Mac. "
      ]
    },
    {
      "cell_type": "code",
      "execution_count": null,
      "metadata": {},
      "outputs": [],
      "source": [
        "#current working directory\n",
        "cwd = os.getcwd()\n",
        "folder = 'Exam_Setup'\n",
        "exam_setup_path = cwd+'\\\\'+folder\n",
        "print(exam_setup_path)"
      ]
    },
    {
      "cell_type": "markdown",
      "metadata": {},
      "source": [
        "The `os` module automatically detects your operating system and has methods to put together path names so that the code would work on any computer. Run the code below. What does `os.path.join` do?\n",
        "\n",
        "*Type your answer here*"
      ]
    },
    {
      "cell_type": "code",
      "execution_count": null,
      "metadata": {},
      "outputs": [],
      "source": [
        "path_file = os.path.join(cwd, folder)\n",
        "print(path_file)"
      ]
    },
    {
      "cell_type": "markdown",
      "metadata": {},
      "source": [
        "## 2. The command line\n",
        "\n",
        "In the search bar at the bottom of the screen type `cmd` which is short for \"Command Prompt\". The search should show the Command Prompt App. Go ahead and click on it to open it up. "
      ]
    },
    {
      "cell_type": "markdown",
      "metadata": {},
      "source": [
        "<img src=\"notebook_images\\command_prompt.jpg\"\n",
        "     width=500 />"
      ]
    },
    {
      "cell_type": "markdown",
      "metadata": {},
      "source": [
        "Note that to the left of the `>` symbol shows you the directory that you are working in within the Command Prompt. \n",
        "\n",
        "<img src=\"notebook_images/where_am_i.jpg\"\n",
        "     width=500 />\n",
        "\n",
        "We want to move to the same directory that you are using in this notebook. Run the code below, then paste the output (using single slashes) into the Command Prompt command line and hit enter. Note that `cd` is short for \"change directory\"."
      ]
    },
    {
      "cell_type": "code",
      "execution_count": null,
      "metadata": {},
      "outputs": [],
      "source": [
        "print('cd',os.getcwd())"
      ]
    },
    {
      "cell_type": "markdown",
      "metadata": {},
      "source": [
        "**Question 2.1** Now let's see what folders and files are in this directory. Type `dir` into the Command Prompt command line and press enter.\n",
        "\n",
        "*Paste the output from the Command Prompt here. This is your answer to this question. Make sure you followed the instructions above first or your answer will not be correct.*"
      ]
    },
    {
      "cell_type": "markdown",
      "metadata": {},
      "source": [
        "Now let's use the command line to make a new folder inside this directory. On the Command Prompt command line type `mkdir my_files` and press enter. Then type `dir` and press enter to make sure that the new folder called `my_files` has been created."
      ]
    },
    {
      "cell_type": "markdown",
      "metadata": {},
      "source": [
        "Next let's cd (change directory) into the my_files folder. Type `cd my_files` on the Command Prompt command line and press enter. "
      ]
    },
    {
      "cell_type": "markdown",
      "metadata": {},
      "source": [
        "Now we will create a new text file from the command line. Type `echo Hello World > hello.txt` on the Command Prompt command line and press enter.\""
      ]
    },
    {
      "cell_type": "markdown",
      "metadata": {},
      "source": [
        "**Question 2.2** Now let's see if we successfully created the new file `hello.txt`. Type `dir` into the Command Prompt command line and press enter. Hopefully it is there!\n",
        "\n",
        "\n",
        "``` (Leave these tripple qutoes around your answer to help with formatting)\n",
        "\n",
        "*Paste the output from the Command Prompt here. This is your answer to this question. Make sure you followed the instructions above first or your answer will not be correct.*\n",
        "\n",
        "```"
      ]
    },
    {
      "cell_type": "markdown",
      "metadata": {},
      "source": [
        "**Question 2.3** Now let's look and see what is inside our new file that we just created. Type `type hello.txt` into the Command Prompt command line and press enter.\n",
        "\n",
        "*Paste the output from the Command Prompt here. This is your answer to this question. Make sure you followed the instructions above first or your answer will not be correct.*"
      ]
    },
    {
      "cell_type": "markdown",
      "metadata": {},
      "source": [
        "**Question 2.4** Now let's move back up into the parent folder. Type `cd ..` into the Command Line command prompt and press enter. Then type `dir` and press enter.\n",
        "\n",
        "``` (Leave these tripple qutoes around your answer to help with formatting)\n",
        "\n",
        "*Paste the output from the Command Prompt here. This is your answer to this question. Make sure you followed the instructions above first or your answer will not be correct.*\n",
        "\n",
        "```"
      ]
    },
    {
      "cell_type": "markdown",
      "metadata": {},
      "source": [
        "**Question 2.5** Now let's make a copy of the `hello.txt` file and put it in this folder. Type `copy my_files\\hello.txt hello_copy.txt` into the Command Prompt command line and press enter.  Next type `dir` into the Command Prompt command line and press enter.\n",
        "\n",
        "``` (Leave these tripple qutoes around your answer to help with formatting)\n",
        "\n",
        "*Paste the output from the Command Prompt here. This is your answer to this question. Make sure you followed the instructions above first or your answer will not be correct.*\n",
        "\n",
        "```"
      ]
    },
    {
      "cell_type": "markdown",
      "metadata": {},
      "source": [
        "**Question 2.6** Now let's look and see what is inside our new file that we just created. Type `type hello_copy.txt` into the Command Prompt command line and press enter.\n",
        "\n",
        "*Paste the output from the Command Prompt here. This is your answer to this question. Make sure you followed the instructions above first or your answer will not be correct.*"
      ]
    },
    {
      "cell_type": "markdown",
      "metadata": {},
      "source": [
        "Now you have a little bit of experience working from the command line! The command line is also known as the \"terminal\". \n",
        "\n",
        "Command line commands are slightly different depending on your operating system, but the concepts are the same: You can create folders and files. You can also move, copy, or remove folders and files. You can also read and write files. It is a great way to organize and access your work! \n",
        "\n",
        "Python has the `os` module so that you can do command line type things using python without worrying about what operating system you are using. That way you can move your code from one computer to the next and your code will still work regardless of your operating system!"
      ]
    },
    {
      "cell_type": "markdown",
      "metadata": {
        "id": "krHbjnJFu6kB"
      },
      "source": [
        "## 3. Reading files"
      ]
    },
    {
      "cell_type": "markdown",
      "metadata": {
        "id": "YwzKQovlNzSC"
      },
      "source": [
        "Here is an example of how to read a file:\n",
        "\n",
        "```\n",
        "mycwd = os.getcwd()\n",
        "folder = 'my_files'\n",
        "path_file = os.path.join(mycwd, folder, 'test_225.txt')\n",
        "f = open(path_file, 'r') #open the file\n",
        "contents = f.read() #read the contents\n",
        "f.close() #close the file\n",
        "print(contents)\n",
        "```\n",
        "\n",
        "For this question we will use *Windows Notepad*\n",
        "\n",
        "<img src=\"notebook_images\\notepad.jpg\"\n",
        "     width=300 />"
      ]
    },
    {
      "cell_type": "markdown",
      "metadata": {
        "id": "F28IpCGlz4iC"
      },
      "source": [
        "**Question 3.1**\n",
        "\n",
        "* Open a new basic text file using *Windows Notepad*. (Do NOT use a \"rich\" text application like Wordpad or Word)\n",
        "* Put four numbers in the file (IN ONE LINE) separated by a comma and a space: 1, 2, 3, 4\n",
        "* Save the file as `nums.txt` in your `my_files` directory folder.\n",
        "* Make code to read the file (see example code above) and print the contents. "
      ]
    },
    {
      "cell_type": "code",
      "execution_count": null,
      "metadata": {},
      "outputs": [],
      "source": [
        "# your code here"
      ]
    },
    {
      "cell_type": "markdown",
      "metadata": {},
      "source": [
        "**Question 3.2**\n",
        "Do the same thing, but this time extract each number as a list element (HINT: use `f.read().split(', ')` instead of `f.read()` ) to store the numbers in a list."
      ]
    },
    {
      "cell_type": "code",
      "execution_count": null,
      "metadata": {},
      "outputs": [],
      "source": [
        "# your code here"
      ]
    },
    {
      "cell_type": "markdown",
      "metadata": {},
      "source": [
        "**Question 3.3** Using a for-loop, sum the numbers that you read from the `nums.txt` file together. Then use the sum to calculate the average and print it out."
      ]
    },
    {
      "cell_type": "code",
      "execution_count": null,
      "metadata": {},
      "outputs": [],
      "source": [
        "# your code here"
      ]
    },
    {
      "cell_type": "markdown",
      "metadata": {},
      "source": [
        "**Question 3.4**\n",
        "* Create another new file using *Windows Notepad*\n",
        "* Put four numbers in the file (EACH NUMBER ON IT'S OWN LINE)\n",
        "    * 1\n",
        "    * 2\n",
        "    * 3\n",
        "    * 4\n",
        "* Save the file as \"numlines.txt\" in your `my_files` folder\n",
        "* Make code to read the file using `read().split(', ')` and store it in a list variable called `comma_split` and print it out. \n",
        "* Make more code to read the file using `read().split('\\n')` and store it in a variable called `new_line_split` and print it out. \n",
        "* *Double click on this box and type an explaination of the difference between `comma_split` and `new_line_split`, as it applies to this file \"numlines.txt\"*"
      ]
    },
    {
      "cell_type": "code",
      "execution_count": null,
      "metadata": {},
      "outputs": [],
      "source": [
        "# your code here"
      ]
    },
    {
      "cell_type": "markdown",
      "metadata": {
        "id": "pbhmL5A3RtKi"
      },
      "source": [
        "Another way to read in data is line by line\n",
        "\n",
        "```\n",
        "path_file = os.path.join(mycwd, folder, 'test_225.txt')\n",
        "f = open(path_file, 'r')\n",
        "contents = f.readlines()\n",
        "f.close()\n",
        "print(contents[0])\n",
        "print(contents[1])\n",
        "```\n",
        "\n",
        "Note that contents is a list and each line is an element in the list\n",
        "\n"
      ]
    },
    {
      "cell_type": "markdown",
      "metadata": {
        "id": "DhqGh0Hg9frc"
      },
      "source": [
        "**Question 3.5**\n",
        "* Make code to read the \"numlines.txt\" file and extract the numbers using `f.readlines()`\n",
        "* Using a for-loop, convert each list element to an integer, and sum the numbers together. \n",
        "* Use the sum to calculate the average and print it out"
      ]
    },
    {
      "cell_type": "code",
      "execution_count": null,
      "metadata": {},
      "outputs": [],
      "source": [
        "#your code here"
      ]
    },
    {
      "cell_type": "markdown",
      "metadata": {
        "id": "XXVCfZUF-UWT"
      },
      "source": [
        "## 4. Writing files\n",
        "\n",
        "Instead of making new files using *Notepad* we can make them using Python! \n",
        "\n",
        "Write data (using python) to a file using the built-in open() function and the write() method. Here's an example:\n",
        "\n",
        "```\n",
        "# Open a file for writing\n",
        "file_path = os.path.join(mycwd, folder, \"write_file_225.txt\")\n",
        "file = open(file_path, \"w\")\n",
        "# Write data to the file\n",
        "file.write(\"Hello, world!\\n\")\n",
        "file.write(\"This is an example file.\\n\")\n",
        "file.write(\"Goodbye, world!\\n\")\n",
        "# Close the file\n",
        "file.close()\n",
        "```"
      ]
    },
    {
      "cell_type": "markdown",
      "metadata": {
        "id": "Hh5dzp0cAB_7"
      },
      "source": [
        "**Question 4.1**\n",
        "\n",
        "Using python (following the example above), write two lines to a file called `best_class.txt` which will be located in your `my_files` folder.\n",
        "\n",
        "The two lines are:\n",
        "\n",
        "`I love 225!`\n",
        "\n",
        "`So does everyone!`"
      ]
    },
    {
      "cell_type": "code",
      "execution_count": 31,
      "metadata": {},
      "outputs": [],
      "source": [
        "# your code here"
      ]
    },
    {
      "cell_type": "markdown",
      "metadata": {},
      "source": [
        "Check to make sure the file was created in your `my_files` folder.\n",
        "Manually open the file and look inside.\n",
        "Does it contain what you wanted to write to it?\n",
        "Update your code if needed."
      ]
    },
    {
      "cell_type": "markdown",
      "metadata": {},
      "source": [
        "# 5. Writing and Reading and Writing"
      ]
    },
    {
      "cell_type": "markdown",
      "metadata": {},
      "source": [
        "Below are strings of engineering course numbers and math course numbers. "
      ]
    },
    {
      "cell_type": "code",
      "execution_count": 33,
      "metadata": {},
      "outputs": [],
      "source": [
        "engr = '225, 226, 326, 416'\n",
        "math = '109, 110, 210, 313'"
      ]
    },
    {
      "cell_type": "markdown",
      "metadata": {},
      "source": [
        "**Question 5.1** Using python, write the course numbers above to a file called 'courses.txt', with engineering courses on the first line, and math courses on the second line. "
      ]
    },
    {
      "cell_type": "code",
      "execution_count": 37,
      "metadata": {},
      "outputs": [],
      "source": [
        "# your code here"
      ]
    },
    {
      "cell_type": "markdown",
      "metadata": {},
      "source": [
        "Check to make sure the file was created in your working folder.\n",
        "Manually open the file and look inside.\n",
        "Does it contain what you wanted to write to it?\n",
        "Update your code if needed."
      ]
    },
    {
      "cell_type": "markdown",
      "metadata": {},
      "source": [
        "**Question 5.2** Read the first line of the 'courses.txt' file into a list called `engr_list`, where each course number is a string element in the list.\n",
        "Read the second line of the file into a list called `math_list`, where each course number is a string element in the list."
      ]
    },
    {
      "cell_type": "code",
      "execution_count": null,
      "metadata": {},
      "outputs": [],
      "source": [
        "# your code here"
      ]
    },
    {
      "cell_type": "markdown",
      "metadata": {},
      "source": [
        "Check to make sure you actually created two lists. Hint: To get rid of the '\\n' at the end of the engineering list, you can convert that last element into an integer and then back into a string."
      ]
    },
    {
      "cell_type": "markdown",
      "metadata": {},
      "source": [
        "**Question 5.3** Using the `engr_list` and `math_list` that you just created, make two new lists with the correct prefix (ENGR or MATH) and course number for each element.\n",
        "\n",
        "For example if the engineering course number is 225, the corresponding element in the new list would be ENGR225. Use a SINGLE loop to perform this task, that takes care of the engineering and math courses."
      ]
    },
    {
      "cell_type": "code",
      "execution_count": null,
      "metadata": {},
      "outputs": [],
      "source": [
        "# your code here"
      ]
    },
    {
      "cell_type": "markdown",
      "metadata": {},
      "source": [
        "**Question 5.4** Using python, write the prefixed course numbers you just created to a new file in the folder 'my_files' and call this new file 'courses_with_prefix.txt', separated by a comma. Put engineering courses on the first line, and math courses on the second line. Use a loop to create each line. (Two loops total.)"
      ]
    },
    {
      "cell_type": "code",
      "execution_count": 64,
      "metadata": {},
      "outputs": [],
      "source": [
        "# your code here"
      ]
    }
  ],
  "metadata": {
    "colab": {
      "provenance": [],
      "toc_visible": true
    },
    "kernelspec": {
      "display_name": "Python 3",
      "name": "python3"
    },
    "language_info": {
      "codemirror_mode": {
        "name": "ipython",
        "version": 3
      },
      "file_extension": ".py",
      "mimetype": "text/x-python",
      "name": "python",
      "nbconvert_exporter": "python",
      "pygments_lexer": "ipython3",
      "version": "3.11.7"
    }
  },
  "nbformat": 4,
  "nbformat_minor": 0
}
