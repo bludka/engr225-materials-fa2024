{
 "cells": [
  {
   "cell_type": "markdown",
   "metadata": {
    "id": "BuDCX7YnLVrE"
   },
   "source": [
    "# Lab Week 13\n",
    "You will turn in TWO documents via Canvas upload:\n",
    "1. Handwritten answers\n",
    "2. Python Jupyter Notebook answer\n",
    "\n",
    "You are encouraged to use:\n",
    "* [Python for Linear Algebra Reference Sheet](https://colab.research.google.com/drive/1W14SPExQsbqShGx5g_oJgfxncKHssZgO?usp=sharing)\n",
    "* [Elimination Notes](https://colab.research.google.com/drive/1338X5kaipXQHWe-ofPltdzpaB3sRX1M8?usp=sharing)\n",
    "* [Echelon Forms and Characterizing Solutions to Systems of Equations](https://humboldt.cloudbank.2i2c.cloud/hub/user-redirect/git-pull?repo=https%3A%2F%2Fgithub.com%2Fbludka%2Fengr225-materials-fa2024&branch=main&urlpath=lab%2Ftree%2Fengr225-materials-fa2024%2F00_resources%2FEchelon_Forms_and_Characterizing_Solutions_to_Systems_of_Equations.ipynb)\n",
    "* Lecture Notes:\n",
    "    * [Elimination Methods for Systems with Unique Solution](https://docs.google.com/presentation/d/1oi8hM7kyn5FGcA7vfJpGC1etQT1pagTmADT9fNLguLE/edit?usp=sharing)\n",
    "    * [Elimination Methods for Inconsistent and Non-Unique Systems](https://docs.google.com/presentation/d/1ZFaO8ykgwQkmGKcvaMrJn3j2mHJDxbRLuc1I_ZS896U/edit?usp=sharing)\n",
    "\n",
    "<font color='red'>***Answer all questions by hand first, then repeat the task using Python in this notebook.***<font> <font color='magenta'> If a question does not require a calculation, `print()` your answer and thought process to the screen, in addition to writing it in your handwritten version."
   ]
  },
  {
   "cell_type": "markdown",
   "metadata": {
    "id": "SMDSOUVk-Tp8"
   },
   "source": [
    "## 1. Gauss-Jordan Elimination [10 pts each]\n",
    "\n",
    "Perform the following tasks for each system of equation below\n",
    "\n",
    "> a.) Create a coefficient matrix, named $A$. [0.5pt]\n",
    "\n",
    "> b.) Create a column vector (mx1 matrix) of the constants, named $b$. [0.5pt]\n",
    "\n",
    "> c.) Concatenate $A$ and $b$ to create an augmented matrix $[A | b]$. (*When you do this in Python, make sure to use code to do this. [1pt]\n",
    "\n",
    "> d.) Use **Gausss-JORDAN elimination** to solve your system of equations. [6 pts]\n",
    "\n",
    "> e.) Write on paper/print to the screen the basic and free variables of the system. [0.5pt]\n",
    "\n",
    "> f.) Write on paper/print to the screen the rank and nullity of coefficient matrix. Then also state the rank of the augmented matrix. [1pt]\n",
    "\n",
    "> g.) Write on paper/print to the screen whether the solution to the system is **consistent** or **inconsistent**. [0.5pt]\n",
    "\n",
    "> h.) Write on paper/print to the screen whether the solution to the system is **unique** or **non-unique**. If the system is inconsistent, write *N/A*. [0.5pt]\n",
    "\n",
    "> i.) Write on paper/print to the screen the solution for each of your variables. *If the solution is non-unique, write your solutions in terms of your free variables. If the solution does not exist, write DNE.* [1pt]\n",
    "\n",
    "\n",
    "\n",
    "\n"
   ]
  },
  {
   "cell_type": "code",
   "execution_count": null,
   "metadata": {
    "id": "MtGuE6dW54rL"
   },
   "outputs": [],
   "source": [
    "# run this code!\n",
    "import numpy as np\n",
    "np.set_printoptions(precision=4,suppress=True)"
   ]
  },
  {
   "cell_type": "markdown",
   "metadata": {
    "id": "DDOYcMI4H0KZ"
   },
   "source": [
    "### Question 1.1\n",
    "\n",
    "Make sure to complete steps a-g above for the following system:\n",
    "\n",
    "> $x_1 + 4x_4 = 6 $\n",
    "\n",
    "> $x_2 - 3x_4 = 2 $\n",
    "\n",
    "> $x_3 + x_4 = -5 $"
   ]
  },
  {
   "cell_type": "code",
   "execution_count": null,
   "metadata": {
    "id": "Gf697evcQlLv"
   },
   "outputs": [],
   "source": [
    "# Your code here. I have included reminders of each step in comments.\n",
    "\n",
    "#a) coefficient matrix A\n",
    "# your code here\n",
    "\n",
    "#b) vector of constants b\n",
    "# your code here\n",
    "\n",
    "#c) augmented matrix A|b\n",
    "# your code here\n",
    "\n",
    "#d) Gausss-JORDAN Elimination\n",
    "# your code here\n",
    "\n",
    "#e) basic and free variables? print to the screen\n",
    "# your code here\n",
    "\n",
    "#f) rank and nullity? print to the screen\n",
    "# your code here\n",
    "\n",
    "#g) consistent? print to the screen\n",
    "# your code here\n",
    "\n",
    "#h) unique? print to the screen\n",
    "# your code here\n",
    "\n",
    "#i) solution print to the screen\n",
    "# your code here (after you calculate it by hand)"
   ]
  },
  {
   "cell_type": "markdown",
   "metadata": {
    "id": "EYSf_GYeiRZR"
   },
   "source": [
    "### Question 1.2\n",
    "\n",
    "Make sure to complete steps a-g above for the following system:\n",
    "\n",
    "> $2x_1 + 2x_2 + 2x_3 = 0 $\n",
    "\n",
    "> $-2x_1 + 5x_2 + 2x_3 = 1 $\n",
    "\n",
    "> $8x_1 + x_2 + 4x_3 = -1 $"
   ]
  },
  {
   "cell_type": "code",
   "execution_count": null,
   "metadata": {
    "id": "pWFZRxkAQMDs"
   },
   "outputs": [],
   "source": [
    "#a) coefficient matrix A\n",
    "# your code here\n",
    "\n",
    "#b) vector of constants b\n",
    "# your code here\n",
    "\n",
    "#c) augmented matrix A|b\n",
    "# your code here\n",
    "\n",
    "#d) Gausss-JORDAN Elimination\n",
    "# your code here\n",
    "\n",
    "#e) basic and free variables? print to the screen\n",
    "# your code here\n",
    "\n",
    "#f) rank and nullity? print to the screen\n",
    "# your code here\n",
    "\n",
    "#g) consistent? print to the screen\n",
    "# your code here\n",
    "\n",
    "#h) unique? print to the screen\n",
    "# your code here\n",
    "\n",
    "#i) solution print to the screen\n",
    "# your code here (after you calculate it by hand)"
   ]
  },
  {
   "cell_type": "markdown",
   "metadata": {
    "id": "gIQ-Plv3pDlI"
   },
   "source": [
    "### Question 1.3\n",
    "\n",
    "Make sure to complete steps a-g above for the following system:\n",
    "\n",
    "> $x_1 - x_3 + 2x_6=  4$\n",
    "\n",
    "> $x_2 + 2x_3 -6x_5 -x_6 =  0$\n",
    "\n",
    "> $4x_1 - 4x_3 + x_4 -3x_5 + 12x_6 = 18$\n",
    "\n",
    "> $2x_1 -2x_3  + 4x_6 = 8$"
   ]
  },
  {
   "cell_type": "code",
   "execution_count": null,
   "metadata": {
    "id": "Fl4LBTF6QPeT"
   },
   "outputs": [],
   "source": [
    "#a) coefficient matrix A\n",
    "# your code here\n",
    "\n",
    "#b) vector of constants b\n",
    "# your code here\n",
    "\n",
    "#c) augmented matrix A|b\n",
    "# your code here\n",
    "\n",
    "#d) Gausss-JORDAN Elimination\n",
    "# your code here\n",
    "\n",
    "#e) basic and free variables? print to the screen\n",
    "# your code here\n",
    "\n",
    "#f) rank and nullity? print to the screen\n",
    "# your code here\n",
    "\n",
    "#g) consistent? print to the screen\n",
    "# your code here\n",
    "\n",
    "#h) unique? print to the screen\n",
    "# your code here\n",
    "\n",
    "#i) solution print to the screen\n",
    "# your code here (after you calculate it by hand)"
   ]
  },
  {
   "cell_type": "markdown",
   "metadata": {
    "id": "ROjkycWrJrnV"
   },
   "source": [
    "### Question 1.4\n",
    "\n",
    "Make sure to complete steps a-g above for the following system:\n",
    "\n",
    "> $x_1 + 2x_2 + 5x_4 =  0$\n",
    "\n",
    "> $x_3 +9x_4  =  4$\n",
    "\n",
    "> $x_1 + 2x_2 + 5x_4 = -5$"
   ]
  },
  {
   "cell_type": "code",
   "execution_count": null,
   "metadata": {
    "id": "m9FNPaYTQR0f"
   },
   "outputs": [],
   "source": [
    "#a) coefficient matrix A\n",
    "# your code here\n",
    "\n",
    "#b) vector of constants b\n",
    "# your code here\n",
    "\n",
    "#c) augmented matrix A|b\n",
    "# your code here\n",
    "\n",
    "#d) Gausss-JORDAN Elimination\n",
    "# your code here\n",
    "\n",
    "#e) basic and free variables? print to the screen\n",
    "# your code here\n",
    "\n",
    "#f) rank and nullity? print to the screen\n",
    "# your code here\n",
    "\n",
    "#g) consistent? print to the screen\n",
    "# your code here\n",
    "\n",
    "#h) unique? print to the screen\n",
    "# your code here\n",
    "\n",
    "#i) solution print to the screen\n",
    "# your code here (after you calculate it by hand)"
   ]
  },
  {
   "cell_type": "markdown",
   "metadata": {},
   "source": [
    "## 2. Inverse of a Matrix [10 pts each]"
   ]
  },
  {
   "cell_type": "markdown",
   "metadata": {},
   "source": [
    "Let $A$ be a square matrix (size $n$x$n$). The inverse of $A$ is denoted by $A^{-1}$.\n",
    "\n",
    "We can find the inverse $A^{-1}$ by following these steps:\n",
    "\n",
    "1. Form an augmented matrix of $[A|I]$, where $I$ is the identity matrix with the same size as A.\n",
    "\n",
    "2. Use row operations to reduce the left-hand portion into reduced row-echelon form.\n",
    "\n",
    "3. If the augmented matrix after step 2 has the form $[I|B]$, then $B = A^{-1}$. If it does not have this form, then $A$ does not have an inverse.\n",
    "\n",
    "If this is the system of equations:\n",
    "> $-2x_1 + 3x_2 + 5x_3 = 8 $\n",
    "\n",
    "> $- 1x_2 = 1 $\n",
    "\n",
    "> $1x_1 - 2x_2 + -2x_3 = 10 $\n",
    "\n",
    "Then the coefficient matrix A is:"
   ]
  },
  {
   "cell_type": "code",
   "execution_count": null,
   "metadata": {},
   "outputs": [
    {
     "name": "stdout",
     "output_type": "stream",
     "text": [
      "[[-2.  3.  5.]\n",
      " [ 0. -1.  0.]\n",
      " [ 1. -2. -2.]]\n"
     ]
    }
   ],
   "source": [
    "A = np.array([[-2., 3., 5.],  #R0\n",
    "              [0.,-1., 0.],   #R1\n",
    "              [1., -2., -2.]]) #R2\n",
    "print(A)"
   ]
  },
  {
   "cell_type": "markdown",
   "metadata": {},
   "source": [
    "The identity matrix that is the same size as A is:"
   ]
  },
  {
   "cell_type": "code",
   "execution_count": null,
   "metadata": {},
   "outputs": [
    {
     "name": "stdout",
     "output_type": "stream",
     "text": [
      "[[1. 0. 0.]\n",
      " [0. 1. 0.]\n",
      " [0. 0. 1.]]\n"
     ]
    }
   ],
   "source": [
    "I = np.identity(3)\n",
    "print(I)"
   ]
  },
  {
   "cell_type": "markdown",
   "metadata": {},
   "source": [
    "To find the inverse, first create the augmented matrix $[A|I]$:"
   ]
  },
  {
   "cell_type": "code",
   "execution_count": null,
   "metadata": {},
   "outputs": [
    {
     "name": "stdout",
     "output_type": "stream",
     "text": [
      "[[-2.  3.  5.  1.  0.  0.]\n",
      " [ 0. -1.  0.  0.  1.  0.]\n",
      " [ 1. -2. -2.  0.  0.  1.]]\n"
     ]
    }
   ],
   "source": [
    "A_I = np.concatenate((A, I), axis = 1)\n",
    "print(A_I)"
   ]
  },
  {
   "cell_type": "markdown",
   "metadata": {},
   "source": [
    "Then perform row operations to try to get the *left* size of the augmented matrix to turn into the identiy:"
   ]
  },
  {
   "cell_type": "code",
   "execution_count": null,
   "metadata": {},
   "outputs": [
    {
     "name": "stdout",
     "output_type": "stream",
     "text": [
      "[[-2.   3.   5.   1.   0.   0. ]\n",
      " [ 0.  -1.   0.   0.   1.   0. ]\n",
      " [ 0.  -0.5  0.5  0.5  0.   1. ]]\n"
     ]
    }
   ],
   "source": [
    "#R2 + (-1/2)R0 -->R2\n",
    "A_I[2,:] = A_I[2,:] + (1/2)*A_I[0,:]\n",
    "print(A_I)"
   ]
  },
  {
   "cell_type": "code",
   "execution_count": null,
   "metadata": {},
   "outputs": [
    {
     "name": "stdout",
     "output_type": "stream",
     "text": [
      "[[-2.   3.   5.   1.   0.   0. ]\n",
      " [ 0.  -1.   0.   0.   1.   0. ]\n",
      " [ 0.   0.   0.5  0.5 -0.5  1. ]]\n"
     ]
    }
   ],
   "source": [
    "#R2 + (-1/2)R1 -->R2\n",
    "A_I[2,:] = A_I[2,:] + (-1/2)*A_I[1,:]\n",
    "print(A_I)"
   ]
  },
  {
   "cell_type": "code",
   "execution_count": null,
   "metadata": {},
   "outputs": [
    {
     "name": "stdout",
     "output_type": "stream",
     "text": [
      "[[ 1.  -1.5 -2.5 -0.5 -0.  -0. ]\n",
      " [ 0.  -1.   0.   0.   1.   0. ]\n",
      " [ 0.   0.   0.5  0.5 -0.5  1. ]]\n"
     ]
    }
   ],
   "source": [
    "#(-1/2)R0 --> R0\n",
    "A_I[0,:] = (-1/2)*A_I[0,:]\n",
    "print(A_I)"
   ]
  },
  {
   "cell_type": "code",
   "execution_count": null,
   "metadata": {},
   "outputs": [
    {
     "name": "stdout",
     "output_type": "stream",
     "text": [
      "[[ 1.  -1.5 -2.5 -0.5 -0.  -0. ]\n",
      " [-0.   1.  -0.  -0.  -1.  -0. ]\n",
      " [ 0.   0.   0.5  0.5 -0.5  1. ]]\n"
     ]
    }
   ],
   "source": [
    "#(-1)R1 --> R1\n",
    "A_I[1,:] = (-1)*A_I[1,:]\n",
    "print(A_I)"
   ]
  },
  {
   "cell_type": "code",
   "execution_count": null,
   "metadata": {},
   "outputs": [
    {
     "name": "stdout",
     "output_type": "stream",
     "text": [
      "[[ 1.  -1.5 -2.5 -0.5 -0.  -0. ]\n",
      " [-0.   1.  -0.  -0.  -1.  -0. ]\n",
      " [ 0.   0.   1.   1.  -1.   2. ]]\n"
     ]
    }
   ],
   "source": [
    "#2*R2 --> R2\n",
    "A_I[2,:] = 2*A_I[2,:]\n",
    "print(A_I)"
   ]
  },
  {
   "cell_type": "code",
   "execution_count": null,
   "metadata": {},
   "outputs": [
    {
     "name": "stdout",
     "output_type": "stream",
     "text": [
      "[[ 1.  -1.5  0.   2.  -2.5  5. ]\n",
      " [-0.   1.  -0.  -0.  -1.  -0. ]\n",
      " [ 0.   0.   1.   1.  -1.   2. ]]\n"
     ]
    }
   ],
   "source": [
    "#R0 + 2.5*R2 -->R0\n",
    "A_I[0,:] = A_I[0,:] + (2.5)*A_I[2,:]\n",
    "print(A_I)"
   ]
  },
  {
   "cell_type": "code",
   "execution_count": null,
   "metadata": {},
   "outputs": [
    {
     "name": "stdout",
     "output_type": "stream",
     "text": [
      "[[ 1.  0.  0.  2. -4.  5.]\n",
      " [-0.  1. -0. -0. -1. -0.]\n",
      " [ 0.  0.  1.  1. -1.  2.]]\n"
     ]
    }
   ],
   "source": [
    "#R0 + 1.5*R1 -->R0\n",
    "A_I[0,:] = A_I[0,:] + (1.5)*A_I[1,:]\n",
    "print(A_I)"
   ]
  },
  {
   "cell_type": "code",
   "execution_count": null,
   "metadata": {},
   "outputs": [
    {
     "name": "stdout",
     "output_type": "stream",
     "text": [
      "[[ 1.  0.  0.]\n",
      " [-0.  1. -0.]\n",
      " [ 0.  0.  1.]]\n"
     ]
    }
   ],
   "source": [
    "# Left side of A_I is the identity matrix\n",
    "print(A_I[:,0:3])"
   ]
  },
  {
   "cell_type": "code",
   "execution_count": null,
   "metadata": {},
   "outputs": [
    {
     "name": "stdout",
     "output_type": "stream",
     "text": [
      "[[ 2. -4.  5.]\n",
      " [-0. -1. -0.]\n",
      " [ 1. -1.  2.]]\n"
     ]
    }
   ],
   "source": [
    "#So right side of A_I is the inverse\n",
    "A_inv = A_I[:,3:]\n",
    "print(A_inv)"
   ]
  },
  {
   "cell_type": "markdown",
   "metadata": {},
   "source": [
    "### Question 2.1\n",
    "\n",
    "Find the inverse of the **coefficient** matrix from the following system of equations:\n",
    "\n",
    "> $x_1 + x_2 + 2x_3 = 8 $\n",
    "\n",
    "> $-x_1 - 2x_2 + 3x_3 = 1 $\n",
    "\n",
    "> $3x_1 - 7x_2 + 4x_3 = 10 $\n",
    "\n",
    "If the inverse does not exist, write/print *DNE*. Show all row operations on paper and using your code.\n"
   ]
  },
  {
   "cell_type": "code",
   "execution_count": null,
   "metadata": {},
   "outputs": [],
   "source": [
    "# your code here (after you calculate it by hand)"
   ]
  },
  {
   "cell_type": "markdown",
   "metadata": {},
   "source": [
    "### Question 2.2\n",
    "Find the inverse of the **coefficient** matrix from the following system of equations:\n",
    "\n",
    "> $x_1 - 3x_2 + 4x_3 = 7 $\n",
    "\n",
    "> $x_3 = 5 $\n",
    "\n",
    "> $x_2 + 2x_3 = 2 $\n"
   ]
  },
  {
   "cell_type": "code",
   "execution_count": null,
   "metadata": {},
   "outputs": [],
   "source": [
    "# your code here (after you calculate it by hand)"
   ]
  },
  {
   "cell_type": "markdown",
   "metadata": {},
   "source": [
    "### Question 2.3\n",
    "\n",
    "Find the inverse of the **coefficient** matrix from the following system of equations:\n",
    "\n",
    "> $x_1 - 3x_3 = -2 $\n",
    "\n",
    "> $3x_1 + x_2 - 2x_3 = 5 $\n",
    "\n",
    "> $2x_1 + 2x_2 + x_3 = 4 $\n",
    "\n",
    "If the inverse does not exist, write/print *DNE*. Show all row operations on paper and using your code."
   ]
  },
  {
   "cell_type": "code",
   "execution_count": null,
   "metadata": {},
   "outputs": [],
   "source": [
    "# your code here (after you calculate it by hand)"
   ]
  },
  {
   "cell_type": "markdown",
   "metadata": {},
   "source": [
    "### Question 2.4\n",
    "\n",
    "Find the inverse of the **coefficient** matrix from the following system of equations:\n",
    "\n",
    "> $2x_1 + 2x_2 + 2x_3 = 0 $\n",
    "\n",
    "> $-2x_1 + 5x_2 + 2x_3 = 1 $\n",
    "\n",
    "> $8x_1 + x_2 + 4x_3 = -1 $\n",
    "\n",
    "If the inverse does not exist, write/print *DNE*. Show all row operations on paper and using your code."
   ]
  },
  {
   "cell_type": "code",
   "execution_count": null,
   "metadata": {},
   "outputs": [],
   "source": [
    "# your code here (after you calculate it by hand)"
   ]
  },
  {
   "cell_type": "markdown",
   "metadata": {},
   "source": [
    "## 3. Finding the Solution using the Inverse [5 pts each]"
   ]
  },
  {
   "cell_type": "markdown",
   "metadata": {},
   "source": [
    "Recall:\n",
    "\n",
    "Matrices can only be multiplied if their inner dimensions are equal. Multiplying $A$ with dimensions $m$ x $n$, by $B$ with dimensions $n$ x $p$, results in a matrix $AB$ of size $m$ x $p$.\n",
    "\n",
    "<img src=\"https://lh3.googleusercontent.com/pw/ADCreHcSe-OO0Eh4TlZyt0RYkgpbCN79xoF0AUhV7yAJZWp1a-miuOhNnOR_M2zjdX14guNXEhFzT144A-bOzLDoSc_OLo_50S5DNwSIJot7mDI1xsvrDkrfjAXSuXsHIiFgzc0JxZ_6mGEEC2M6TR_w3jcv=w584-h371-s-no?authuser=0\" width=\"350\">"
   ]
  },
  {
   "cell_type": "markdown",
   "metadata": {},
   "source": [
    "Matrix multiplication follows the row-column rule.\n",
    "\n",
    "<img src=\"https://lh3.googleusercontent.com/pw/ADCreHdYJ6RYsDC9eDW-1SuX4Q1MdewyfC4pCMF9r3vOKesFMTrTkqF-JklZSAxXk0p0MVioYObI405XxPpVSVkQayTJsi_Js9-NSrLm932t1gsNvWU680Jrs_4D5n_iJo3HoEu-aZGT8G_8O2BsQy_gDUsk=w1400-h848-s-no?authuser=0\" width=\"350\">\n",
    "\n"
   ]
  },
  {
   "cell_type": "markdown",
   "metadata": {},
   "source": [
    "If we have a system of equations represented as:\n",
    "\n",
    "$$Ax = b$$\n",
    "\n",
    "We can *left* multiply both sides by $A^{-1}$:\n",
    "\n",
    "$$A^{-1}Ax = A^{-1}b$$\n",
    "\n",
    "And since $A^{-1}A = I$:\n",
    "\n",
    "$$Ix = A^{-1}b$$\n",
    "\n",
    "So\n",
    "\n",
    "$$x = A^{-1}b$$\n",
    "\n",
    "\n"
   ]
  },
  {
   "cell_type": "markdown",
   "metadata": {},
   "source": [
    "### Question 3.1\n",
    "\n",
    "Using $A$, $b$ and $A^{-1}$ from Question 2.1,\n",
    "\n",
    "Use matrix multiplication to show that:\n",
    "\n",
    "> $A A^{-1} = I$.\n",
    "\n",
    "> $A^{-1} A  = I$.\n",
    "\n",
    "> $x = A^{-1} b$, where $x$ is a vector containing the solutions.\n",
    "\n",
    "Show all steps (as in the figure above) by hand. Check your work using Python where `@` is the operator used for matrix multiplication. \n",
    "\n",
    "If $A$ does not have an inverse, instead write and print to the screen \"Not possible. Inverse does not exist\"."
   ]
  },
  {
   "cell_type": "code",
   "execution_count": null,
   "metadata": {},
   "outputs": [],
   "source": [
    "# your code here (after you calculate it by hand)"
   ]
  },
  {
   "cell_type": "markdown",
   "metadata": {},
   "source": [
    "### Question 3.2\n",
    "\n",
    "Solve for x in Question 2.2 using matrix multiplication:\n",
    "\n",
    "> $x = A^{-1} b$, where $x$ is a vector containing the solutions.\n",
    "\n",
    "Show all steps by hand. Check your work using Python where `@` is the operator used for matrix multiplication. \n",
    "\n",
    "If $A$ does not have an inverse, instead write and print to the screen \"Not possible. Inverse does not exist\"."
   ]
  },
  {
   "cell_type": "code",
   "execution_count": null,
   "metadata": {},
   "outputs": [],
   "source": [
    "# your code here (after you calculate it by hand)"
   ]
  },
  {
   "cell_type": "markdown",
   "metadata": {},
   "source": [
    "### Question 3.3\n",
    "\n",
    "Solve for x in Question 2.3 using matrix multiplication:\n",
    "\n",
    "> $x = A^{-1} b$, where $x$ is a vector containing the solutions.\n",
    "\n",
    "Show all steps by hand. Check your work using Python where `@` is the operator used for matrix multiplication. \n",
    "\n",
    "If $A$ does not have an inverse, instead write and print to the screen \"Not possible. Inverse does not exist\".\n"
   ]
  },
  {
   "cell_type": "code",
   "execution_count": null,
   "metadata": {},
   "outputs": [],
   "source": [
    "# your code here (after you calculate it by hand)"
   ]
  },
  {
   "cell_type": "markdown",
   "metadata": {},
   "source": [
    "### Question 3.4\n",
    "\n",
    "Solve for x in Question 2.4 using matrix multiplication:\n",
    "\n",
    "> $x = A^{-1} b$, where $x$ is a vector containing the solutions.\n",
    "\n",
    "Show all steps by hand. Check your work using Python where `@` is the operator used for matrix multiplication. \n",
    "\n",
    "If $A$ does not have an inverse, instead write and print to the screen \"Not possible. Inverse does not exist\".\n"
   ]
  },
  {
   "cell_type": "code",
   "execution_count": null,
   "metadata": {},
   "outputs": [],
   "source": [
    "# your code here (after you calculate it by hand)"
   ]
  }
 ],
 "metadata": {
  "colab": {
   "authorship_tag": "ABX9TyNI5oJEMTzPXSjFS2g10Z1z",
   "provenance": [],
   "toc_visible": true
  },
  "kernelspec": {
   "display_name": "Python 3",
   "name": "python3"
  },
  "language_info": {
   "name": "python"
  }
 },
 "nbformat": 4,
 "nbformat_minor": 0
}
