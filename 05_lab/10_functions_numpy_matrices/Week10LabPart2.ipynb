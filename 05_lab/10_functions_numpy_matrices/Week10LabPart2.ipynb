{
 "cells": [
  {
   "cell_type": "code",
   "execution_count": null,
   "metadata": {
    "deletable": false,
    "editable": false
   },
   "outputs": [],
   "source": [
    "# Initialize Otter\n",
    "import otter\n",
    "grader = otter.Notebook(\"Week10LabPart2.ipynb\")"
   ]
  },
  {
   "cell_type": "markdown",
   "metadata": {
    "id": "818ECGasV3qQ"
   },
   "source": [
    "# Week 10 Lab Part 2\n",
    "\n",
    "Please complete this notebook by filling in the cells provided. Before you begin, execute the cell at the top to setup the notebook by importing some helpful libraries. Each time you start your server, you will need to execute this cell again.\n",
    "\n",
    "**Note: This homework has hidden tests on it. That means even though the tests may say 100% passed, it doesn't mean your final grade will be 100%. We will be running more tests for correctness once everyone turns in the homework.**\n",
    "\n",
    "Directly sharing answers is not okay, but discussing problems with the course staff or with other students is encouraged. "
   ]
  },
  {
   "cell_type": "markdown",
   "metadata": {
    "id": "UIqtztxKYPYs"
   },
   "source": [
    "## 1. More Practice with Functions"
   ]
  },
  {
   "cell_type": "markdown",
   "metadata": {
    "deletable": false,
    "editable": false,
    "id": "TSBV4KRS84fJ"
   },
   "source": [
    "### **Question 1.1**\n",
    "[5pts]\n",
    "Define a function named `coin_flip()` that **returns** \"Heads\" or \"Tails\". The function should take NO arguments. Inside the function, generate a random value 1 or 0. Assume the value 1 represents \"Heads\" and 0 represents \"Tails\". Call your function to test it."
   ]
  },
  {
   "cell_type": "code",
   "execution_count": null,
   "metadata": {
    "id": "OhyY0aAF8mPt",
    "tags": []
   },
   "outputs": [],
   "source": [
    "# your code here\n",
    "..."
   ]
  },
  {
   "cell_type": "code",
   "execution_count": null,
   "metadata": {
    "deletable": false,
    "editable": false
   },
   "outputs": [],
   "source": [
    "grader.check(\"q1_1\")"
   ]
  },
  {
   "cell_type": "markdown",
   "metadata": {
    "deletable": false,
    "editable": false,
    "id": "3nk2t1128C3h"
   },
   "source": [
    "### **Question 1.2**\n",
    "\n",
    "[5 pts] In computer animation, a \"jiffy\" is commonly defined as 1/100th of a second. Define a function named jiffies_to_seconds that takes the number of \"jiffies\" as an argument, and **returns** the number of seconds. Call your function to test it."
   ]
  },
  {
   "cell_type": "code",
   "execution_count": null,
   "metadata": {
    "id": "_b_vaZli89MQ",
    "tags": []
   },
   "outputs": [],
   "source": [
    "# your code here\n",
    "..."
   ]
  },
  {
   "cell_type": "code",
   "execution_count": null,
   "metadata": {
    "deletable": false,
    "editable": false
   },
   "outputs": [],
   "source": [
    "grader.check(\"q1_2\")"
   ]
  },
  {
   "cell_type": "markdown",
   "metadata": {
    "deletable": false,
    "editable": false,
    "id": "duvWoTizFV-6"
   },
   "source": [
    "### **Question 1.3**\n",
    "\n",
    "[5 pts] Write a function called `strlist_to_numlist()` that uses a list with *string elements* of numbers as an argument. An example argument would be: ['1', '2', '3']. Your function will convert it to a list with *integer elements*. **Return** the list of integer elements. Call your function to test it and store the result in the variable called `nums`"
   ]
  },
  {
   "cell_type": "code",
   "execution_count": null,
   "metadata": {
    "id": "IEmkHnUlFlaJ",
    "tags": []
   },
   "outputs": [],
   "source": [
    "# your code here\n",
    "..."
   ]
  },
  {
   "cell_type": "code",
   "execution_count": null,
   "metadata": {
    "deletable": false,
    "editable": false
   },
   "outputs": [],
   "source": [
    "grader.check(\"q1_3\")"
   ]
  },
  {
   "cell_type": "markdown",
   "metadata": {
    "deletable": false,
    "editable": false,
    "id": "Hlx-1WXnYkd7"
   },
   "source": [
    "### **Question 1.4**\n",
    "[5pts] Make a function called `tickets()` that **prints** out tickets for each seat in an auditorium. The function should take two arguments: a list of strings representing the row letters, and a list of integers representing the seatnumbers in each row. Call your function to test it."
   ]
  },
  {
   "cell_type": "code",
   "execution_count": null,
   "metadata": {
    "id": "AicxMQMEZG5B",
    "tags": []
   },
   "outputs": [],
   "source": [
    "# your code here\n",
    "..."
   ]
  },
  {
   "cell_type": "code",
   "execution_count": null,
   "metadata": {
    "deletable": false,
    "editable": false
   },
   "outputs": [],
   "source": [
    "grader.check(\"q1_4\")"
   ]
  },
  {
   "cell_type": "markdown",
   "metadata": {
    "id": "w-MC6P1VaKH4"
   },
   "source": [
    "## 2. Creating Numpy Arrays\n",
    "\n",
    "First let's import the numpy package."
   ]
  },
  {
   "cell_type": "code",
   "execution_count": null,
   "metadata": {
    "id": "uvfjlgEBDipb"
   },
   "outputs": [],
   "source": [
    "import numpy as np"
   ]
  },
  {
   "cell_type": "markdown",
   "metadata": {
    "id": "iYL_Wg1OEg2O"
   },
   "source": [
    "Remember, you can create a numpy array using `np.array()` like this:"
   ]
  },
  {
   "cell_type": "code",
   "execution_count": null,
   "metadata": {
    "colab": {
     "base_uri": "https://localhost:8080/"
    },
    "executionInfo": {
     "elapsed": 16,
     "status": "ok",
     "timestamp": 1711488203504,
     "user": {
      "displayName": "Bonnie Ludka",
      "userId": "16620433016455303136"
     },
     "user_tz": 420
    },
    "id": "SQKlz7m0Eidc",
    "outputId": "1b52ff89-a6ae-4137-d970-533f7175f1be"
   },
   "outputs": [],
   "source": [
    "# create a 1-dimensional array\n",
    "vector_1D = np.array([1,2,3,4,5])\n",
    "print(vector_1D)"
   ]
  },
  {
   "cell_type": "markdown",
   "metadata": {},
   "source": [
    "We can check the shape of the array we just made using `np.shape()`"
   ]
  },
  {
   "cell_type": "code",
   "execution_count": null,
   "metadata": {
    "colab": {
     "base_uri": "https://localhost:8080/"
    },
    "executionInfo": {
     "elapsed": 13,
     "status": "ok",
     "timestamp": 1711488203504,
     "user": {
      "displayName": "Bonnie Ludka",
      "userId": "16620433016455303136"
     },
     "user_tz": 420
    },
    "id": "lEY4SID1E5bN",
    "outputId": "a2f1fa3a-03d6-49d3-ade7-c92d007d036b"
   },
   "outputs": [],
   "source": [
    "np.shape(vector_1D)"
   ]
  },
  {
   "cell_type": "markdown",
   "metadata": {},
   "source": [
    "Since the shape only gives one value, this is a 1-dimensional (1-D) array. Usually when we are working with vectors and matrices we will want to use 2-D arrays. There are some cases where we can get away with using a 1-D array for vectors. When representing vectors, there is a subtle difference between a 1-D array, and a 2-D array with 1 row. Let's try representing a vector using a 2-D array with 1-row. We will need to use double brackets for this:"
   ]
  },
  {
   "cell_type": "code",
   "execution_count": null,
   "metadata": {
    "colab": {
     "base_uri": "https://localhost:8080/"
    },
    "executionInfo": {
     "elapsed": 11,
     "status": "ok",
     "timestamp": 1711488203504,
     "user": {
      "displayName": "Bonnie Ludka",
      "userId": "16620433016455303136"
     },
     "user_tz": 420
    },
    "id": "HGjhMLKCFGnG",
    "outputId": "c19b7c7a-851e-463c-91f8-0d56e136609c"
   },
   "outputs": [],
   "source": [
    "#create a 2-D array with only 1 row\n",
    "row_vector_2D = np.array([[1,2,3,4,5]]) #1 row, 5 columns\n",
    "print(row_vector_2D)"
   ]
  },
  {
   "cell_type": "markdown",
   "metadata": {},
   "source": [
    "How does this look compared to the 1-D array we created earlier?"
   ]
  },
  {
   "cell_type": "code",
   "execution_count": null,
   "metadata": {},
   "outputs": [],
   "source": [
    "print(vector_1D)"
   ]
  },
  {
   "cell_type": "markdown",
   "metadata": {},
   "source": [
    "Again, the 2-D array is surrounded by double brackets, but the 1-D array only has single brackets. Also when we check the shape, the 2-D array has two values and one of the values is 1. The first number represents the number of rows and the second value represents the number of columns. "
   ]
  },
  {
   "cell_type": "code",
   "execution_count": null,
   "metadata": {
    "colab": {
     "base_uri": "https://localhost:8080/"
    },
    "executionInfo": {
     "elapsed": 9,
     "status": "ok",
     "timestamp": 1711488203504,
     "user": {
      "displayName": "Bonnie Ludka",
      "userId": "16620433016455303136"
     },
     "user_tz": 420
    },
    "id": "HTiuVipyFYvl",
    "outputId": "faae1434-ce1e-4b32-ccdc-617b20bd0469"
   },
   "outputs": [],
   "source": [
    "np.shape(row_vector_2D)"
   ]
  },
  {
   "cell_type": "markdown",
   "metadata": {},
   "source": [
    "Note how this is different from our 1-D vector:"
   ]
  },
  {
   "cell_type": "code",
   "execution_count": null,
   "metadata": {},
   "outputs": [],
   "source": [
    "np.shape(vector_1D)"
   ]
  },
  {
   "cell_type": "markdown",
   "metadata": {},
   "source": [
    "Instead of a horizontal vector, now let's make a vertical vector. We can do this by creating a 2-D array with only 1 column. Note the outer brackets and how each single element row is surrounded by inner brackets and separated by commas:"
   ]
  },
  {
   "cell_type": "code",
   "execution_count": null,
   "metadata": {
    "colab": {
     "base_uri": "https://localhost:8080/"
    },
    "executionInfo": {
     "elapsed": 165,
     "status": "ok",
     "timestamp": 1711488203661,
     "user": {
      "displayName": "Bonnie Ludka",
      "userId": "16620433016455303136"
     },
     "user_tz": 420
    },
    "id": "4s_I9q5zFrIq",
    "outputId": "7c4ed271-e087-4bbe-8257-70fad34ee401"
   },
   "outputs": [],
   "source": [
    "# create a 2-D array with only 1 column\n",
    "column_vector_2D = np.array([[1],\n",
    "                             [2],\n",
    "                             [3],\n",
    "                             [4],\n",
    "                             [5]])\n",
    "print(column_vector_2D)"
   ]
  },
  {
   "cell_type": "markdown",
   "metadata": {},
   "source": [
    "Now we see that when we check the shape, the first value is the number of rows and the second value is the number of columns."
   ]
  },
  {
   "cell_type": "code",
   "execution_count": null,
   "metadata": {
    "colab": {
     "base_uri": "https://localhost:8080/"
    },
    "executionInfo": {
     "elapsed": 11,
     "status": "ok",
     "timestamp": 1711488203661,
     "user": {
      "displayName": "Bonnie Ludka",
      "userId": "16620433016455303136"
     },
     "user_tz": 420
    },
    "id": "uByKTioMGIhe",
    "outputId": "f9a24930-f24d-40a3-e0cd-90c51b77fb24"
   },
   "outputs": [],
   "source": [
    "np.shape(column_vector_2D)"
   ]
  },
  {
   "cell_type": "markdown",
   "metadata": {},
   "source": [
    "What if we want to create a matrix? The outer brackets represent the matrix. The inner brackets represent each row, which are separated by a comma. Here we make a matrix with 3 rows and 2 columns:"
   ]
  },
  {
   "cell_type": "code",
   "execution_count": null,
   "metadata": {
    "colab": {
     "base_uri": "https://localhost:8080/"
    },
    "executionInfo": {
     "elapsed": 162,
     "status": "ok",
     "timestamp": 1711488203818,
     "user": {
      "displayName": "Bonnie Ludka",
      "userId": "16620433016455303136"
     },
     "user_tz": 420
    },
    "id": "olmpc8XfGR0-",
    "outputId": "f6b0580e-24a6-464b-eb59-f3f4fd23e7a0"
   },
   "outputs": [],
   "source": [
    "# create a 2-d array with 3 rows and 2 columns\n",
    "matrix_3x2 = np.array([[1,2],\n",
    "                       [3,4],\n",
    "                       [5,6]])\n",
    "print(matrix_3x2)"
   ]
  },
  {
   "cell_type": "markdown",
   "metadata": {},
   "source": [
    "Let's check the shape:"
   ]
  },
  {
   "cell_type": "code",
   "execution_count": null,
   "metadata": {},
   "outputs": [],
   "source": [
    "print(np.shape(matrix_3x2))"
   ]
  },
  {
   "cell_type": "markdown",
   "metadata": {},
   "source": [
    "3 rows and 2 columns as expected!"
   ]
  },
  {
   "cell_type": "markdown",
   "metadata": {},
   "source": [
    "Now it is your turn to make a matrix using numpy!"
   ]
  },
  {
   "cell_type": "markdown",
   "metadata": {
    "deletable": false,
    "editable": false
   },
   "source": [
    "### **Question 2.1**\n",
    "\n",
    "[2pts] Create a 2-D array name `matrix_2x3` which has 2 rows and 3 columns. You can use whatever numbers you like inside your array. Check to make sure you created a matrix with the correct dimensions using `np.shape()`"
   ]
  },
  {
   "cell_type": "code",
   "execution_count": null,
   "metadata": {
    "tags": []
   },
   "outputs": [],
   "source": [
    "# your code here\n",
    "..."
   ]
  },
  {
   "cell_type": "code",
   "execution_count": null,
   "metadata": {
    "deletable": false,
    "editable": false
   },
   "outputs": [],
   "source": [
    "grader.check(\"q2_1\")"
   ]
  },
  {
   "cell_type": "markdown",
   "metadata": {
    "id": "d0iiSrdTHMlM"
   },
   "source": [
    "## 3. Indexing and Slicing a 1-D Array\n",
    "\n",
    "Indexing and Slicing a 1-D array is similar to indexing a list or a tuple."
   ]
  },
  {
   "cell_type": "code",
   "execution_count": null,
   "metadata": {
    "colab": {
     "base_uri": "https://localhost:8080/"
    },
    "executionInfo": {
     "elapsed": 27,
     "status": "ok",
     "timestamp": 1711488203819,
     "user": {
      "displayName": "Bonnie Ludka",
      "userId": "16620433016455303136"
     },
     "user_tz": 420
    },
    "id": "b1JI8uoWHOLG",
    "outputId": "3a5a30df-7d85-44dc-b118-fc471d5efb98"
   },
   "outputs": [],
   "source": [
    "print('array=',vector_1D)\n",
    "print('index=',np.array([0, 1, 2, 3, 4]))\n",
    "print('The value at the zero index of the array is: ',vector_1D[0])\n",
    "print('The value at the last index of the array is: ',vector_1D[-1])\n",
    "print('The slice of the array [1:4] starts at index 1 and goes up to but does not include index 4')\n",
    "print(vector_1D[1:4])"
   ]
  },
  {
   "cell_type": "markdown",
   "metadata": {
    "deletable": false,
    "editable": false,
    "id": "pC7ucxUXIouo"
   },
   "source": [
    "### **Question 3.1**\n",
    "\n",
    "[2pts] Grab the numbers 3 and 4 from the array `vector_1D` using a slice and store them in a new variable called `slice`.\n",
    "\n",
    "Hint: To start, ask yourself what index represents the location where `vector_1D` = 3?"
   ]
  },
  {
   "cell_type": "code",
   "execution_count": null,
   "metadata": {
    "tags": []
   },
   "outputs": [],
   "source": [
    "print('array=', vector_1D)\n",
    "print('index=', np.array([0,1,2,3,4]))\n",
    "# your code here\n",
    "slice = ...\n",
    "..."
   ]
  },
  {
   "cell_type": "markdown",
   "metadata": {
    "id": "HOMDKe-kJZ8Z"
   },
   "source": [
    "Slices that start at the very beginning can be written like this"
   ]
  },
  {
   "cell_type": "code",
   "execution_count": null,
   "metadata": {
    "colab": {
     "base_uri": "https://localhost:8080/"
    },
    "executionInfo": {
     "elapsed": 15,
     "status": "ok",
     "timestamp": 1711488203819,
     "user": {
      "displayName": "Bonnie Ludka",
      "userId": "16620433016455303136"
     },
     "user_tz": 420
    },
    "id": "fLEkV7v0JArh",
    "outputId": "92cd20a5-489b-41c9-af30-dd28d527b218"
   },
   "outputs": [],
   "source": [
    "print('array=', vector_1D)\n",
    "print('index=', np.array([0,1,2,3,4]))\n",
    "print('The slice of the array [:3] starts at index 0 and goes up to but does not include index 3')\n",
    "print(vector_1D[:3])"
   ]
  },
  {
   "cell_type": "markdown",
   "metadata": {
    "id": "Auqf4rGtJxyB"
   },
   "source": [
    "Slices that include the very end can be written like this\n"
   ]
  },
  {
   "cell_type": "code",
   "execution_count": null,
   "metadata": {
    "colab": {
     "base_uri": "https://localhost:8080/"
    },
    "executionInfo": {
     "elapsed": 14,
     "status": "ok",
     "timestamp": 1711488203819,
     "user": {
      "displayName": "Bonnie Ludka",
      "userId": "16620433016455303136"
     },
     "user_tz": 420
    },
    "id": "QHxvL6xPJ08H",
    "outputId": "97871d68-8611-4d5a-af14-d5623aaf1a3f"
   },
   "outputs": [],
   "source": [
    "print(vector_1D[3:])"
   ]
  },
  {
   "cell_type": "markdown",
   "metadata": {
    "id": "vSg4SwDSJ7U5"
   },
   "source": [
    "## 4. Indexing and Slicing a 2-D Array\n",
    "\n",
    "Recall our 3x2 Matrix"
   ]
  },
  {
   "cell_type": "code",
   "execution_count": null,
   "metadata": {},
   "outputs": [],
   "source": [
    "print(matrix_3x2)"
   ]
  },
  {
   "cell_type": "markdown",
   "metadata": {},
   "source": [
    "If we want to grab the number 5 from the matrix using indexing, we do it like this:"
   ]
  },
  {
   "cell_type": "code",
   "execution_count": null,
   "metadata": {
    "colab": {
     "base_uri": "https://localhost:8080/"
    },
    "executionInfo": {
     "elapsed": 10,
     "status": "ok",
     "timestamp": 1711488203819,
     "user": {
      "displayName": "Bonnie Ludka",
      "userId": "16620433016455303136"
     },
     "user_tz": 420
    },
    "id": "w5chkiJjJ_nS",
    "outputId": "2bfd4c45-fb29-427c-8294-9be62f1bc0a7"
   },
   "outputs": [],
   "source": [
    "print(matrix_3x2[2,0]) #Row 2 (third row), Column 0 (first column)"
   ]
  },
  {
   "cell_type": "markdown",
   "metadata": {
    "deletable": false,
    "editable": false,
    "id": "ZiVHvmayKTow"
   },
   "source": [
    "### **Question 4.1**\n",
    "\n",
    "[3 pts] Grab the number 2 from `matrix_3x2` using indexing and store it in the variable `num2`.\n",
    "\n",
    "Hint: What row is the number 2 located in? What column?\n",
    "\n",
    "Hint: What index represents that row? That column?"
   ]
  },
  {
   "cell_type": "code",
   "execution_count": null,
   "metadata": {
    "tags": []
   },
   "outputs": [],
   "source": [
    "matrix_3x2 = np.array([[1,2],\n",
    "                       [3,4],\n",
    "                       [5,6]])\n",
    "# your code here\n",
    "num2 = ...\n",
    "..."
   ]
  },
  {
   "cell_type": "markdown",
   "metadata": {
    "id": "9LyyOy7oLDt4"
   },
   "source": [
    "If we want to get a slice of a 2-D array we need to provide the rows and columns that we want to grab. Say we have a 3x3 matrix and we want to grab the numbers in the upper right of the matrix:"
   ]
  },
  {
   "cell_type": "code",
   "execution_count": null,
   "metadata": {
    "colab": {
     "base_uri": "https://localhost:8080/"
    },
    "executionInfo": {
     "elapsed": 11,
     "status": "ok",
     "timestamp": 1711488203949,
     "user": {
      "displayName": "Bonnie Ludka",
      "userId": "16620433016455303136"
     },
     "user_tz": 420
    },
    "id": "Ofbtl7fIK7Fg",
    "outputId": "5d6879d6-f54b-420a-ba31-1bceb4c18602"
   },
   "outputs": [],
   "source": [
    "matrix_3x3 = np.array([[1,2,3],\n",
    "                       [4,5,6],\n",
    "                       [7,8,9]])\n",
    "print(matrix_3x3)\n",
    "print(' ')\n",
    "print(matrix_3x3[:2,1:]) #row 0 to row 2 (not inclusive of 2), column 1 to last column"
   ]
  },
  {
   "cell_type": "markdown",
   "metadata": {
    "deletable": false,
    "editable": false,
    "id": "cG1HwlWaLukI"
   },
   "source": [
    "### **Question 4.2**\n",
    "\n",
    "[3pts] Grab a slice that looks like this from `matrix_3x3`:\n",
    "\n",
    "[[5,6],\n",
    "\n",
    "[8, 9]]\n",
    "\n",
    "and store it in the variable `matrix_lower_right`."
   ]
  },
  {
   "cell_type": "code",
   "execution_count": null,
   "metadata": {
    "tags": []
   },
   "outputs": [],
   "source": [
    "matrix_3x3 = np.array([[1,2,3],\n",
    "                       [4,5,6],\n",
    "                       [7,8,9]])\n",
    "# your code here\n",
    "matrix_lower_right = ...\n",
    "..."
   ]
  },
  {
   "cell_type": "markdown",
   "metadata": {
    "id": "EPNZ9c2VYMzm"
   },
   "source": [
    "## 5. Matrix Functions\n",
    "\n",
    "When we make functions that deal with matrices, we often need nested loops to loop through every element in the matrix.\n",
    "\n",
    "For example, the following code is a function that creates an *Identity Matrix* that matches the size of a given square matrix. (Remember that the identity matrix must be a square matrix.) "
   ]
  },
  {
   "cell_type": "code",
   "execution_count": null,
   "metadata": {
    "colab": {
     "base_uri": "https://localhost:8080/"
    },
    "executionInfo": {
     "elapsed": 9,
     "status": "ok",
     "timestamp": 1711488203950,
     "user": {
      "displayName": "Bonnie Ludka",
      "userId": "16620433016455303136"
     },
     "user_tz": 420
    },
    "id": "meRJN7lKYOYV",
    "outputId": "06d2bf67-0ff2-4d7c-8cd2-77c7224fc22c"
   },
   "outputs": [],
   "source": [
    "def identity(matrix):\n",
    "    m,n = np.shape(matrix) #find the number of rows and columns in the matrix\n",
    "    I_matrix = np.zeros([m,n]) #create a matrix of the same size with all zeros\n",
    "    for i in range(n): #Loop over all the rows\n",
    "        for j in range(n): #Loop over all the columns\n",
    "            if i==j: #If the row equals the column, you are on the diagonal\n",
    "                I_matrix[i, j] = 1 #place a 1 on the diagonal\n",
    "    return I_matrix\n",
    "\n",
    "# Test the function\n",
    "I = identity(matrix_3x3)\n",
    "print(I)"
   ]
  },
  {
   "cell_type": "markdown",
   "metadata": {
    "deletable": false,
    "editable": false,
    "id": "Y3pfXOlefzj4"
   },
   "source": [
    "### **Question 5.1**\n",
    "\n",
    "[10pts] Create a function called `scale_mat()` that scales a matrix by using a nested loop to access each element in the matrix and then multiplying it by the scalar. The function should take the scalar (float) and the matrix (np.array) as arguments IN THAT ORDER. Return the scaled matrix. Call your function to test it."
   ]
  },
  {
   "cell_type": "code",
   "execution_count": null,
   "metadata": {
    "tags": []
   },
   "outputs": [],
   "source": [
    "# Your function here. Remember: You need a nested loop!\n",
    "# Note: You may check your work by simply multiplying the scalar by the numpy array\n",
    "# (Isn't it nice that numpy does this for you!)\n",
    "..."
   ]
  },
  {
   "cell_type": "markdown",
   "metadata": {
    "deletable": false,
    "editable": false,
    "id": "VfpFAW6hdOIb"
   },
   "source": [
    "### **Question 5.2**\n",
    "[10pts]\n",
    "Create a function called `add_mats()` that adds two matrices together by using a nested loop to access each element in the matrices and then adds the elements together and places their sum in a new matrix. The function should take two matrices (both np.array) as arguments. Return the new matrix. Call your function to test it."
   ]
  },
  {
   "cell_type": "code",
   "execution_count": null,
   "metadata": {
    "id": "g8TiLa6Ndvvb",
    "tags": []
   },
   "outputs": [],
   "source": [
    "# Your function here. Remember: You need a nested loop!\n",
    "# Note: You may check your work by simply doing np_array1 + np_array2\n",
    "# (Isn't it nice that numpy does this for you!)\n",
    "..."
   ]
  },
  {
   "cell_type": "markdown",
   "metadata": {
    "deletable": false,
    "editable": false,
    "id": "TxpoO8hGeNT_"
   },
   "source": [
    "### **Question 5.3**\n",
    "[10pts]\n",
    "Create a function called `mult_mats()` that multiplies two matrices together by using a nested loop. The function should take two matrices (both np.array) as arguments. The first argument should be the left matrix of the multiplication and the second argument should be the right matrix of the multiplication. Return the new matrix that stores the matrix-multiplication result. Call your function to test it. \n",
    "\n",
    "If the two matrices are not conformable for multiplication have the function **print** 'Not conformable for matrix multiplication' and **return** nothing at all.\n",
    "\n",
    "Hint: Check out the General Forumla on Slide 40 from the [Lecture Slides]( https://docs.google.com/presentation/d/1Ll5RWw0MhV33ob-4cmfC4bk1n5ksUm39ZKdA17q4K_0/edit?usp=sharing ).\n",
    "\n"
   ]
  },
  {
   "cell_type": "code",
   "execution_count": null,
   "metadata": {
    "id": "um3Fu159grX1",
    "tags": []
   },
   "outputs": [],
   "source": [
    "# your function here\n",
    "# Note: You may check your work by simply doing np_array1 @ np_array2\n",
    "# (Isn't it nice that numpy does this for you!)\n",
    "..."
   ]
  },
  {
   "cell_type": "markdown",
   "metadata": {},
   "source": [
    "## Rotating a vector \n",
    "\n",
    "We can use matrix multiplication to rotate a vector. \n",
    "\n",
    "If `v` is our vector and `R` is our counterclockwise rotation matrix, then `v` matrix-multiplied by `R` will give us the rotated vector.\n",
    "\n",
    "We can find `R` using the equation provided in this image, where theta is the angle amount we wish to rotate the vector by\n",
    "\n",
    "<img src=\"https://lh3.googleusercontent.com/pw/AP1GczOyapUz6DgVw7S_WqjU61-Bvqd2rWD9h-gBeGEoxrs--xlI9Jb8vf1-6Vg9pzOqTK9gDhOoJrYoT4Bb0QmYjcYU-yEr-DeYNZoIeiItn1j4hQbr8IQMa5Or9ag1da6-wXCg6nrz1m_VIM9YBPuPWehE=w1249-h672-s-no-gm?authuser=0\"\n",
    "     width=800 />\n",
    "\n",
    "Say we wanted to rotate the column vector [1,0] by 90 degrees:\n"
   ]
  },
  {
   "cell_type": "code",
   "execution_count": null,
   "metadata": {},
   "outputs": [],
   "source": [
    "import math\n",
    "v = np.array([[1],\n",
    "              [0]])\n",
    "theta_degrees = 90 #degrees\n",
    "theta_radians = math.radians(theta_degrees)\n",
    "R = np.array([[math.cos(theta_radians), -math.sin(theta_radians)],\n",
    "              [math.sin(theta_radians),  math.cos(theta_radians)]])\n",
    "v_rotated = R@v\n",
    "print(np.round(v_rotated))\n",
    "np.shape(v)"
   ]
  },
  {
   "cell_type": "markdown",
   "metadata": {},
   "source": [
    "We can plot the original vector and the rotated vector we just calculated"
   ]
  },
  {
   "cell_type": "code",
   "execution_count": null,
   "metadata": {},
   "outputs": [],
   "source": [
    "import matplotlib.pyplot as plt\n",
    "plt.arrow(0, 0, v[0,0], v[1,0], length_includes_head=True, head_width=0.1, head_length=0.2, color='blue',zorder=2,label='v')\n",
    "plt.arrow(0, 0, v_rotated[0,0], v_rotated[1,0], length_includes_head=True, head_width=0.1, head_length=0.2, color='red',zorder=3,label='v rotated by '+str(theta_degrees)+' degrees')\n",
    "plt.grid(True,zorder=0) #turn on grid lines, put them underneath everything else (zorder)\n",
    "plt.legend()"
   ]
  },
  {
   "cell_type": "markdown",
   "metadata": {
    "deletable": false,
    "editable": false,
    "id": "mxydo43GhH2K"
   },
   "source": [
    "### **Question 5.4**\n",
    "[10pts]\n",
    "Create a function called `rotate_vec()` that rotates a two element column vector counterclockwise using matrix multiplication.\n",
    "\n",
    "\n",
    "You may use the @ symbol to perform the matrix multiplication\n",
    "\n",
    "Remember: vector_rotated = rotation_matrix @ vector\n",
    "\n",
    "The function should take the two element column vector (2-D numpy array with shape (2,1)) and the rotation angle in degrees (scalar) as arguments, IN THAT ORDER. \n",
    "It should return the rotated column vector. Call your function AND then plot the original and rotated vector to test it to make sure your function works as expected.\n",
    "\n",
    "Hint: The example code above is useful."
   ]
  },
  {
   "cell_type": "code",
   "execution_count": null,
   "metadata": {
    "id": "KyCZJmLYhyhU",
    "tags": []
   },
   "outputs": [],
   "source": [
    "# your code here\n",
    "..."
   ]
  },
  {
   "cell_type": "markdown",
   "metadata": {},
   "source": [
    "You're done with the lab!  \n",
    "\n",
    "**Important submission steps:** \n",
    "1. Run the tests and verify that they all pass.\n",
    "2. Choose **Save Notebook** from the **File** menu, then **run the final cell**. \n",
    "3. Click the link to download the zip file.\n",
    "4. Then submit the zip file to the corresponding assignment according to your instructor's directions. \n",
    "\n",
    "**It is your responsibility to make sure your work is saved before running the last cell.**"
   ]
  },
  {
   "cell_type": "markdown",
   "metadata": {
    "deletable": false,
    "editable": false
   },
   "source": [
    "## Submission\n",
    "\n",
    "Make sure you have run all cells in your notebook in order before running the cell below, so that all images/graphs appear in the output. The cell below will generate a zip file for you to submit. **Please save before exporting!**"
   ]
  },
  {
   "cell_type": "code",
   "execution_count": null,
   "metadata": {
    "deletable": false,
    "editable": false
   },
   "outputs": [],
   "source": [
    "# Save your notebook first, then run this cell to export your submission.\n",
    "grader.export(pdf=False, run_tests=True)"
   ]
  },
  {
   "cell_type": "markdown",
   "metadata": {},
   "source": [
    " "
   ]
  }
 ],
 "metadata": {
  "colab": {
   "authorship_tag": "ABX9TyNy0PfW3c6EhutF2nS42KQI",
   "provenance": [
    {
     "file_id": "11MJcOUXwnvC2ibPFZSL0Yrrzz_GkhnF8",
     "timestamp": 1711483381013
    }
   ]
  },
  "kernelspec": {
   "display_name": "engr225",
   "language": "python",
   "name": "python3"
  },
  "language_info": {
   "codemirror_mode": {
    "name": "ipython",
    "version": 3
   },
   "file_extension": ".py",
   "mimetype": "text/x-python",
   "name": "python",
   "nbconvert_exporter": "python",
   "pygments_lexer": "ipython3",
   "version": "3.11.7"
  },
  "otter": {
   "OK_FORMAT": true,
   "tests": {
    "q1_1": {
     "name": "q1_1",
     "points": [
      2
     ],
     "suites": [
      {
       "cases": [
        {
         "code": ">>> coin_flip() == 'Heads' or coin_flip() == 'Tails'\nTrue",
         "hidden": false,
         "locked": false
        }
       ],
       "scored": true,
       "setup": "",
       "teardown": "",
       "type": "doctest"
      }
     ]
    },
    "q1_2": {
     "name": "q1_2",
     "points": [
      2
     ],
     "suites": [
      {
       "cases": [
        {
         "code": ">>> jiffies_to_seconds(100) == 1.0\nTrue",
         "hidden": false,
         "locked": false
        }
       ],
       "scored": true,
       "setup": "",
       "teardown": "",
       "type": "doctest"
      }
     ]
    },
    "q1_3": {
     "name": "q1_3",
     "points": [
      1,
      1
     ],
     "suites": [
      {
       "cases": [
        {
         "code": ">>> nums = strlist_to_numlist(['1', '2', '3'])\n>>> nums == [1, 2, 3]\nTrue",
         "hidden": false,
         "locked": false
        },
        {
         "code": ">>> print(type(nums[0]))\n<class 'int'>\n",
         "hidden": false,
         "locked": false
        }
       ],
       "scored": true,
       "setup": "",
       "teardown": "",
       "type": "doctest"
      }
     ]
    },
    "q1_4": {
     "name": "q1_4",
     "points": [
      5
     ],
     "suites": [
      {
       "cases": [
        {
         "code": ">>> row = ['A', 'B', 'C']\n>>> seat = [1, 2, 3, 4, 5, 6]\n>>> tickets(row, seat)\nA 1\nA 2\nA 3\nA 4\nA 5\nA 6\nB 1\nB 2\nB 3\nB 4\nB 5\nB 6\nC 1\nC 2\nC 3\nC 4\nC 5\nC 6\n",
         "hidden": false,
         "locked": false
        }
       ],
       "scored": true,
       "setup": "",
       "teardown": "",
       "type": "doctest"
      }
     ]
    },
    "q2_1": {
     "name": "q2_1",
     "points": [
      2
     ],
     "suites": [
      {
       "cases": [
        {
         "code": ">>> np.shape(matrix_2x3) == (2, 3)\nTrue",
         "hidden": false,
         "locked": false
        }
       ],
       "scored": true,
       "setup": "",
       "teardown": "",
       "type": "doctest"
      }
     ]
    },
    "q3_1": {
     "name": "q3_1",
     "points": [],
     "suites": [
      {
       "cases": [],
       "scored": true,
       "setup": "",
       "teardown": "",
       "type": "doctest"
      }
     ]
    },
    "q4_1": {
     "name": "q4_1",
     "points": [],
     "suites": [
      {
       "cases": [],
       "scored": true,
       "setup": "",
       "teardown": "",
       "type": "doctest"
      }
     ]
    },
    "q4_2": {
     "name": "q4_2",
     "points": [],
     "suites": [
      {
       "cases": [],
       "scored": true,
       "setup": "",
       "teardown": "",
       "type": "doctest"
      }
     ]
    },
    "q5_1": {
     "name": "q5_1",
     "points": [],
     "suites": [
      {
       "cases": [],
       "scored": true,
       "setup": "",
       "teardown": "",
       "type": "doctest"
      }
     ]
    },
    "q5_2": {
     "name": "q5_2",
     "points": [],
     "suites": [
      {
       "cases": [],
       "scored": true,
       "setup": "",
       "teardown": "",
       "type": "doctest"
      }
     ]
    },
    "q5_3": {
     "name": "q5_3",
     "points": [],
     "suites": [
      {
       "cases": [],
       "scored": true,
       "setup": "",
       "teardown": "",
       "type": "doctest"
      }
     ]
    },
    "q5_4": {
     "name": "q5_4",
     "points": [],
     "suites": [
      {
       "cases": [],
       "scored": true,
       "setup": "",
       "teardown": "",
       "type": "doctest"
      }
     ]
    }
   }
  }
 },
 "nbformat": 4,
 "nbformat_minor": 0
}
