{
 "cells": [
  {
   "cell_type": "markdown",
   "metadata": {
    "id": "1p_nMcHs4cjf"
   },
   "source": [
    "# Lab Week 11"
   ]
  },
  {
   "cell_type": "markdown",
   "metadata": {
    "id": "6UfGV7qt43CT"
   },
   "source": [
    "You will turn in TWO documents via Canvas upload:\n",
    "1. Handwritten answers\n",
    "2. Python Jupyter Notebook answer\n",
    "\n",
    "You are encouraged to use:\n",
    "* [Python for Linear Algebra Reference Sheet](https://humboldt.cloudbank.2i2c.cloud/hub/user-redirect/git-pull?repo=https%3A%2F%2Fgithub.com%2Fbludka%2Fengr225-materials-fa2024&branch=main&urlpath=lab%2Ftree%2Fengr225-materials-fa2024%2F00_resources%2FPython_Toolbox_for_Linear_Algebra.ipynb)\n",
    "\n",
    "<font color='red'>***Answer all questions by hand first, then repeat the task using Python in this notebook.***<font> <font color='magenta'> If a question does not require a calculation, `print()` your answer and thought process to the screen, in addition to writing it in your handwritten version."
   ]
  },
  {
   "cell_type": "markdown",
   "metadata": {
    "id": "c8bAUpDF6--5"
   },
   "source": [
    "Run the following code to import numpy and chose a more convenient output format"
   ]
  },
  {
   "cell_type": "code",
   "execution_count": 2,
   "metadata": {
    "executionInfo": {
     "elapsed": 11,
     "status": "ok",
     "timestamp": 1715538479455,
     "user": {
      "displayName": "Sam Kiser",
      "userId": "00625456763048199201"
     },
     "user_tz": 420
    },
    "id": "Q1NdGed73ElA"
   },
   "outputs": [],
   "source": [
    "import numpy as np\n",
    "np.set_printoptions(precision=4,suppress=True)"
   ]
  },
  {
   "cell_type": "markdown",
   "metadata": {
    "id": "dxn-2fItb7U1"
   },
   "source": [
    "## 1. Trace of a Matrix\n",
    "\n",
    "What is the trace of the following matrices? *When you do the coding part, use the `np.trace()` function. See the [Python for Linear Algerba Reference Sheet](https://humboldt.cloudbank.2i2c.cloud/hub/user-redirect/git-pull?repo=https%3A%2F%2Fgithub.com%2Fbludka%2Fengr225-materials-fa2024&branch=main&urlpath=lab%2Ftree%2Fengr225-materials-fa2024%2F00_resources%2FPython_Toolbox_for_Linear_Algebra.ipynb) for examples.*"
   ]
  },
  {
   "cell_type": "markdown",
   "metadata": {
    "id": "brQt6T8gcJML"
   },
   "source": [
    "### Question 1.1"
   ]
  },
  {
   "cell_type": "code",
   "execution_count": 2,
   "metadata": {
    "colab": {
     "base_uri": "https://localhost:8080/"
    },
    "executionInfo": {
     "elapsed": 9,
     "status": "ok",
     "timestamp": 1715538479455,
     "user": {
      "displayName": "Sam Kiser",
      "userId": "00625456763048199201"
     },
     "user_tz": 420
    },
    "id": "JSOrF-QUcG7-",
    "outputId": "cdd30434-098d-40b5-bf0a-64e2b42bc58e"
   },
   "outputs": [
    {
     "name": "stdout",
     "output_type": "stream",
     "text": [
      "The trace of A is ? 3.0\n"
     ]
    }
   ],
   "source": [
    "A = np.array([[1., 1., 5.],  #R0\n",
    "              [0., 2., 2.],  #R1\n",
    "              [1., 0., 0.]]) #R2\n",
    "\n",
    "#complete task here (after calculating by hand)\n",
    "print(\"The trace of A is ?\", np.trace(A)) #I gave you this one"
   ]
  },
  {
   "cell_type": "markdown",
   "metadata": {
    "id": "PnvXcV2VcTXg"
   },
   "source": [
    "### Question 1.2\n",
    "\n"
   ]
  },
  {
   "cell_type": "code",
   "execution_count": 3,
   "metadata": {
    "colab": {
     "base_uri": "https://localhost:8080/"
    },
    "executionInfo": {
     "elapsed": 8,
     "status": "ok",
     "timestamp": 1715538479456,
     "user": {
      "displayName": "Sam Kiser",
      "userId": "00625456763048199201"
     },
     "user_tz": 420
    },
    "id": "P3sRtOWkcX7m",
    "outputId": "ecb8ad91-3b29-423f-85c5-1f42aec80f1f"
   },
   "outputs": [
    {
     "name": "stdout",
     "output_type": "stream",
     "text": [
      "The trace of A is ?\n"
     ]
    }
   ],
   "source": [
    "A = np.array([[7.,     1.45,  5.1],  #R0\n",
    "              [3.566,  22.,   2.4],  #R1\n",
    "              [1.222,  300.5, 1.22]]) #R2\n",
    "\n",
    "#complete task here (after calculating by hand)\n",
    "print(\"The trace of A is ?\") #modify"
   ]
  },
  {
   "cell_type": "markdown",
   "metadata": {
    "id": "8Yfi98_icv4u"
   },
   "source": [
    "## 2. Tranpose of a Matrix\n",
    "\n",
    "What is the transpose of the following matrices? *When you do the coding part, use the `np.transpose()` method or `A.T`. Examples in the [Reference Sheet](https://humboldt.cloudbank.2i2c.cloud/hub/user-redirect/git-pull?repo=https%3A%2F%2Fgithub.com%2Fbludka%2Fengr225-materials-fa2024&branch=main&urlpath=lab%2Ftree%2Fengr225-materials-fa2024%2F00_resources%2FPython_Toolbox_for_Linear_Algebra.ipynb)*"
   ]
  },
  {
   "cell_type": "markdown",
   "metadata": {
    "id": "Er_Sb3Hif3UU"
   },
   "source": [
    "### Question 2.1"
   ]
  },
  {
   "cell_type": "code",
   "execution_count": 4,
   "metadata": {
    "colab": {
     "base_uri": "https://localhost:8080/"
    },
    "executionInfo": {
     "elapsed": 7,
     "status": "ok",
     "timestamp": 1715538479456,
     "user": {
      "displayName": "Sam Kiser",
      "userId": "00625456763048199201"
     },
     "user_tz": 420
    },
    "id": "NgVH3_iFeQs1",
    "outputId": "b0360a2d-c6ae-4a75-acdc-3c05f935ab92"
   },
   "outputs": [
    {
     "name": "stdout",
     "output_type": "stream",
     "text": [
      "The transpose of A is ? \n",
      "\n"
     ]
    }
   ],
   "source": [
    "A = np.array([[3., 1., 0.,-1.],  #R0\n",
    "              [-4.,0., 1., 2.],  #R1\n",
    "              [3., 4., 1.,-3.]]) #R2\n",
    "\n",
    "#complete task here (after calculating by hand)\n",
    "print(\"The transpose of A is ? \\n\")#modify"
   ]
  },
  {
   "cell_type": "markdown",
   "metadata": {
    "id": "sZGaLfJzf6MR"
   },
   "source": [
    "### Question 2.2\n",
    "\n",
    "For this question find ($A^\\text{T}$)$^\\text{T}$. Calculate $A^\\text{T}$ first. Then take the transpose again. Show all steps."
   ]
  },
  {
   "cell_type": "code",
   "execution_count": 5,
   "metadata": {
    "colab": {
     "base_uri": "https://localhost:8080/"
    },
    "executionInfo": {
     "elapsed": 6,
     "status": "ok",
     "timestamp": 1715538479456,
     "user": {
      "displayName": "Sam Kiser",
      "userId": "00625456763048199201"
     },
     "user_tz": 420
    },
    "id": "XuP74E4hf840",
    "outputId": "7764425e-d759-40c6-b0fd-01ce54d8f78c"
   },
   "outputs": [
    {
     "name": "stdout",
     "output_type": "stream",
     "text": [
      "The transpose of the transpose of A is ? \n",
      "\n"
     ]
    }
   ],
   "source": [
    "A = np.array([[0., 2., 5.],  #R0\n",
    "              [1.,-6., 13.], #R1\n",
    "              [2., 0., 0.]]) #R2\n",
    "\n",
    "#complete task here (after calculating by hand)\n",
    "print(\"The transpose of the transpose of A is ? \\n\") #modify"
   ]
  },
  {
   "cell_type": "markdown",
   "metadata": {
    "id": "Afvyds083ZZe"
   },
   "source": [
    "## 3. Matrix Addition"
   ]
  },
  {
   "cell_type": "markdown",
   "metadata": {
    "id": "WJ4rBjgu3cUp"
   },
   "source": [
    "If mathematically possible, add the following matrices together.\n",
    "\n",
    "If the operation is not possible, write on your handwritten sheet \"Not possible because {your reason here}\". You may use the regular addition symbol `+` to perform this task as shown in the [Reference Sheet](https://humboldt.cloudbank.2i2c.cloud/hub/user-redirect/git-pull?repo=https%3A%2F%2Fgithub.com%2Fbludka%2Fengr225-materials-fa2024&branch=main&urlpath=lab%2Ftree%2Fengr225-materials-fa2024%2F00_resources%2FPython_Toolbox_for_Linear_Algebra.ipynb)\n",
    "\n",
    "Similarly, in your code output: `print(\"Not possible because {your reason here}\")`.\n",
    "\n",
    "Hint: use `np.shape()` to check the shape of each matrix\n",
    "\n"
   ]
  },
  {
   "cell_type": "markdown",
   "metadata": {
    "id": "BiEsC-tu4YMF"
   },
   "source": [
    "### Question 3.1"
   ]
  },
  {
   "cell_type": "code",
   "execution_count": 6,
   "metadata": {
    "colab": {
     "base_uri": "https://localhost:8080/"
    },
    "executionInfo": {
     "elapsed": 5,
     "status": "ok",
     "timestamp": 1715538479456,
     "user": {
      "displayName": "Sam Kiser",
      "userId": "00625456763048199201"
     },
     "user_tz": 420
    },
    "id": "7wz_RSug3bnJ",
    "outputId": "df74b5fd-8f42-4d43-8511-59a43b9d5bef"
   },
   "outputs": [
    {
     "name": "stdout",
     "output_type": "stream",
     "text": [
      "A plus B = ?\n",
      "\n"
     ]
    }
   ],
   "source": [
    "A = np.array([[0., 1.],  #R0\n",
    "              [0., 2.],  #R1\n",
    "              [1., 0.]]) #R2\n",
    "\n",
    "B = np.array([[3., 0.],  #R0\n",
    "              [4., 4.],  #R1\n",
    "              [3., 0.]]) #R2\n",
    "\n",
    "#complete task here (after calculating by hand)\n",
    "print(\"A plus B = ?\\n\") #modify"
   ]
  },
  {
   "cell_type": "markdown",
   "metadata": {
    "id": "wilHTjgV4bCP"
   },
   "source": [
    "### Question 3.2"
   ]
  },
  {
   "cell_type": "code",
   "execution_count": 7,
   "metadata": {
    "colab": {
     "base_uri": "https://localhost:8080/"
    },
    "executionInfo": {
     "elapsed": 221,
     "status": "ok",
     "timestamp": 1715538479673,
     "user": {
      "displayName": "Sam Kiser",
      "userId": "00625456763048199201"
     },
     "user_tz": 420
    },
    "id": "K3KGQmar4XPl",
    "outputId": "121b91d8-f6bc-44b1-9ded-2c61b40f03e6"
   },
   "outputs": [
    {
     "name": "stdout",
     "output_type": "stream",
     "text": [
      "A plus B = ?\n",
      "\n"
     ]
    }
   ],
   "source": [
    "A = np.array([[1., 1., 5.],  #R0\n",
    "              [0., 2., 2.],  #R1\n",
    "              [1., 0., 0.]]) #R2\n",
    "\n",
    "B = np.array([[3., 0., 1.],  #R0\n",
    "              [4., 4., 7.]]) #R1\n",
    "\n",
    "#complete task here (after calculating by hand)\n",
    "print(\"A plus B = ?\\n\")#modify"
   ]
  },
  {
   "cell_type": "markdown",
   "metadata": {
    "id": "czmW0miz4z9r"
   },
   "source": [
    "### Question 3.3\n",
    "\n",
    "Python allows this, but it should not if it was truly following linear algebra rules. Why should this not be allowed according to our linear algebra rules?"
   ]
  },
  {
   "cell_type": "code",
   "execution_count": 8,
   "metadata": {
    "colab": {
     "base_uri": "https://localhost:8080/"
    },
    "executionInfo": {
     "elapsed": 18,
     "status": "ok",
     "timestamp": 1715538479674,
     "user": {
      "displayName": "Sam Kiser",
      "userId": "00625456763048199201"
     },
     "user_tz": 420
    },
    "id": "kbGfF_bo5PMk",
    "outputId": "3df1c348-68dd-4577-d453-56f78369456c"
   },
   "outputs": [
    {
     "name": "stdout",
     "output_type": "stream",
     "text": [
      "A plus B = ?\n",
      "\n"
     ]
    }
   ],
   "source": [
    "A = np.array([[6.],  #R0\n",
    "              [0.],  #R1\n",
    "              [1.]]) #R2\n",
    "\n",
    "B = np.array([[3., 0., 1.]]) #R0\n",
    "\n",
    "#complete task here (after calculating by hand)\n",
    "print(\"A plus B = ?\\n\")#modify"
   ]
  },
  {
   "cell_type": "markdown",
   "metadata": {
    "id": "MMnNmDfH5ZJ-"
   },
   "source": [
    "### Question 3.4"
   ]
  },
  {
   "cell_type": "markdown",
   "metadata": {
    "id": "G8JPB1Ts7T_u"
   },
   "source": [
    "Using A and B from Question 3.3, What is A + $B^\\text{T}$?\n",
    "\n",
    "Note: $B^\\text{T}$ is the transpose of B."
   ]
  },
  {
   "cell_type": "code",
   "execution_count": 9,
   "metadata": {
    "colab": {
     "base_uri": "https://localhost:8080/"
    },
    "executionInfo": {
     "elapsed": 17,
     "status": "ok",
     "timestamp": 1715538479674,
     "user": {
      "displayName": "Sam Kiser",
      "userId": "00625456763048199201"
     },
     "user_tz": 420
    },
    "id": "kEOK-j-b5awD",
    "outputId": "8c84ee21-b291-4656-f759-01650312203e"
   },
   "outputs": [
    {
     "name": "stdout",
     "output_type": "stream",
     "text": [
      "A plus B_transpose = ?\n",
      "\n"
     ]
    }
   ],
   "source": [
    "#complete task here (after calculating by hand)\n",
    "print(\"A plus B_transpose = ?\\n\")#modify"
   ]
  },
  {
   "cell_type": "markdown",
   "metadata": {
    "id": "82pUm7ih73vU"
   },
   "source": [
    "## 4. Scalar Multiplication\n",
    "\n",
    "Answer the following scalar multiplication problems. You may use the regular multiplication `*` symbol to perform this task as shown in the [Reference Sheet](https://humboldt.cloudbank.2i2c.cloud/hub/user-redirect/git-pull?repo=https%3A%2F%2Fgithub.com%2Fbludka%2Fengr225-materials-fa2024&branch=main&urlpath=lab%2Ftree%2Fengr225-materials-fa2024%2F00_resources%2FPython_Toolbox_for_Linear_Algebra.ipynb)"
   ]
  },
  {
   "cell_type": "markdown",
   "metadata": {
    "id": "5Pp6mura77Ph"
   },
   "source": [
    "### Question 4.1\n",
    "\n"
   ]
  },
  {
   "cell_type": "code",
   "execution_count": 3,
   "metadata": {
    "colab": {
     "base_uri": "https://localhost:8080/"
    },
    "executionInfo": {
     "elapsed": 16,
     "status": "ok",
     "timestamp": 1715538479674,
     "user": {
      "displayName": "Sam Kiser",
      "userId": "00625456763048199201"
     },
     "user_tz": 420
    },
    "id": "Sv9B7qKu76nL",
    "outputId": "36abbf93-6bbc-4a19-af3a-ffac83c162b0"
   },
   "outputs": [
    {
     "name": "stdout",
     "output_type": "stream",
     "text": [
      "cA = ?\n",
      "\n"
     ]
    }
   ],
   "source": [
    "c = 2 #scalar\n",
    "A = np.array([[0., 1.],  #R0\n",
    "              [0., 2.],  #R1\n",
    "              [1., 0.]]) #R2\n",
    "\n",
    "#complete task here (after calculating by hand)\n",
    "print(\"cA = ?\\n\")#modify"
   ]
  },
  {
   "cell_type": "markdown",
   "metadata": {
    "id": "lwynlSQS857h"
   },
   "source": [
    "### Question 4.2\n",
    "\n"
   ]
  },
  {
   "cell_type": "code",
   "execution_count": 11,
   "metadata": {
    "colab": {
     "base_uri": "https://localhost:8080/"
    },
    "executionInfo": {
     "elapsed": 14,
     "status": "ok",
     "timestamp": 1715538479674,
     "user": {
      "displayName": "Sam Kiser",
      "userId": "00625456763048199201"
     },
     "user_tz": 420
    },
    "id": "lgkROkl08_05",
    "outputId": "197291e3-f73e-4592-cc4b-5d24875497e9"
   },
   "outputs": [
    {
     "name": "stdout",
     "output_type": "stream",
     "text": [
      "cA = ?\n",
      "\n"
     ]
    }
   ],
   "source": [
    "c = 3\n",
    "A = np.array([[3., 0., 1.]])\n",
    "\n",
    "#complete task here (after calculating by hand)\n",
    "print(\"cA = ?\\n\") #modify"
   ]
  },
  {
   "cell_type": "markdown",
   "metadata": {
    "id": "nfqMNcGDHC_h"
   },
   "source": [
    "### Question 4.3"
   ]
  },
  {
   "cell_type": "code",
   "execution_count": null,
   "metadata": {
    "colab": {
     "base_uri": "https://localhost:8080/"
    },
    "executionInfo": {
     "elapsed": 12,
     "status": "ok",
     "timestamp": 1715538479674,
     "user": {
      "displayName": "Sam Kiser",
      "userId": "00625456763048199201"
     },
     "user_tz": 420
    },
    "id": "plAy9nF_HE7S",
    "outputId": "6218bee9-d12d-4d57-fd1e-58b40f545dcf"
   },
   "outputs": [
    {
     "name": "stdout",
     "output_type": "stream",
     "text": [
      "A= [[1. 0. 0. 0.]\n",
      " [0. 1. 0. 0.]\n",
      " [0. 0. 1. 0.]\n",
      " [0. 0. 0. 1.]]\n",
      "cA = ?\n",
      "\n"
     ]
    }
   ],
   "source": [
    "c = 200 #scalar\n",
    "A = np.identity(4) #if you aren't sure what the np.identity function does, print out A to see!\n",
    "\n",
    "#complete task here (after calculating by hand)\n",
    "print(\"cA = ?\\n\") #modify"
   ]
  },
  {
   "cell_type": "markdown",
   "metadata": {
    "id": "Fcz-PiEgHeN1"
   },
   "source": [
    "### Question 4.4"
   ]
  },
  {
   "cell_type": "code",
   "execution_count": null,
   "metadata": {
    "colab": {
     "base_uri": "https://localhost:8080/"
    },
    "executionInfo": {
     "elapsed": 11,
     "status": "ok",
     "timestamp": 1715538479674,
     "user": {
      "displayName": "Sam Kiser",
      "userId": "00625456763048199201"
     },
     "user_tz": 420
    },
    "id": "kB63eWXCHgFz",
    "outputId": "2516b0e1-9fea-4273-d792-d2fd53391399"
   },
   "outputs": [
    {
     "name": "stdout",
     "output_type": "stream",
     "text": [
      "A= [[0. 0.]\n",
      " [0. 0.]\n",
      " [0. 0.]]\n",
      "cA = ?\n",
      "\n"
     ]
    }
   ],
   "source": [
    "c = 9 #scalar\n",
    "A = np.zeros((3,2))#if you aren't sure what the np.zeros function does, print out A to see!\n",
    "\n",
    "#complete task here (after calculating by hand)\n",
    "print(\"cA = ?\\n\") #modify"
   ]
  },
  {
   "cell_type": "markdown",
   "metadata": {
    "id": "NQXKDl5k1fve"
   },
   "source": [
    "## 5. Matrix Multiplication"
   ]
  },
  {
   "cell_type": "markdown",
   "metadata": {
    "id": "uBJTk62V1mGS"
   },
   "source": [
    "Matrices can only be multiplied if their inner dimensions are equal. Multiplying $A$ with dimensions $m$ x $n$, by $B$ with dimensions $n$ x $p$, results in a matrix $AB$ of size $m$ x $p$.\n",
    "\n",
    "<img src=\"https://lh3.googleusercontent.com/pw/ADCreHcSe-OO0Eh4TlZyt0RYkgpbCN79xoF0AUhV7yAJZWp1a-miuOhNnOR_M2zjdX14guNXEhFzT144A-bOzLDoSc_OLo_50S5DNwSIJot7mDI1xsvrDkrfjAXSuXsHIiFgzc0JxZ_6mGEEC2M6TR_w3jcv=w584-h371-s-no?authuser=0\" width=\"350\">"
   ]
  },
  {
   "cell_type": "markdown",
   "metadata": {
    "id": "HmkZAkoGq4D9"
   },
   "source": [
    "Matrix multiplication follows the row-column rule.\n",
    "\n",
    "<img src=\"https://lh3.googleusercontent.com/pw/ADCreHdYJ6RYsDC9eDW-1SuX4Q1MdewyfC4pCMF9r3vOKesFMTrTkqF-JklZSAxXk0p0MVioYObI405XxPpVSVkQayTJsi_Js9-NSrLm932t1gsNvWU680Jrs_4D5n_iJo3HoEu-aZGT8G_8O2BsQy_gDUsk=w1400-h848-s-no?authuser=0\" width=\"350\">\n",
    "\n"
   ]
  },
  {
   "cell_type": "markdown",
   "metadata": {
    "id": "EnfUVIdZ5kXf"
   },
   "source": [
    "Show all steps (as in the figure above) by hand. Check your work using Python where `@` is the operator used for matrix multiplication. (*Examples in the [Reference Sheet](https://humboldt.cloudbank.2i2c.cloud/hub/user-redirect/git-pull?repo=https%3A%2F%2Fgithub.com%2Fbludka%2Fengr225-materials-fa2024&branch=main&urlpath=lab%2Ftree%2Fengr225-materials-fa2024%2F00_resources%2FPython_Toolbox_for_Linear_Algebra.ipynb)*)\n",
    "\n",
    "If the matrices are not conformable for multiplication, write on your handwritten sheet \"Not possible because {your reason here}\".\n",
    "\n",
    "Similarly, in your code output: `print(\"Not possible because {your reason here}\")`.\n",
    "\n",
    "Hint: use `np.shape()` to check the shape of each matrix"
   ]
  },
  {
   "cell_type": "markdown",
   "metadata": {
    "id": "3wni6gAh5qXY"
   },
   "source": [
    "### Question 5.1"
   ]
  },
  {
   "cell_type": "code",
   "execution_count": 14,
   "metadata": {
    "colab": {
     "base_uri": "https://localhost:8080/"
    },
    "executionInfo": {
     "elapsed": 10,
     "status": "ok",
     "timestamp": 1715538479674,
     "user": {
      "displayName": "Sam Kiser",
      "userId": "00625456763048199201"
     },
     "user_tz": 420
    },
    "id": "2swCwbCt6L9G",
    "outputId": "0f7803ea-7740-43f2-fc0d-f7d8ba038f9a"
   },
   "outputs": [
    {
     "name": "stdout",
     "output_type": "stream",
     "text": [
      "A matrix mult B = ?\n",
      "\n"
     ]
    }
   ],
   "source": [
    "A = np.array([[2., 3.],  #R0\n",
    "              [1., 4.]]) #R1\n",
    "\n",
    "B = np.array([[5., 1.],  #R0\n",
    "              [2., 3.]]) #R1\n",
    "\n",
    "#complete task here (after calculating by hand)\n",
    "print(\"A matrix mult B = ?\\n\")#modify"
   ]
  },
  {
   "cell_type": "markdown",
   "metadata": {
    "id": "iq3pLeVL63fi"
   },
   "source": [
    "### Question 5.2\n"
   ]
  },
  {
   "cell_type": "code",
   "execution_count": 15,
   "metadata": {
    "colab": {
     "base_uri": "https://localhost:8080/"
    },
    "executionInfo": {
     "elapsed": 10,
     "status": "ok",
     "timestamp": 1715538479675,
     "user": {
      "displayName": "Sam Kiser",
      "userId": "00625456763048199201"
     },
     "user_tz": 420
    },
    "id": "JhPA7x2168LF",
    "outputId": "b55beecc-1ad6-4f51-9dbc-51ea493d90b4"
   },
   "outputs": [
    {
     "name": "stdout",
     "output_type": "stream",
     "text": [
      "A matrix mult B = ?\n",
      "\n"
     ]
    }
   ],
   "source": [
    "A = np.array([[1., 2.], #R0\n",
    "              [3., 4.], #R1\n",
    "              [5., 6.]])#R2\n",
    "\n",
    "B = np.array([[2., 1., 3.],  #R0\n",
    "              [4., 2., 1.]]) #R1\n",
    "\n",
    "#complete task here (after calculating by hand)\n",
    "print(\"A matrix mult B = ?\\n\")#modify"
   ]
  },
  {
   "cell_type": "markdown",
   "metadata": {
    "id": "_93hcGs8-IDH"
   },
   "source": [
    "### Question 5.3"
   ]
  },
  {
   "cell_type": "code",
   "execution_count": 16,
   "metadata": {
    "colab": {
     "base_uri": "https://localhost:8080/"
    },
    "executionInfo": {
     "elapsed": 8,
     "status": "ok",
     "timestamp": 1715538479675,
     "user": {
      "displayName": "Sam Kiser",
      "userId": "00625456763048199201"
     },
     "user_tz": 420
    },
    "id": "IDL3xWn--9cL",
    "outputId": "415a2d61-a535-49b2-ee36-18773a958bc2"
   },
   "outputs": [
    {
     "name": "stdout",
     "output_type": "stream",
     "text": [
      "A matrix mult B = ?\n",
      "\n"
     ]
    }
   ],
   "source": [
    "A = np.array([[1., 0., -1, 2.,], #R0\n",
    "              [2., 1., 1., -3]])#R1\n",
    "\n",
    "B = np.array([[-1., -1., 0., 3], #R0\n",
    "              [1., 0., 2., -1]]) #R1\n",
    "\n",
    "#complete task here (after calculating by hand)\n",
    "print(\"A matrix mult B = ?\\n\")#modify"
   ]
  },
  {
   "cell_type": "markdown",
   "metadata": {
    "id": "CJZQih5F_cq1"
   },
   "source": [
    "## 6. More Matrix Multiplication\n",
    "\n",
    "Use the following matrices for your calculations in this section:\n",
    "\n",
    "<img src=\"https://lh3.googleusercontent.com/pw/AP1GczM09KNAvcMl94MDU0lB5Zy5Sgtku7FV087rMLdIiwVo_pTQyQWw3c8DU4Rvh0DqVjbebcg_1AMJDt5pQ5F2C9TgpJUSYdWYr1-WnFnznNg8grvspqsj8Bi-hwG6jo2OPW3eKfNaht6nCQy5uasn_aZI=w1062-h184-s-no-gm?authuser=0\" width=\"500\">\n",
    "\n",
    "Show all steps (as in the previous problems) by hand. Check your work using Python where `@` is the operator used for matrix multiplication. (*Examples in the [Reference Sheet](https://humboldt.cloudbank.2i2c.cloud/hub/user-redirect/git-pull?repo=https%3A%2F%2Fgithub.com%2Fbludka%2Fengr225-materials-fa2024&branch=main&urlpath=lab%2Ftree%2Fengr225-materials-fa2024%2F00_resources%2FPython_Toolbox_for_Linear_Algebra.ipynb)*)\n",
    "\n",
    "If the matrices are not conformable for multiplication, write on your handwritten sheet \"Not possible because {your reason here}\".\n",
    "\n",
    "Similarly, in your code output: `print(\"Not possible because {your reason here}\")`.\n",
    "\n",
    "Hint: use `np.shape()` to check the shape of each matrix"
   ]
  },
  {
   "cell_type": "markdown",
   "metadata": {
    "id": "gdeqM000AmUx"
   },
   "source": [
    "### Question 6.1\n",
    "\n",
    "$BC = ?$"
   ]
  },
  {
   "cell_type": "code",
   "execution_count": 17,
   "metadata": {
    "executionInfo": {
     "elapsed": 7,
     "status": "ok",
     "timestamp": 1715538479675,
     "user": {
      "displayName": "Sam Kiser",
      "userId": "00625456763048199201"
     },
     "user_tz": 420
    },
    "id": "lqjeYOn7AxKv"
   },
   "outputs": [],
   "source": [
    "# your code here (after calculating by hand)"
   ]
  },
  {
   "cell_type": "markdown",
   "metadata": {
    "id": "x68HRccHAyo8"
   },
   "source": [
    "### Question 6.2\n",
    "\n",
    "$C^TB =?$"
   ]
  },
  {
   "cell_type": "code",
   "execution_count": 18,
   "metadata": {
    "executionInfo": {
     "elapsed": 7,
     "status": "ok",
     "timestamp": 1715538479675,
     "user": {
      "displayName": "Sam Kiser",
      "userId": "00625456763048199201"
     },
     "user_tz": 420
    },
    "id": "PB8A361SAz1b"
   },
   "outputs": [],
   "source": [
    "# your code here (after calculating by hand)"
   ]
  },
  {
   "cell_type": "markdown",
   "metadata": {
    "id": "NhNd-va9BCw4"
   },
   "source": [
    "### Question 6.3\n",
    "\n",
    "$3AB - 5D =?$"
   ]
  },
  {
   "cell_type": "code",
   "execution_count": 19,
   "metadata": {
    "executionInfo": {
     "elapsed": 6,
     "status": "ok",
     "timestamp": 1715538479675,
     "user": {
      "displayName": "Sam Kiser",
      "userId": "00625456763048199201"
     },
     "user_tz": 420
    },
    "id": "b8pSUAUSBNw1"
   },
   "outputs": [],
   "source": [
    "# your code here (after calculating by hand)"
   ]
  },
  {
   "cell_type": "markdown",
   "metadata": {
    "id": "Cva5AEE6BVdU"
   },
   "source": [
    "### Question 6.4\n",
    "\n",
    "$D(C+B)=?$"
   ]
  },
  {
   "cell_type": "code",
   "execution_count": 20,
   "metadata": {
    "executionInfo": {
     "elapsed": 6,
     "status": "ok",
     "timestamp": 1715538479675,
     "user": {
      "displayName": "Sam Kiser",
      "userId": "00625456763048199201"
     },
     "user_tz": 420
    },
    "id": "sXsLch7mBYlX"
   },
   "outputs": [],
   "source": [
    "# your code here (after calculating by hand)"
   ]
  },
  {
   "cell_type": "markdown",
   "metadata": {
    "id": "qb4wPcVTCwZh"
   },
   "source": [
    "## 7. Inverse of a 2x2 Matrix"
   ]
  },
  {
   "cell_type": "markdown",
   "metadata": {
    "id": "NTBl9aAhC5Ui"
   },
   "source": [
    "Calculate the inverse of the following 2x2 Matrices using the following formula:\n",
    "\n",
    "<img src=\"https://lh3.googleusercontent.com/pw/AP1GczOtLKgq_Yp-2awvNmyM3PdKoeCVpRlwrTwUM0A0XaaAgajeIbecQGwqS-xddDn2p8NR77hikFwRpUa7l9lTnfHtIsN25X7eQ2XtdbKyWTMl8_EHO_jAReBJ4F8qAKpOclub1lmer-dyjZ1OLrdLCUgB=w643-h217-s-no-gm?authuser=0\" width=\"500\">\n",
    "\n",
    "If the determinant is zero, print to the screen `print(\"Singular Matrix. The inverse does not exist because the determinant is zero and division by zero is not allowed!\")`.\n",
    "\n",
    "Show all steps by hand. **Check your work in Python using TWO methods**:\n",
    "\n",
    "* `np.linalg.inv()` (*Examples in the [Reference Sheet](https://humboldt.cloudbank.2i2c.cloud/hub/user-redirect/git-pull?repo=https%3A%2F%2Fgithub.com%2Fbludka%2Fengr225-materials-fa2024&branch=main&urlpath=lab%2Ftree%2Fengr225-materials-fa2024%2F00_resources%2FPython_Toolbox_for_Linear_Algebra.ipynb)*)\n",
    "* If the inverse exists, multiply the original matrix by it's inverse using the `@` symbol to make sure the Identity Matrix is returned."
   ]
  },
  {
   "cell_type": "markdown",
   "metadata": {
    "id": "viShe7iQHai0"
   },
   "source": [
    "### Question 7.1\n",
    "\n",
    "Find $A^{-1}$"
   ]
  },
  {
   "cell_type": "code",
   "execution_count": 21,
   "metadata": {
    "executionInfo": {
     "elapsed": 6,
     "status": "ok",
     "timestamp": 1715538479675,
     "user": {
      "displayName": "Sam Kiser",
      "userId": "00625456763048199201"
     },
     "user_tz": 420
    },
    "id": "0IrqKk8HFNY-"
   },
   "outputs": [],
   "source": [
    "A = np.array([[2., 4.],\n",
    "              [1., 2.]])\n",
    "#your code here (after completing it by hand)\n",
    "# check using both methods!"
   ]
  },
  {
   "cell_type": "markdown",
   "metadata": {
    "id": "pE3Wr__HH8Bn"
   },
   "source": [
    "### Question 7.2\n",
    "\n",
    "Find $B^{-1}$"
   ]
  },
  {
   "cell_type": "code",
   "execution_count": 22,
   "metadata": {
    "executionInfo": {
     "elapsed": 6,
     "status": "ok",
     "timestamp": 1715538479675,
     "user": {
      "displayName": "Sam Kiser",
      "userId": "00625456763048199201"
     },
     "user_tz": 420
    },
    "id": "6QLyw6giH-IY"
   },
   "outputs": [],
   "source": [
    "B = np.array([[2., 3.],\n",
    "              [1., 4.]])\n",
    "#your code here (after completing it by hand)\n",
    "# check using both methods!"
   ]
  },
  {
   "cell_type": "markdown",
   "metadata": {
    "id": "hlc9a_GNIO1B"
   },
   "source": [
    "### Question 7.3\n",
    "\n",
    "Find $C^{-1}$"
   ]
  },
  {
   "cell_type": "code",
   "execution_count": 23,
   "metadata": {
    "executionInfo": {
     "elapsed": 5,
     "status": "ok",
     "timestamp": 1715538479675,
     "user": {
      "displayName": "Sam Kiser",
      "userId": "00625456763048199201"
     },
     "user_tz": 420
    },
    "id": "_a9tBKksISw3"
   },
   "outputs": [],
   "source": [
    "C = np.array([[3., 1.],\n",
    "              [2., 5.]])\n",
    "#your code here (after completing it by hand)\n",
    "# check using both methods!"
   ]
  },
  {
   "cell_type": "markdown",
   "metadata": {
    "id": "RaimYdEfIi0F"
   },
   "source": [
    "### Question 7.4\n",
    "\n",
    "Write a user function called `mat_inv()` that calculates the inverse of a 2x2 matrix *using the formula provided above*. The function takes a numpy array as an argument and returns the inverse as another numpy array. Call your function to make sure it works. (You do not need to do this one by hand, but since you already have your drawing kit out, it could be a good opportunity to make a flow chart!)\n",
    "\n",
    "If the user provides an argument that is NOT a 2x2 matrix, print `\"The matrix must be 2x2.\"` and return nothing.\n",
    "\n",
    "If the matrix does not have an inverse print `\"Singular Matrix. The inverse does not exist because the determinant is zero and division by zero is not allowed!\")` and return *nothing*."
   ]
  },
  {
   "cell_type": "code",
   "execution_count": 24,
   "metadata": {
    "executionInfo": {
     "elapsed": 6,
     "status": "ok",
     "timestamp": 1715538479676,
     "user": {
      "displayName": "Sam Kiser",
      "userId": "00625456763048199201"
     },
     "user_tz": 420
    },
    "id": "YUBHiJBgI8q4"
   },
   "outputs": [],
   "source": [
    "# your code here"
   ]
  },
  {
   "cell_type": "markdown",
   "metadata": {},
   "source": [
    "## 8. Gaussian Elimination\n",
    "\n",
    "### Question 8.1\n",
    "\n",
    "Solve this system of equations by hand using [Gassian Elimination](https://humboldt.cloudbank.2i2c.cloud/hub/user-redirect/git-pull?repo=https%3A%2F%2Fgithub.com%2Fbludka%2Fengr225-materials-fa2024&branch=main&urlpath=lab%2Ftree%2Fengr225-materials-fa2024%2F00_resources%2FElimination_Methods_for_Systems_of_Equations_with_Unique_Solution.ipynb)\n",
    "\n",
    "$x_1+2x_2−x_3=3$\n",
    "\n",
    "$2x_1−x_2+x_3=1$\n",
    "\n",
    "$x_1+x_2+x_3=6$\n",
    "​\n",
    "\n",
    "Check your row operations using Python. I recommend doing this check after completing each row operation as you go.\n"
   ]
  },
  {
   "cell_type": "code",
   "execution_count": null,
   "metadata": {},
   "outputs": [],
   "source": [
    "# check your work here"
   ]
  },
  {
   "cell_type": "markdown",
   "metadata": {},
   "source": [
    "You are done!\n",
    "\n",
    "Two files are required for submission:\n",
    "\n",
    "* One single PDF file of your hand written solutions\n",
    "  * Use [AdobeScan](https://acrobat.adobe.com/us/en/mobile/scanner-app.html) on your phone in order to convert pictures into **one single** PDF file\n",
    "* Notebook (.ipynb) file of your programmed solutions. "
   ]
  }
 ],
 "metadata": {
  "colab": {
   "provenance": [
    {
     "file_id": "1I3ulJltGAnrzJHLN73FO1FFomhDSp23Z",
     "timestamp": 1712045318687
    }
   ]
  },
  "kernelspec": {
   "display_name": "engr225",
   "language": "python",
   "name": "python3"
  },
  "language_info": {
   "codemirror_mode": {
    "name": "ipython",
    "version": 3
   },
   "file_extension": ".py",
   "mimetype": "text/x-python",
   "name": "python",
   "nbconvert_exporter": "python",
   "pygments_lexer": "ipython3",
   "version": "3.11.7"
  }
 },
 "nbformat": 4,
 "nbformat_minor": 0
}
