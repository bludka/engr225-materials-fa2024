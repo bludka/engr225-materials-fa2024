{
 "cells": [
  {
   "cell_type": "markdown",
   "metadata": {
    "id": "F4FJDbpJ4xqU"
   },
   "source": [
    "# Lab Week 14 Part 2: LU Decomposition\n",
    "\n",
    "**You will only turn in your HANDWRITTEN answers for this notebook.**\n",
    "\n",
    "**I have provided code in this notebook that will help you check your answers in Python if you wish to do so.**\n",
    "\n",
    "You are encouraged to use:\n",
    "* [Python for Linear Algebra Reference Sheet](https://humboldt.cloudbank.2i2c.cloud/hub/user-redirect/git-pull?repo=https%3A%2F%2Fgithub.com%2Fbludka%2Fengr225-materials-fa2024&branch=main&urlpath=lab%2Ftree%2Fengr225-materials-fa2024%2F00_resources%2FPython_Toolbox_for_Linear_Algebra.ipynb)\n",
    "* [Methods to Solve Systems of Equations Review](https://humboldt.cloudbank.2i2c.cloud/hub/user-redirect/git-pull?repo=https%3A%2F%2Fgithub.com%2Fbludka%2Fengr225-materials-fa2024&branch=main&urlpath=lab%2Ftree%2Fengr225-materials-fa2024%2F00_resources%2FSolving_Systems_of_Eqns_Review.ipynb)\n"
   ]
  },
  {
   "cell_type": "markdown",
   "metadata": {
    "id": "MR8KxPLZ_V2d"
   },
   "source": [
    "Run the following code to import numpy and chose a more convenient output format"
   ]
  },
  {
   "cell_type": "code",
   "execution_count": 2,
   "metadata": {
    "id": "RoyqfTz__YAQ"
   },
   "outputs": [],
   "source": [
    "import numpy as np\n",
    "np.set_printoptions(precision=4,suppress=True)"
   ]
  },
  {
   "cell_type": "markdown",
   "metadata": {
    "id": "EXAfbUY245Ns"
   },
   "source": [
    "## 1. Elementary Matrices\n",
    "\n",
    "An **elementary matrix**, $E$, is a matrix that **represents an elementary row operation**.\n",
    "\n",
    "An elementary matrix is obtained by performing a row operation on the identity matrix.\n",
    "\n",
    "Multiplying $E$ on the LEFT of another matrix (let's call it $A$) is equivalent to performing a row operation on $A$.\n"
   ]
  },
  {
   "cell_type": "markdown",
   "metadata": {
    "id": "5yKzFcjH-jDS"
   },
   "source": [
    "### 1.1 Switching Rows\n",
    "\n",
    "Let's look at an example of an elementary matrix that represents a row switch.\n",
    "\n",
    "Start with the identity matrix\n",
    "\n",
    "$ I = \\begin{bmatrix}\n",
    "1 & 0 & 0\\\\\n",
    "0 & 1 & 0 \\\\\n",
    "0 & 0 & 1\n",
    "\\end{bmatrix} $\n",
    "\n",
    "\n",
    "Apply a row switch operation\n",
    "$ {R}_0 \\leftrightarrow \\text{R}_1 $\n",
    "\n",
    "The matrix becomes:\n",
    "\n",
    "$E_{switchR0R1} = \\begin{bmatrix}\n",
    "0 & 1 & 0\\\\\n",
    "1 & 0 & 0 \\\\\n",
    "0 & 0 & 1\n",
    "\\end{bmatrix}$"
   ]
  },
  {
   "cell_type": "code",
   "execution_count": null,
   "metadata": {
    "colab": {
     "base_uri": "https://localhost:8080/"
    },
    "executionInfo": {
     "elapsed": 183,
     "status": "ok",
     "timestamp": 1698726664615,
     "user": {
      "displayName": "Bonnie Ludka",
      "userId": "16620433016455303136"
     },
     "user_tz": 420
    },
    "id": "UAklgUqW_Ocy",
    "outputId": "c778ff2a-095d-41e4-ca9a-04d9e5e30882"
   },
   "outputs": [
    {
     "name": "stdout",
     "output_type": "stream",
     "text": [
      "[[0. 1. 0.]\n",
      " [1. 0. 0.]\n",
      " [0. 0. 1.]]\n"
     ]
    }
   ],
   "source": [
    "#Using Python:\n",
    "I = np.identity(3)\n",
    "R0 = np.copy(I[0,:])\n",
    "R1 = np.copy(I[1,:])\n",
    "E = np.copy(I)\n",
    "E[1,:] = R0\n",
    "E[0,:] = R1\n",
    "print(E)"
   ]
  },
  {
   "cell_type": "markdown",
   "metadata": {
    "id": "KNheZEKOALTp"
   },
   "source": [
    "Test your elementry matrix by multiplying it on the LEFT side of another matrix of the same size.\n",
    "\n",
    "$EA=?$\n",
    "\n",
    "Did it switch the rows of $A$?\n",
    "\n",
    "$ {R}_0 \\leftrightarrow \\text{R}_1 $?"
   ]
  },
  {
   "cell_type": "code",
   "execution_count": null,
   "metadata": {
    "colab": {
     "base_uri": "https://localhost:8080/"
    },
    "executionInfo": {
     "elapsed": 140,
     "status": "ok",
     "timestamp": 1698726984389,
     "user": {
      "displayName": "Bonnie Ludka",
      "userId": "16620433016455303136"
     },
     "user_tz": 420
    },
    "id": "qFWJpRLKBAMH",
    "outputId": "0d509181-f1e7-43ce-f1f5-1c952871add4"
   },
   "outputs": [
    {
     "name": "stdout",
     "output_type": "stream",
     "text": [
      "[[0. 2. 2.]\n",
      " [1. 1. 5.]\n",
      " [1. 0. 0.]]\n"
     ]
    }
   ],
   "source": [
    "A = np.array([[1., 1., 5.],  #R0\n",
    "              [0., 2., 2.],  #R1\n",
    "              [1., 0., 0.]]) #R2\n",
    "\n",
    "print(E@A)"
   ]
  },
  {
   "cell_type": "markdown",
   "metadata": {
    "id": "CQwc5UxlADit"
   },
   "source": [
    "#### Question 1.1.1 - [2pts]\n",
    "\n",
    "Following the example above...\n",
    "\n",
    "a.) What is the 3x3 Elementary Matrix that represents the following row switch?:\n",
    "\n",
    "$$ {R}_0 \\leftrightarrow \\text{R}_2 $$\n",
    "\n",
    "Then, show how to derive this Elementary Matrix, starting from the 3x3 Idenity matrix."
   ]
  },
  {
   "cell_type": "code",
   "execution_count": 4,
   "metadata": {
    "id": "rgyqQtuCDV6e"
   },
   "outputs": [
    {
     "name": "stdout",
     "output_type": "stream",
     "text": [
      "[[0. 0. 1.]\n",
      " [0. 1. 0.]\n",
      " [1. 0. 0.]]\n"
     ]
    }
   ],
   "source": [
    "#You can check your answer here\n",
    "I = np.identity(3)\n",
    "R0 = np.copy(I[0,:])\n",
    "R2 = np.copy(I[2,:])\n",
    "E = np.copy(I)\n",
    "E[2,:] = R0\n",
    "E[0,:] = R2\n",
    "print(E)"
   ]
  },
  {
   "cell_type": "markdown",
   "metadata": {
    "id": "qj0A3scpDbNP"
   },
   "source": [
    "b.) Multiply your elementary matrix by another 3x3 matrix (you can make it up) to test if your elementry matrix works the way you think it should work. Do this by hand (showing all steps). \n",
    "\n",
    "If you would like to check your work using Python, use the @ operator for matrix multiplication.\n",
    "\n",
    "Note: Make sure your work is useful for our task. (Please don't just multiply by a zero matrix. You won't receive points for something like that.)"
   ]
  },
  {
   "cell_type": "code",
   "execution_count": 5,
   "metadata": {
    "id": "XvM97InEEzUr"
   },
   "outputs": [
    {
     "name": "stdout",
     "output_type": "stream",
     "text": [
      "[[7. 8. 9.]\n",
      " [4. 5. 6.]\n",
      " [1. 2. 3.]]\n"
     ]
    }
   ],
   "source": [
    "#You can check your answer here\n",
    "A = np.array([[1,2,3],\n",
    "             [4,5,6],\n",
    "             [7,8,9]])\n",
    "print(E@A)"
   ]
  },
  {
   "cell_type": "markdown",
   "metadata": {
    "id": "zfN0RoXP-DJ2"
   },
   "source": [
    "As a reminder,\n",
    "\n",
    "Matrices can only be multiplied if their inner dimensions are equal. Multiplying $A$ with dimensions $m$ x $n$, by $B$ with dimensions $n$ x $p$, results in a matrix $AB$ of size $m$ x $p$.\n",
    "\n",
    "<img src=\"https://lh3.googleusercontent.com/pw/ADCreHcSe-OO0Eh4TlZyt0RYkgpbCN79xoF0AUhV7yAJZWp1a-miuOhNnOR_M2zjdX14guNXEhFzT144A-bOzLDoSc_OLo_50S5DNwSIJot7mDI1xsvrDkrfjAXSuXsHIiFgzc0JxZ_6mGEEC2M6TR_w3jcv=w584-h371-s-no?authuser=0\" width=\"350\">\n",
    "\n",
    "Matrix multiplication follows the row-column rule.\n",
    "\n",
    "<img src=\"https://lh3.googleusercontent.com/pw/ADCreHdYJ6RYsDC9eDW-1SuX4Q1MdewyfC4pCMF9r3vOKesFMTrTkqF-JklZSAxXk0p0MVioYObI405XxPpVSVkQayTJsi_Js9-NSrLm932t1gsNvWU680Jrs_4D5n_iJo3HoEu-aZGT8G_8O2BsQy_gDUsk=w1400-h848-s-no?authuser=0\" width=\"350\">\n",
    "\n",
    "***When I ask you to show all your matrix multiplication steps by hand, please do it like the example figure above.***"
   ]
  },
  {
   "cell_type": "markdown",
   "metadata": {
    "id": "awSrj071FF6n"
   },
   "source": [
    "### 1.2 Multiply a row by a non-zero number\n",
    "\n",
    "Let's look at an example of an elementary matrix that represents multiplying a row by a non-zero number.\n",
    "\n",
    "Start with the identity matrix\n",
    "\n",
    "$ I = \\begin{bmatrix}\n",
    "1 & 0 & 0\\\\\n",
    "0 & 1 & 0 \\\\\n",
    "0 & 0 & 1\n",
    "\\end{bmatrix} $\n",
    "\n",
    "\n",
    "Apply the row operation\n",
    "$$ 3\\text{R}_1 \\rightarrow \\text{R}_1 $$\n",
    "\n",
    "The matrix becomes:\n",
    "\n",
    "$E_{3R1} = \\begin{bmatrix}\n",
    "1 & 0 & 0\\\\\n",
    "0 & 3 & 0 \\\\\n",
    "0 & 0 & 1\n",
    "\\end{bmatrix}$"
   ]
  },
  {
   "cell_type": "code",
   "execution_count": null,
   "metadata": {
    "colab": {
     "base_uri": "https://localhost:8080/"
    },
    "executionInfo": {
     "elapsed": 146,
     "status": "ok",
     "timestamp": 1698728397156,
     "user": {
      "displayName": "Bonnie Ludka",
      "userId": "16620433016455303136"
     },
     "user_tz": 420
    },
    "id": "bSPSgnavGMqv",
    "outputId": "522465eb-e686-4849-c5e6-d2f0f1820db9"
   },
   "outputs": [
    {
     "name": "stdout",
     "output_type": "stream",
     "text": [
      "[[1. 0. 0.]\n",
      " [0. 3. 0.]\n",
      " [0. 0. 1.]]\n"
     ]
    }
   ],
   "source": [
    "#Using Python\n",
    "I = np.identity(3)\n",
    "E = np.copy(I)\n",
    "E[1,:] = 3*E[1,:]\n",
    "print(E)"
   ]
  },
  {
   "cell_type": "markdown",
   "metadata": {
    "id": "Rd9GkrOWGwPF"
   },
   "source": [
    "Test your elementry matrix by multiplying it on the left side of another matrix of the same size.\n",
    "\n",
    "$EA=?$\n",
    "\n",
    "Did it multiply the middle row by 3?\n",
    "\n",
    "$ 3\\text{R}_1 \\rightarrow \\text{R}_1 $?"
   ]
  },
  {
   "cell_type": "code",
   "execution_count": null,
   "metadata": {
    "colab": {
     "base_uri": "https://localhost:8080/"
    },
    "executionInfo": {
     "elapsed": 143,
     "status": "ok",
     "timestamp": 1698728538894,
     "user": {
      "displayName": "Bonnie Ludka",
      "userId": "16620433016455303136"
     },
     "user_tz": 420
    },
    "id": "J_EzaVTCHGpN",
    "outputId": "e256d42d-3522-4d76-9c91-39b7899c778f"
   },
   "outputs": [
    {
     "name": "stdout",
     "output_type": "stream",
     "text": [
      "[[1. 1. 5.]\n",
      " [0. 6. 6.]\n",
      " [1. 0. 0.]]\n"
     ]
    }
   ],
   "source": [
    "A = np.array([[1., 1., 5.],  #R0\n",
    "              [0., 2., 2.],  #R1\n",
    "              [1., 0., 0.]]) #R2\n",
    "\n",
    "print(E@A)"
   ]
  },
  {
   "cell_type": "markdown",
   "metadata": {
    "id": "nPwrLKgjHIoA"
   },
   "source": [
    "#### Question 1.2.1 - [2pts]\n",
    "a.) What is the 3x3 Elementary Matrix that represents multiplying the last row by 2?\n",
    "$$ 2\\text{R}_2 \\rightarrow \\text{R}_2 $$\n",
    "\n",
    "\n",
    "Then, show how to derive this Elementary Matrix, starting from the 3x3 Idenity matrix."
   ]
  },
  {
   "cell_type": "code",
   "execution_count": 7,
   "metadata": {
    "id": "CBtDwfpEHcH4"
   },
   "outputs": [
    {
     "name": "stdout",
     "output_type": "stream",
     "text": [
      "[[1. 0. 0.]\n",
      " [0. 1. 0.]\n",
      " [0. 0. 2.]]\n"
     ]
    }
   ],
   "source": [
    "#You can check your answer here\n",
    "I = np.identity(3)\n",
    "E = np.copy(I)\n",
    "E[2,:] = 2*E[2,:]\n",
    "print(E)"
   ]
  },
  {
   "cell_type": "markdown",
   "metadata": {
    "id": "YPplJE48HdQ4"
   },
   "source": [
    "b.) Multiply your elementary matrix by another 3x3 matrix (you can make it up) to test if your elementry matrix works the way you think it should work. \n",
    "\n",
    "If you would like to check your work using Python, use the @ operator for matrix multiplication."
   ]
  },
  {
   "cell_type": "code",
   "execution_count": 8,
   "metadata": {
    "id": "nbpKq_9YH1AL"
   },
   "outputs": [
    {
     "name": "stdout",
     "output_type": "stream",
     "text": [
      "[[ 1.  2.  3.]\n",
      " [ 4.  5.  6.]\n",
      " [14. 16. 18.]]\n"
     ]
    }
   ],
   "source": [
    "#You can check your answer here\n",
    "A = np.array([[1,2,3],\n",
    "             [4,5,6],\n",
    "             [7,8,9]])\n",
    "print(E@A)"
   ]
  },
  {
   "cell_type": "markdown",
   "metadata": {
    "id": "Z8cLALByIL5M"
   },
   "source": [
    "### 1.3 Replace a row by itself plus multiple of another row\n",
    "\n",
    "Let's look at an example of an elementary matrix that represents replacing a row by itself plus a multiple of another row.\n",
    "\n",
    "Start with the identity matrix\n",
    "\n",
    "$ I = \\begin{bmatrix}\n",
    "1 & 0 & 0\\\\\n",
    "0 & 1 & 0 \\\\\n",
    "0 & 0 & 1\n",
    "\\end{bmatrix} $\n",
    "\n",
    "Apply the row operation\n",
    "$$ 2 \\text{R}_0 + \\text{R}_2 \\rightarrow \\text{R}_2 $$\n",
    "\n",
    "The matrix becomes:\n",
    "\n",
    "$E_{R2+2*R0} = \\begin{bmatrix}\n",
    "1 & 0 & 0\\\\\n",
    "0 & 1 & 0 \\\\\n",
    "2 & 0 & 1\n",
    "\\end{bmatrix}$"
   ]
  },
  {
   "cell_type": "code",
   "execution_count": 10,
   "metadata": {
    "colab": {
     "base_uri": "https://localhost:8080/"
    },
    "executionInfo": {
     "elapsed": 148,
     "status": "ok",
     "timestamp": 1698729154671,
     "user": {
      "displayName": "Bonnie Ludka",
      "userId": "16620433016455303136"
     },
     "user_tz": 420
    },
    "id": "Omz3HzZuJXAV",
    "outputId": "d842f4bf-e9c0-4b06-8e0c-f9d796656998"
   },
   "outputs": [
    {
     "name": "stdout",
     "output_type": "stream",
     "text": [
      "[[1. 0. 0.]\n",
      " [0. 1. 0.]\n",
      " [2. 0. 1.]]\n"
     ]
    }
   ],
   "source": [
    "#Using Python\n",
    "I = np.identity(3)\n",
    "E = np.copy(I)\n",
    "E[2,:] = 2*E[0,:] + E[2,:]\n",
    "print(E)"
   ]
  },
  {
   "cell_type": "markdown",
   "metadata": {
    "id": "M-OJgvIQJiQB"
   },
   "source": [
    "Test your elementry matrix by multiplying it on the left side of another matrix of the same size.\n",
    "\n",
    "$EA=?$\n",
    "\n",
    "Did it perform the expected row operation?\n",
    "\n",
    "$ \\text{R}_2 + 2 \\text{R}_0 \\rightarrow \\text{R}_2 $?"
   ]
  },
  {
   "cell_type": "code",
   "execution_count": null,
   "metadata": {
    "colab": {
     "base_uri": "https://localhost:8080/"
    },
    "executionInfo": {
     "elapsed": 278,
     "status": "ok",
     "timestamp": 1698729248830,
     "user": {
      "displayName": "Bonnie Ludka",
      "userId": "16620433016455303136"
     },
     "user_tz": 420
    },
    "id": "lGBziHr5Jz8R",
    "outputId": "87788e7a-db80-45e8-cb65-7837da336a33"
   },
   "outputs": [
    {
     "name": "stdout",
     "output_type": "stream",
     "text": [
      "[[ 1.  1.  5.]\n",
      " [ 0.  2.  2.]\n",
      " [ 3.  2. 10.]]\n"
     ]
    }
   ],
   "source": [
    "A = np.array([[1., 1., 5.],  #R0\n",
    "              [0., 2., 2.],  #R1\n",
    "              [1., 0., 0.]]) #R2\n",
    "\n",
    "print(E@A)"
   ]
  },
  {
   "cell_type": "markdown",
   "metadata": {
    "id": "NLZ_qcN8Ui39"
   },
   "source": [
    "Here is a video about these types of Elementary Matrices in case you find it helpful:\n",
    "\n",
    "https://www.youtube.com/watch?v=Nxs_OARoUgE&list=PLkZjai-2Jcxlg-Z1roB0pUwFU-P58tvOx&index=14\n",
    "\n"
   ]
  },
  {
   "cell_type": "markdown",
   "metadata": {
    "id": "hGTvjUIjJ5Wz"
   },
   "source": [
    "#### Question 1.3.1 - [2pts]\n",
    "\n",
    "a.) What is the 3x3 Elementary Matrix that represents the following row operation?:\n",
    "$$ - 4 \\text{R}_1 + \\text{R}_0  \\rightarrow \\text{R}_0 $$\n",
    "\n",
    "\n",
    "Then, show how to derive this Elementary Matrix, starting from the 3x3 Idenity matrix."
   ]
  },
  {
   "cell_type": "code",
   "execution_count": 13,
   "metadata": {
    "id": "FpCAAKniKYiu"
   },
   "outputs": [
    {
     "name": "stdout",
     "output_type": "stream",
     "text": [
      "[[ 1. -4.  0.]\n",
      " [ 0.  1.  0.]\n",
      " [ 0.  0.  1.]]\n"
     ]
    }
   ],
   "source": [
    "#You can check your answer here\n",
    "I = np.identity(3)\n",
    "E = np.copy(I)\n",
    "E[0,:] = -4*E[1,:] + E[0,:]\n",
    "print(E)"
   ]
  },
  {
   "cell_type": "markdown",
   "metadata": {
    "id": "SOPckMXJKbP9"
   },
   "source": [
    "b.) Multiply your elementary matrix by another 3x3 matrix (you can make it up) to test if your elementry matrix works the way you think it should work. \n",
    "\n",
    "If you would like to check your work using Python, use the @ operator for matrix multiplication."
   ]
  },
  {
   "cell_type": "code",
   "execution_count": 14,
   "metadata": {
    "id": "fVejAP5UKfDG"
   },
   "outputs": [
    {
     "name": "stdout",
     "output_type": "stream",
     "text": [
      "[[-15. -18. -21.]\n",
      " [  4.   5.   6.]\n",
      " [  7.   8.   9.]]\n"
     ]
    }
   ],
   "source": [
    "#You can check your answer here\n",
    "A = np.array([[1,2,3],\n",
    "             [4,5,6],\n",
    "             [7,8,9]])\n",
    "print(E@A)"
   ]
  },
  {
   "cell_type": "markdown",
   "metadata": {
    "id": "9_ksyfyoK0WJ"
   },
   "source": [
    "## 2. Inverse of an Elementary Matrix"
   ]
  },
  {
   "cell_type": "markdown",
   "metadata": {
    "id": "ftVd2HMWK5vh"
   },
   "source": [
    "### 2.1 Inverse of the Row Switch Elementary Matrix\n",
    "\n",
    "Remember that the inverse of an elementary matrix has the property that $E^{-1}E = I$ and $EE^{-1}=I$\n",
    "\n",
    "So if\n",
    "\n",
    "$E_{switchR0R1} = \\begin{bmatrix}\n",
    "0 & 1 & 0\\\\\n",
    "1 & 0 & 0 \\\\\n",
    "0 & 0 & 1\n",
    "\\end{bmatrix}$\n",
    "\n",
    "Then in order to recover the inverse matrix, we need to switch the top rows $ {R}_0 \\leftrightarrow \\text{R}_1 $\n",
    "\n",
    "... which we can do by multiplying it by itself!\n",
    "\n",
    "...which means it is its own inverse!\n",
    "\n",
    "$E_{switchR0R1} = E_{switchR0R1}^{-1}$\n",
    "\n"
   ]
  },
  {
   "cell_type": "code",
   "execution_count": null,
   "metadata": {
    "colab": {
     "base_uri": "https://localhost:8080/"
    },
    "executionInfo": {
     "elapsed": 158,
     "status": "ok",
     "timestamp": 1698730494603,
     "user": {
      "displayName": "Bonnie Ludka",
      "userId": "16620433016455303136"
     },
     "user_tz": 420
    },
    "id": "wheVCv2jNxz2",
    "outputId": "a7b53461-12d7-454a-d7d4-7df3b7ce1dc5"
   },
   "outputs": [
    {
     "name": "stdout",
     "output_type": "stream",
     "text": [
      "E=\n",
      "[[0. 1. 0.]\n",
      " [1. 0. 0.]\n",
      " [0. 0. 1.]]\n",
      "EE=\n",
      "[[1. 0. 0.]\n",
      " [0. 1. 0.]\n",
      " [0. 0. 1.]]\n"
     ]
    }
   ],
   "source": [
    "#Using Python\n",
    "\n",
    "#original\n",
    "I = np.identity(3)\n",
    "R0 = np.copy(I[0,:])\n",
    "R1 = np.copy(I[1,:])\n",
    "E = np.copy(I)\n",
    "E[1,:] = R0\n",
    "E[0,:] = R1\n",
    "print(\"E=\")\n",
    "print(E)\n",
    "\n",
    "#inverse is itself!\n",
    "#Einv = E\n",
    "\n",
    "#check it\n",
    "print(\"EE=\")\n",
    "print(E@E)"
   ]
  },
  {
   "cell_type": "markdown",
   "metadata": {
    "id": "W2HoWvL7OqtK"
   },
   "source": [
    "#### Question 2.1.1 - [2pts]\n",
    "\n",
    "a.) What is the inverse of the elementary matrix from Question 1.1.1?"
   ]
  },
  {
   "cell_type": "code",
   "execution_count": null,
   "metadata": {
    "id": "RBjoW2KzPdU5"
   },
   "outputs": [],
   "source": [
    "#You can check your answer here"
   ]
  },
  {
   "cell_type": "markdown",
   "metadata": {
    "id": "ZskJYHF8PegS"
   },
   "source": [
    "b.) Check to make sure $E^{-1}E = I$ using matrix multiplication. Do this by hand (showing all steps) AND using Python (with the @ operation)."
   ]
  },
  {
   "cell_type": "code",
   "execution_count": null,
   "metadata": {
    "id": "9Felq6lSPe6Y"
   },
   "outputs": [],
   "source": [
    "#You can check your answer here"
   ]
  },
  {
   "cell_type": "markdown",
   "metadata": {
    "id": "2FVdMvgZPgKo"
   },
   "source": [
    "### 2.2 Inverse of the Row Multiple Elementary Matrix\n",
    "\n",
    "Remember that the inverse of an elementary matrix has the property that $E^{-1}E = I$ and $EE^{-1}=I$\n",
    "\n",
    "So if\n",
    "\n",
    "$E_{3R1} = \\begin{bmatrix}\n",
    "1 & 0 & 0\\\\\n",
    "0 & 3 & 0 \\\\\n",
    "0 & 0 & 1\n",
    "\\end{bmatrix}$\n",
    "\n",
    "Then in order to recover the inverse matrix, we need to divide the middle row by three, $$ \\frac{1}{3}\\text{R}_1 \\rightarrow \\text{R}_1 $$ which we can do by applying the following elementary matrix\n",
    "\n",
    "$E_{3R1}^{-1} = \\begin{bmatrix}\n",
    "1 & 0 & 0\\\\\n",
    "0 & \\frac{1}{3} & 0 \\\\\n",
    "0 & 0 & 1\n",
    "\\end{bmatrix}$\n",
    "\n",
    "So the inverse is the same as the original $E$ except the non-one diagonal entry is the reciprical of the original entry.\n",
    "\n"
   ]
  },
  {
   "cell_type": "code",
   "execution_count": null,
   "metadata": {
    "colab": {
     "base_uri": "https://localhost:8080/"
    },
    "executionInfo": {
     "elapsed": 150,
     "status": "ok",
     "timestamp": 1698731930115,
     "user": {
      "displayName": "Bonnie Ludka",
      "userId": "16620433016455303136"
     },
     "user_tz": 420
    },
    "id": "5QFsYTQZTYfS",
    "outputId": "6b59c6be-48a2-4006-9c49-08df893d3e97"
   },
   "outputs": [
    {
     "name": "stdout",
     "output_type": "stream",
     "text": [
      "E=\n",
      "[[1. 0. 0.]\n",
      " [0. 3. 0.]\n",
      " [0. 0. 1.]]\n",
      "Einv=\n",
      "[[1.     0.     0.    ]\n",
      " [0.     0.3333 0.    ]\n",
      " [0.     0.     1.    ]]\n",
      "EinvE\n",
      "[[1. 0. 0.]\n",
      " [0. 1. 0.]\n",
      " [0. 0. 1.]]\n"
     ]
    }
   ],
   "source": [
    "#Using Python\n",
    "#original\n",
    "I = np.identity(3)\n",
    "E = np.copy(I)\n",
    "E[1,:] = 3*E[1,:]\n",
    "print('E=')\n",
    "print(E)\n",
    "\n",
    "#inverse\n",
    "Einv = np.copy(I)\n",
    "Einv[1,:] = (1/3)*Einv[1,:]\n",
    "print('Einv=')\n",
    "print(Einv)\n",
    "\n",
    "#check it\n",
    "print(\"EinvE\")\n",
    "print(Einv@E)"
   ]
  },
  {
   "cell_type": "markdown",
   "metadata": {
    "id": "86q8seQ2UJQI"
   },
   "source": [
    "#### Question 2.2.1 - [2pts]\n",
    "\n",
    "a.) What is the inverse of the elementary matrix from Question 1.2.1?"
   ]
  },
  {
   "cell_type": "code",
   "execution_count": null,
   "metadata": {
    "id": "l6Mrei6jVa4m"
   },
   "outputs": [],
   "source": [
    "#You can check your answer here\n",
    "Einv = np.array("
   ]
  },
  {
   "cell_type": "markdown",
   "metadata": {
    "id": "1yDUnyctVeU4"
   },
   "source": [
    "b.) Check to make sure $E^{-1}E = I$ using matrix multiplication. \n",
    "\n",
    "If you would like to check your work using Python, use the @ operator for matrix multiplication."
   ]
  },
  {
   "cell_type": "code",
   "execution_count": null,
   "metadata": {
    "id": "dQu7shZLVioO"
   },
   "outputs": [],
   "source": [
    "#You can check your answer here"
   ]
  },
  {
   "cell_type": "markdown",
   "metadata": {
    "id": "yh-xTikdVldX"
   },
   "source": [
    "### 2.3 Inverse of Elementary Matrix that Replaces a row by itself plus multiple of another row\n",
    "\n",
    "Remember that the inverse of an elementary matrix has the property that $E^{-1}E = I$ and $EE^{-1}=I$\n",
    "\n",
    "So if\n",
    "\n",
    "$E_{R2+2*R0} = \\begin{bmatrix}\n",
    "1 & 0 & 0\\\\\n",
    "0 & 1 & 0 \\\\\n",
    "2 & 0 & 1\n",
    "\\end{bmatrix}$\n",
    "\n",
    "Then in order to recover the inverse matrix, we need to perform the following row operation:\n",
    "$$ \\text{R}_2 + -2 \\text{R}_0 \\rightarrow \\text{R}_2 $$\n",
    "\n",
    "So the inverse is the same as $E$ except the off-diagonal entries are the negative of the original.\n",
    "\n",
    "$E_{R2+2*R0}^{-1} = \\begin{bmatrix}\n",
    "1 & 0 & 0\\\\\n",
    "0 & 1 & 0 \\\\\n",
    "-2 & 0 & 1\n",
    "\\end{bmatrix}$\n",
    "\n",
    "\n",
    "\n"
   ]
  },
  {
   "cell_type": "code",
   "execution_count": null,
   "metadata": {
    "colab": {
     "base_uri": "https://localhost:8080/"
    },
    "executionInfo": {
     "elapsed": 136,
     "status": "ok",
     "timestamp": 1698733779987,
     "user": {
      "displayName": "Bonnie Ludka",
      "userId": "16620433016455303136"
     },
     "user_tz": 420
    },
    "id": "AHUZL4qkZkEP",
    "outputId": "cd45eca8-0465-43fb-e786-195b2d28d3a8"
   },
   "outputs": [
    {
     "name": "stdout",
     "output_type": "stream",
     "text": [
      "[[1. 0. 0.]\n",
      " [0. 1. 0.]\n",
      " [2. 0. 1.]]\n",
      "Einv=\n",
      "[[ 1.  0.  0.]\n",
      " [ 0.  1.  0.]\n",
      " [-2.  0.  1.]]\n",
      "EinvE\n",
      "[[1. 0. 0.]\n",
      " [0. 1. 0.]\n",
      " [0. 0. 1.]]\n"
     ]
    }
   ],
   "source": [
    "#Using Python\n",
    "#original\n",
    "I = np.identity(3)\n",
    "E = np.copy(I)\n",
    "E[2,:] = E[2,:]+2*E[0,:]\n",
    "print(E)\n",
    "\n",
    "#inverse\n",
    "Einv = np.copy(I)\n",
    "Einv[2,:] = Einv[2,:]-2*Einv[0,:]\n",
    "print('Einv=')\n",
    "print(Einv)\n",
    "\n",
    "#check it\n",
    "print(\"EinvE\")\n",
    "print(Einv@E)"
   ]
  },
  {
   "cell_type": "markdown",
   "metadata": {
    "id": "iqTqSBBrbNLk"
   },
   "source": [
    "#### Question 2.3.1 - [2pts]\n",
    "\n",
    "a.) What is the inverse of the elementary matrix from Question 1.3.1?"
   ]
  },
  {
   "cell_type": "code",
   "execution_count": null,
   "metadata": {
    "id": "mpbxHTKicAW-"
   },
   "outputs": [],
   "source": [
    "#You can check your answer here"
   ]
  },
  {
   "cell_type": "markdown",
   "metadata": {
    "id": "vq3n30IjcBpY"
   },
   "source": [
    "b.) Check to make sure $E^{-1}E = I$ using matrix multiplication. \n",
    "\n",
    "If you would like to check your work using Python, use the @ operator for matrix multiplication."
   ]
  },
  {
   "cell_type": "code",
   "execution_count": null,
   "metadata": {
    "id": "OV0gGUhYcFdh"
   },
   "outputs": [],
   "source": [
    "#You can check your answer here"
   ]
  },
  {
   "cell_type": "markdown",
   "metadata": {
    "id": "Yl1VyznHcNRU"
   },
   "source": [
    "## 3. Upper and Lower Triangular Matrices"
   ]
  },
  {
   "cell_type": "markdown",
   "metadata": {
    "id": "nWRabLP_eU3n"
   },
   "source": [
    "### 3.1 Upper Triangular Matrix\n",
    "\n",
    "An upper triangular matrix is a matrix whose entries below the diagonal are zero. For example:\n",
    "\n",
    "$U = \\begin{bmatrix}\n",
    "2 & 1 & 3\\\\\n",
    "0 & 7 & 6 \\\\\n",
    "0 & 0 & 4\n",
    "\\end{bmatrix}$\n",
    "\n",
    "Note that an upper triangular matrix is in echelon form!"
   ]
  },
  {
   "cell_type": "markdown",
   "metadata": {
    "id": "F1eXvzLxe7jx"
   },
   "source": [
    "#### Question 3.1.1 - [1pt]\n",
    "Make up a 4x4 upper triangular matrix. "
   ]
  },
  {
   "cell_type": "code",
   "execution_count": null,
   "metadata": {
    "id": "Q3XbjDZ8e56V"
   },
   "outputs": [],
   "source": [
    "#you can create an np.array of U here to check your work with later"
   ]
  },
  {
   "cell_type": "markdown",
   "metadata": {
    "id": "BGTEnlXthDXS"
   },
   "source": [
    "Suppose a system of equations can be described by $Ax =b$, where $A$ is the coefficient matrix. If $A$ is an upper triangular matrix ($A = U$, so $Ux=b$), then *back substitution* can be used to solve for x."
   ]
  },
  {
   "cell_type": "markdown",
   "metadata": {
    "id": "1Ski21p0iU4q"
   },
   "source": [
    "#### Question 3.1.2 - [4pts]\n",
    "\n",
    "Use the upper triangular matrix you created in Question 3.1.1.\n",
    "\n",
    "Let $b = \\begin{bmatrix}\n",
    "1\\\\\n",
    "2 \\\\\n",
    "3 \\\\\n",
    "4\n",
    "\\end{bmatrix}$.\n",
    "\n",
    "Use back substituion to solve for $\\vec{x} = \\begin{bmatrix}\n",
    "x_1\\\\\n",
    "x_2 \\\\\n",
    "x_3 \\\\\n",
    "x_4\n",
    "\\end{bmatrix}$.\n",
    "\n",
    "Show your work by hand (Hint: Write out your system of equations, solve for $x_4$ first, then substitute into equation above, and so on). \n",
    "\n",
    "You may want to check your work by modifying the Python code below"
   ]
  },
  {
   "cell_type": "code",
   "execution_count": null,
   "metadata": {
    "id": "Nilojjt-jfF0"
   },
   "outputs": [],
   "source": [
    "#Your code here\n",
    "U = np.array() #Your upper triangular matrix here\n",
    "x = np.array() #Your x values that you calculated using back substitution\n",
    "print(\"b = \")\n",
    "print(U@x) #Does this equal b?"
   ]
  },
  {
   "cell_type": "markdown",
   "metadata": {
    "id": "_Unx6bGgc5Jc"
   },
   "source": [
    "### 3.2 Lower Triangular Matrix\n",
    "\n",
    "A lower triangular matrix is a matrix whose entries above the diagonal are zero. For example:\n",
    "\n",
    "$L = \\begin{bmatrix}\n",
    "3 & 0 & 0\\\\\n",
    "-1 & 7 & 0 \\\\\n",
    "-2 & 9 & 4\n",
    "\\end{bmatrix}$"
   ]
  },
  {
   "cell_type": "markdown",
   "metadata": {
    "id": "pj7rp-AUdhDG"
   },
   "source": [
    "#### Question 3.2.1 - [1pt]\n",
    "\n",
    "Make up a 4x4 lower triangular matrix. Write it down and print it to the screen."
   ]
  },
  {
   "cell_type": "code",
   "execution_count": null,
   "metadata": {
    "id": "tlwzCN1Cdx1p"
   },
   "outputs": [],
   "source": [
    "#you can create an np.array of L here to check your work with later"
   ]
  },
  {
   "cell_type": "markdown",
   "metadata": {
    "id": "oXwo4sKPlSJo"
   },
   "source": [
    "Suppose a system of equations can be described by $Ax =b$, where $A$ is the coefficient matrix. If $A$ is a lower triangular matrix ($A = L$, so $Lx=b$), then *forward substitution* can be used to solve for x."
   ]
  },
  {
   "cell_type": "markdown",
   "metadata": {
    "id": "8dHbbn-9liy3"
   },
   "source": [
    "#### Question 3.2.2 - [4pts]\n",
    "\n",
    "Use the lower triangular matrix you created in Question 3.2.1.\n",
    "\n",
    "Let $b = \\begin{bmatrix}\n",
    "1\\\\\n",
    "2 \\\\\n",
    "3 \\\\\n",
    "4\n",
    "\\end{bmatrix}$.\n",
    "\n",
    "Use forward substituion to solve for $x = \\begin{bmatrix}\n",
    "x_1\\\\\n",
    "x_2 \\\\\n",
    "x_3 \\\\\n",
    "x_4\n",
    "\\end{bmatrix}$.\n",
    "\n",
    "Show your work by hand (Hint: Write out your system of equations, solve for $x_1$ first, then substitute into the equation below, and so on.). \n",
    "\n",
    "You may want to check your work by modifying the Python code below"
   ]
  },
  {
   "cell_type": "code",
   "execution_count": null,
   "metadata": {
    "id": "vi3h_uRXl2wU"
   },
   "outputs": [],
   "source": [
    "#Your code here\n",
    "L = np.array() #Your upper triangular matrix here\n",
    "x = np.array() #Your x values that you calculated using forward substitution\n",
    "print(\"b = \")\n",
    "print(L@x) #Does this equal b?"
   ]
  },
  {
   "cell_type": "markdown",
   "metadata": {
    "id": "GJFiztP9d2dc"
   },
   "source": [
    "### 3.3 Unit Lower Triangular Matrix\n",
    "\n",
    "A lower triangular matrix whose diagonal entries are all ones. For example:\n",
    "\n",
    "$L = \\begin{bmatrix}\n",
    "1 & 0 & 0\\\\\n",
    "5 & 1 & 0 \\\\\n",
    "2 & -7 & 1\n",
    "\\end{bmatrix}$"
   ]
  },
  {
   "cell_type": "markdown",
   "metadata": {
    "id": "OBt4UdV7dwQE"
   },
   "source": [
    "#### Question 3.3.1 - [1pt]\n",
    "Make up a 4x4 UNIT lower triangular matrix. "
   ]
  },
  {
   "cell_type": "code",
   "execution_count": null,
   "metadata": {
    "id": "UnEv7g0ieXXz"
   },
   "outputs": [],
   "source": [
    "#"
   ]
  },
  {
   "cell_type": "markdown",
   "metadata": {
    "id": "OU8fY9-kyjGN"
   },
   "source": [
    "## 4. Use Elementary Matrices to perform Guassian Elimination\n",
    "\n",
    "We can write the following system of equations as an *augmented matrix*:\n",
    "\n",
    "> $x_1 + x_2 + 2x_3 = 8 $\n",
    "\n",
    "> $-x_1 - 2x_2 + 3x_3 = 1 $\n",
    "\n",
    "> $3x_1 - 7x_2 + 4x_3 = 10 $\n",
    "\n",
    "We can also create this augmented matrix using Python:"
   ]
  },
  {
   "cell_type": "code",
   "execution_count": null,
   "metadata": {
    "colab": {
     "base_uri": "https://localhost:8080/"
    },
    "executionInfo": {
     "elapsed": 569,
     "status": "ok",
     "timestamp": 1698811327845,
     "user": {
      "displayName": "Bonnie Ludka",
      "userId": "16620433016455303136"
     },
     "user_tz": 420
    },
    "id": "nZb8_9FWyjl1",
    "outputId": "fe55316a-80b9-4bb5-dffe-cb72439f1028"
   },
   "outputs": [
    {
     "name": "stdout",
     "output_type": "stream",
     "text": [
      "[[ 1.  1.  2.]\n",
      " [-1. -2.  3.]\n",
      " [ 3. -7.  4.]]\n"
     ]
    }
   ],
   "source": [
    "A = np.array([[1., 1., 2.],  #R0\n",
    "              [-1., -2., 3.],  #R1\n",
    "              [3., -7., 4.]]) #R2\n",
    "print(A)"
   ]
  },
  {
   "cell_type": "code",
   "execution_count": null,
   "metadata": {
    "colab": {
     "base_uri": "https://localhost:8080/"
    },
    "executionInfo": {
     "elapsed": 375,
     "status": "ok",
     "timestamp": 1698811328552,
     "user": {
      "displayName": "Bonnie Ludka",
      "userId": "16620433016455303136"
     },
     "user_tz": 420
    },
    "id": "zv0pTgdp-soG",
    "outputId": "77b597d9-36e5-4343-eac8-af07f2d028f7"
   },
   "outputs": [
    {
     "name": "stdout",
     "output_type": "stream",
     "text": [
      "[[ 8.]\n",
      " [ 1.]\n",
      " [10.]]\n"
     ]
    }
   ],
   "source": [
    "b = np.array([[8.], [1.],[10.]])\n",
    "print(b)"
   ]
  },
  {
   "cell_type": "code",
   "execution_count": null,
   "metadata": {
    "colab": {
     "base_uri": "https://localhost:8080/"
    },
    "executionInfo": {
     "elapsed": 238,
     "status": "ok",
     "timestamp": 1698811331977,
     "user": {
      "displayName": "Bonnie Ludka",
      "userId": "16620433016455303136"
     },
     "user_tz": 420
    },
    "id": "B6sX-AUX_GT-",
    "outputId": "ecf0ac5b-a880-466e-9eb4-3b518dffc1af"
   },
   "outputs": [
    {
     "name": "stdout",
     "output_type": "stream",
     "text": [
      "[[ 1.  1.  2.  8.]\n",
      " [-1. -2.  3.  1.]\n",
      " [ 3. -7.  4. 10.]]\n"
     ]
    }
   ],
   "source": [
    "A_b = np.concatenate((A, b), axis = 1)\n",
    "print(A_b)"
   ]
  },
  {
   "cell_type": "markdown",
   "metadata": {
    "id": "zn5a6ruu-x5O"
   },
   "source": [
    "Now we can use use elementary matrices to perform forward elimination row operations to get our augmented matrix into echelon form (EF)."
   ]
  },
  {
   "cell_type": "markdown",
   "metadata": {
    "id": "kPG1yQ0iphZF"
   },
   "source": [
    "The first row operation is completed by multiplying the first elementary matrix on the left side of the augmented matrix:\n",
    "\n",
    "$E_1[A|b]$"
   ]
  },
  {
   "cell_type": "code",
   "execution_count": null,
   "metadata": {
    "colab": {
     "base_uri": "https://localhost:8080/"
    },
    "executionInfo": {
     "elapsed": 239,
     "status": "ok",
     "timestamp": 1698811338150,
     "user": {
      "displayName": "Bonnie Ludka",
      "userId": "16620433016455303136"
     },
     "user_tz": 420
    },
    "id": "xYLSc8zHyrrd",
    "outputId": "a929819e-743c-42df-8304-57e36f0591f6"
   },
   "outputs": [
    {
     "name": "stdout",
     "output_type": "stream",
     "text": [
      "[[ 1.  1.  2.  8.]\n",
      " [ 0. -1.  5.  9.]\n",
      " [ 3. -7.  4. 10.]]\n"
     ]
    }
   ],
   "source": [
    "#R1 + R0 --> R1\n",
    "E1 = np.array([[1, 0, 0],\n",
    "              [1, 1, 0],\n",
    "              [0, 0, 1]])\n",
    "print(E1@A_b)"
   ]
  },
  {
   "cell_type": "markdown",
   "metadata": {
    "id": "shgcrCZupzps"
   },
   "source": [
    "The next row operation is completed by multiplying the second elementary matrix on the left hand side too.\n",
    "$E_2E_1[A|b]$"
   ]
  },
  {
   "cell_type": "code",
   "execution_count": null,
   "metadata": {
    "colab": {
     "base_uri": "https://localhost:8080/"
    },
    "executionInfo": {
     "elapsed": 223,
     "status": "ok",
     "timestamp": 1698811340909,
     "user": {
      "displayName": "Bonnie Ludka",
      "userId": "16620433016455303136"
     },
     "user_tz": 420
    },
    "id": "ICwbdYQJyuUk",
    "outputId": "2b3a45f2-eda0-4a30-969a-6585666260a3"
   },
   "outputs": [
    {
     "name": "stdout",
     "output_type": "stream",
     "text": [
      "[[  1.   1.   2.   8.]\n",
      " [  0.  -1.   5.   9.]\n",
      " [  0. -10.  -2. -14.]]\n"
     ]
    }
   ],
   "source": [
    "#R2 -3R0 --> R2\n",
    "E2 = np.array([[1, 0, 0],\n",
    "              [0, 1, 0],\n",
    "              [-3, 0, 1]])\n",
    "print(E2@E1@A_b)"
   ]
  },
  {
   "cell_type": "markdown",
   "metadata": {
    "id": "jbdnCbtQqBP5"
   },
   "source": [
    "And so on...\n",
    "$E_3E_2E_1[A|b]$"
   ]
  },
  {
   "cell_type": "code",
   "execution_count": null,
   "metadata": {
    "colab": {
     "base_uri": "https://localhost:8080/"
    },
    "executionInfo": {
     "elapsed": 174,
     "status": "ok",
     "timestamp": 1698811343021,
     "user": {
      "displayName": "Bonnie Ludka",
      "userId": "16620433016455303136"
     },
     "user_tz": 420
    },
    "id": "bENGtHPeyxeJ",
    "outputId": "0ed9ffaa-f3e3-47a5-f38a-09c19e9afd13"
   },
   "outputs": [
    {
     "name": "stdout",
     "output_type": "stream",
     "text": [
      "[[   1.    1.    2.    8.]\n",
      " [   0.   -1.    5.    9.]\n",
      " [   0.    0.  -52. -104.]]\n"
     ]
    }
   ],
   "source": [
    "#R2 - 10*R1 --> R2\n",
    "E3 = np.array([[1, 0, 0],\n",
    "              [0, 1, 0],\n",
    "              [0, -10, 1]])\n",
    "print(E3@E2@E1@A_b)"
   ]
  },
  {
   "cell_type": "markdown",
   "metadata": {
    "id": "vNM1noZaqmDR"
   },
   "source": [
    "We have acheieved Echelon Form! Now we can solve our system using *back substituion*.\n",
    "\n",
    "Note that the *coefficient matrix* has been transformed into an *upper triangular matrix*.\n",
    "\n",
    "$U = E_3E_2E_1A$\n",
    "\n",
    "Also note that each *elementary matrix* we used is a *unit lower triangular matrix*\n",
    "\n"
   ]
  },
  {
   "cell_type": "markdown",
   "metadata": {
    "id": "HjvwTb9uuqMd"
   },
   "source": [
    "Furthermore, the *product* of all the elementary matrices we used is also *unit lower triangular*.\n",
    "\n",
    "$E_3E_2E_1$ is unit lower triangular:\n"
   ]
  },
  {
   "cell_type": "code",
   "execution_count": null,
   "metadata": {
    "colab": {
     "base_uri": "https://localhost:8080/"
    },
    "executionInfo": {
     "elapsed": 195,
     "status": "ok",
     "timestamp": 1698811347327,
     "user": {
      "displayName": "Bonnie Ludka",
      "userId": "16620433016455303136"
     },
     "user_tz": 420
    },
    "id": "7dfI-yHbux0_",
    "outputId": "05b97883-4e84-4602-8570-82275049b76a"
   },
   "outputs": [
    {
     "name": "stdout",
     "output_type": "stream",
     "text": [
      "[[  1   0   0]\n",
      " [  1   1   0]\n",
      " [-13 -10   1]]\n"
     ]
    }
   ],
   "source": [
    "print(E3@E2@E1)"
   ]
  },
  {
   "cell_type": "markdown",
   "metadata": {
    "id": "McqV-l-CQqZw"
   },
   "source": [
    "#### Side note:\n",
    "\n",
    "Something you might use later...\n",
    "the REVERSE product of all of the elementary INVERSE matrices $E_3^{-1}E_2^{-1}E_1^{-1}$ is also *unit lower triangular*\n"
   ]
  },
  {
   "cell_type": "code",
   "execution_count": null,
   "metadata": {
    "colab": {
     "base_uri": "https://localhost:8080/"
    },
    "executionInfo": {
     "elapsed": 183,
     "status": "ok",
     "timestamp": 1698811371258,
     "user": {
      "displayName": "Bonnie Ludka",
      "userId": "16620433016455303136"
     },
     "user_tz": 420
    },
    "id": "QZuX085bRJHR",
    "outputId": "14e200ad-ee84-49af-a53c-1e8346129ded"
   },
   "outputs": [
    {
     "name": "stdout",
     "output_type": "stream",
     "text": [
      "[[ 1.  0.  0.]\n",
      " [-1.  1.  0.]\n",
      " [ 3. 10.  1.]]\n"
     ]
    }
   ],
   "source": [
    "E1inv = np.linalg.inv(E1)\n",
    "E2inv = np.linalg.inv(E2)\n",
    "E3inv = np.linalg.inv(E3)\n",
    "print(E1inv@E2inv@E3inv)"
   ]
  },
  {
   "cell_type": "markdown",
   "metadata": {
    "id": "B6M5YQW7R00-"
   },
   "source": [
    "And note how the off-diagonal terms of the matrix we just found compares to our row operations:\n",
    "\n",
    "$$ \\text{R}_1 + 1 \\text{R}_0 \\rightarrow \\text{R}_1 $$\n",
    "\n",
    "$$ \\text{R}_2 -3 \\text{R}_0 \\rightarrow \\text{R}_2 $$\n",
    "\n",
    "$$ \\text{R}_2 -10 \\text{R}_1 \\rightarrow \\text{R}_2 $$\n",
    "\n",
    "Very similar by a negative sign...interesting... We will not use this yet but it can be very useful if you are interested in the \"shortcut\" method mentioned later."
   ]
  },
  {
   "cell_type": "markdown",
   "metadata": {
    "id": "lt0Qe3uTwKYp"
   },
   "source": [
    "#### Question 4.1 - [10pts]\n",
    "\n",
    "Use Elementary Matrices to perform Forward Elimination on the following system of equations:\n",
    "\n",
    "> $x_1 - 3x_3 = -2 $\n",
    "\n",
    "> $3x_1 + x_2 - 2x_3 = 5 $\n",
    "\n",
    "> $2x_1 + 2x_2 + x_3 = 4 $\n",
    "\n",
    "Keep track of your work by hand. You may use Python to complete the matrix multiplication first, and you do NOT need to show all matrix multiplication steps for this question.\n",
    "\n",
    "Remember: STOP when you have reached regular old ECHELON FORM (EF). In other words, when your coefficient matrix is transformed to a upper triangular matrix. (Do NOT go all the way to reduced echelon form.)"
   ]
  },
  {
   "cell_type": "code",
   "execution_count": null,
   "metadata": {},
   "outputs": [],
   "source": [
    "#You can check your answer here"
   ]
  },
  {
   "cell_type": "markdown",
   "metadata": {
    "id": "AS5vDAmU1P8i"
   },
   "source": [
    "#### Question 4.2 - [6pts]\n",
    "Use back substituion to solve for $x = \\begin{bmatrix}\n",
    "x_1\\\\\n",
    "x_2 \\\\\n",
    "x_3\n",
    "\\end{bmatrix}$.\n",
    "\n",
    "Show your work by hand. (Hint: Write out your system of equations, solve for $x_3$ first, then substitute into equation above, and so on). \n",
    "\n",
    "You may want to check your work by modifying the Python code below"
   ]
  },
  {
   "cell_type": "code",
   "execution_count": null,
   "metadata": {
    "id": "5CEmH9UD2eos"
   },
   "outputs": [],
   "source": [
    "#Your code here\n",
    "U = np.array() #Your upper triangular matrix here\n",
    "x = np.array() #Your x values that you calculated using back substitution\n",
    "print(U@x) #Does this equal to the rightmost column of your EF augmented matrix?"
   ]
  },
  {
   "cell_type": "markdown",
   "metadata": {
    "id": "LI2_BWJe3mVh"
   },
   "source": [
    "#### Question 4.3 - [1pt]\n",
    "\n",
    "Are all the elementary matrices you used unit lower triangular matrices? "
   ]
  },
  {
   "cell_type": "code",
   "execution_count": 2,
   "metadata": {
    "id": "TmI9HPIEt1pf"
   },
   "outputs": [],
   "source": [
    "#"
   ]
  },
  {
   "cell_type": "markdown",
   "metadata": {
    "id": "qTZLcExn329l"
   },
   "source": [
    "#### Question 4.4 - [1pt]\n",
    "\n",
    "Is the product of all the elementary matrices you used a unit lower triangular matrix? \n",
    "\n",
    "Keep track of your work by hand. You may use Python to complete the matrix multiplication first, and you do NOT need to show all matrix multiplication steps for this question."
   ]
  },
  {
   "cell_type": "code",
   "execution_count": null,
   "metadata": {
    "id": "8r9vmJGxt2TH"
   },
   "outputs": [],
   "source": [
    "#You can check your answer here"
   ]
  },
  {
   "cell_type": "markdown",
   "metadata": {
    "id": "JpeRaWqU4HbM"
   },
   "source": [
    "#### Question 4.5 - [3pts]\n",
    "Imagine you had needed to use an elementary matrix that switched rows. For example:\n",
    "\n",
    "$ {R}_1 \\leftrightarrow \\text{R}_2 $\n",
    "\n",
    "a.) What is the elementary matrix that represents this row operation?\n",
    "\n",
    "b.) Is it a unit lower triangular matrix? \n",
    "\n",
    "c.) Would the product of your elementary matrices still be a unit lower triangular matrix if you had used this one in addition to those you used in 4.3? (Keep track of your work by hand. You may use Python to complete the matrix multiplication first, and you do NOT need to show all matrix multiplication steps for this question.)\n"
   ]
  },
  {
   "cell_type": "code",
   "execution_count": null,
   "metadata": {
    "id": "4BivkFqq4sVX"
   },
   "outputs": [],
   "source": [
    "#You can check your answer here"
   ]
  },
  {
   "cell_type": "markdown",
   "metadata": {
    "id": "UDyFX2BZ48cw"
   },
   "source": [
    "#### Question 4.6 - [3pts]\n",
    "Imagine you had kept reducing your augmented matrix to reduced echelon form. You might need to multiply a row by a non-zero number in order to make the pivots = 1.\n",
    "\n",
    "For example:\n",
    "\n",
    "$$ 4\\text{R}_1 \\rightarrow \\text{R}_1 $$\n",
    "\n",
    "a.) What is the elementary matrix that represents this row operation?\n",
    "\n",
    "b.) Is it a unit lower triangular matrix? \n",
    "\n",
    "c.) Would the product of your elementary matrices still be a unit lower triangular matrix if you had used this one in addition to the ones you used in 4.3?\n",
    "(Keep track of your work on by hand. You may use Python to complete the matrix multiplication first, and you do NOT need to show all matrix multiplication steps for this question.)"
   ]
  },
  {
   "cell_type": "code",
   "execution_count": null,
   "metadata": {
    "id": "2cWh-Iwv5dZm"
   },
   "outputs": [],
   "source": [
    "#You can check your answer here"
   ]
  },
  {
   "cell_type": "markdown",
   "metadata": {
    "id": "tQx5ZU5o7uRp"
   },
   "source": [
    "#### Question 4.7 - [3pts]\n",
    "\n",
    "Imagine you had kept reducing your augmented matrix to reduced echelon form. You would need to perform row operations to get the values above your pivots to be zero. For example you might need to use this row operation:\n",
    "$$ \\text{R}_1 + -7 \\text{R}_2 \\rightarrow \\text{R}_1 $$\n",
    "\n",
    "a.) Write down / print out the elementary matrix that represents this row operation.\n",
    "\n",
    "b.) Is it a unit lower triangular matrix? Write down your answer/ print your answer to the screen.\n",
    "\n",
    "c.) Would the product of your elementary matrices still be a unit lower triangular matrix if you had used this one in addition to the ones you used in 4.3?\n",
    "(Keep track of your work by hand. You may use Python to complete the matrix multiplication first, and you do NOT need to show all matrix multiplication steps for this question.)"
   ]
  },
  {
   "cell_type": "code",
   "execution_count": null,
   "metadata": {
    "id": "BtGye3Ia_NLL"
   },
   "outputs": [],
   "source": [
    "#You can check your answer here"
   ]
  },
  {
   "cell_type": "markdown",
   "metadata": {
    "id": "9YfTBkpx5fAm"
   },
   "source": [
    "## 5. LU Decomposition\n",
    "\n",
    "We can represent our system of equations as\n",
    "\n",
    "$$Ax=b,$$\n",
    "\n",
    "where $A$ is the coeffient matrix, $x$ is the column vector of our solutions, and $b$ is the column vector of constants.\n",
    "\n",
    "If we can rewrite (or \"decompose\") $A$ as a product of a lower triangular matrix and an upper triangular matrix such that $$A = LU,$$\n",
    "\n",
    "then\n",
    "$$Ax=b$$ \n",
    "becomes\n",
    "$$LUx=b.$$\n",
    "\n",
    "If we let $Ux=y$, then we can write this as\n",
    "\n",
    "$$Ly=b$$\n",
    "\n",
    "and we can use *forward substituion* to solve for $y$ (Shown in Question 10).\n",
    "\n",
    "But we still need to solve for $x$.\n",
    "\n",
    "Well, we defined\n",
    "$$Ux=y$$\n",
    "\n",
    "and we can use *back substition* to get x. (Shown in Question 8).\n",
    "\n",
    "Now we have solved our system of equations using an LU Decomposition!\n",
    "\n",
    "Here is a [video](https://www.youtube.com/watch?v=o5viKb1jqhM&list=PLkZjai-2Jcxlg-Z1roB0pUwFU-P58tvOx&index=16) in case you find it helpful"
   ]
  },
  {
   "cell_type": "markdown",
   "metadata": {},
   "source": [
    "### 5.1 Solving a system using LU Decomposition when given L and U"
   ]
  },
  {
   "cell_type": "markdown",
   "metadata": {
    "id": "ArExU5iiHwbM"
   },
   "source": [
    "#### Question 5.1.1 - [10pts] \n",
    "\n",
    "Following the procedure outlined above, complete the following question:\n",
    "\n",
    "<img src=\"https://lh3.googleusercontent.com/pw/ADCreHfIIgkxnJrIRLPFTrXa_WgAWIwM0xQ6WBb9yFoFKSQSfzC-5XBNjS6AopTaLB4qrHv-rPANNoNnstrn0uGN34_K0PwZkydmfP_1wm6njIG00-DzJGZg7qgsK-Tf_HeuffW3lBOodIThquOyLqfi2xSe=w879-h331-s-no-gm?authuser=0\" width=\"550\">\n",
    "\n",
    "Do your work by hand. You may want to check your work with Python\n"
   ]
  },
  {
   "cell_type": "code",
   "execution_count": null,
   "metadata": {
    "id": "nOkJ4qO3PEFM"
   },
   "outputs": [],
   "source": [
    "#You can check your answer here"
   ]
  },
  {
   "cell_type": "markdown",
   "metadata": {
    "id": "5Owf_g2yK2JM"
   },
   "source": [
    "#### Question 5.1.2 - [10pts] \n",
    "Following the procedure outlined above, complete the following question:\n",
    "\n",
    "<img src=\"https://lh3.googleusercontent.com/pw/ADCreHfIba9roqnB86QDbM42xASE_tVjECAWnUjOKF-G5tKaMeSirYC6iYu9CtUJa-4BNrr5JwQ65Xd5DfG0oeE_8EF1-ln-6aJJFCgT0zW9o8crcIDrH1P6GF0oeZfSn1-bvqi7Q_oN9Wkxe_2zaZdqdRiK=w894-h417-s-no-gm?authuser=0\" width=\"550\">\n",
    "\n"
   ]
  },
  {
   "cell_type": "markdown",
   "metadata": {
    "id": "3gFYiMVePGNe"
   },
   "source": [
    "Do your work by hand. You may want to check your work with Python"
   ]
  },
  {
   "cell_type": "code",
   "execution_count": null,
   "metadata": {
    "id": "6QZkE8RdPHSt"
   },
   "outputs": [],
   "source": [
    "#You can check your answer here"
   ]
  },
  {
   "cell_type": "markdown",
   "metadata": {
    "id": "xn4DAuLmHsDz"
   },
   "source": [
    "But what if we are not given $L$ and $U$?"
   ]
  },
  {
   "cell_type": "markdown",
   "metadata": {
    "id": "8iJe74RrCtLZ"
   },
   "source": [
    "### 5.2 How do we find a L and U for the decomposition?\n",
    "\n",
    "This method only works if $A$ is *row equivalent* to an *upper diagonal matrix*. This means that by multiplying $A$ on the left by elementary matrices, we can produce an upper diagonal matrix.\n",
    "\n",
    "$$U = E_k E_{k-1}...E_2E_1A$$\n",
    "\n",
    "Furthermore, the elementary matrices used can NOT contain a row switch.\n",
    "\n",
    "So that helps us find $U$, but how do we find $L$?\n",
    "\n",
    "Let's take the equation above and start applying the inverse elementary matrices.\n",
    "\n",
    "So first we multiply both sides by $E_k^{-1}$\n",
    "\n",
    "$$E_k^{-1}U = E_k^{-1}E_k E_{k-1} ...E_2E_1A$$\n",
    "\n",
    "But remember $E_k^{-1}E_k = I$ so\n",
    "\n",
    "$$E_k^{-1}U = I E_{k-1} ...E_2E_1A$$\n",
    "$$E_k^{-1}U = E_{k-1} ...E_2E_1A$$\n",
    "\n",
    "If we keep applying the inverses...\n",
    "$$E_1^{-1}E_2^{-1}...E_{k-1}^{-1}E_k^{-1}U = A$$\n",
    "\n",
    "Where $$E_1^{-1}E_2^{-1}...E_{k-1}^{-1}E_k^{-1} = L,$$ a unit lower diagonal matrix.\n",
    "\n",
    "We showed that $E_k E_{k-1}...E_2E_1$ would be unit lower diagonal if they converted a coefficient matrix to an upper diagonal matrix without a row switch (Questions 12-18). It follows that $E_1^{-1}E_2^{-1}...E_{k-1}^{-1}E_k^{-1}$ is also unit lower diagonal (See Questions 4-6).\n",
    "\n",
    "Here are some videos in case you find them helpful:\n",
    "\n",
    "[Video 1](https://www.youtube.com/watch?v=j48z_nY-oB8&list=PLkZjai-2Jcxlg-Z1roB0pUwFU-P58tvOx&index=15)\n",
    "\n",
    "[Video 2](https://www.youtube.com/watch?v=-eA2D_rIcNA)\n",
    "\n"
   ]
  },
  {
   "cell_type": "markdown",
   "metadata": {
    "id": "jrGcbGvmL4kz"
   },
   "source": [
    "#### Question 5.2.1 - [10pts] \n",
    "\n",
    "Following the procedure outlined above, complete the following question:\n",
    "\n",
    "<img src=\"https://lh3.googleusercontent.com/pw/ADCreHfvZ2rXvm_2faqFZAWZrWYGTEZnPLcHFlD7eFLQI7rDNdjGQj_lkKfwNo-bMocxzAJ_Yqql6Hqn3ze51npNAxePq0HhOFtHvGcXH8Maf9ZSkdyIKjdsjnzDCZL8fzjLajJISwAO0PtNPSmAXD6Gzgq1=w538-h192-s-no-gm?authuser=0\" width=\"550\">\n",
    "\n",
    "Do your work by hand. You may want to check your work with Python\n",
    "\n"
   ]
  },
  {
   "cell_type": "code",
   "execution_count": null,
   "metadata": {
    "id": "dBFP1YibPJz7"
   },
   "outputs": [],
   "source": [
    "#You can check your answer here"
   ]
  },
  {
   "cell_type": "markdown",
   "metadata": {
    "id": "8kkqK-l8L-pd"
   },
   "source": [
    "#### Question 5.2.2 - [10pts] \n",
    "\n",
    "zyBook Additional Exercise 20.8.2b\n",
    "\n",
    "Find the LU Decomposition of the given matrix\n",
    "\n",
    "<img src=\"https://lh3.googleusercontent.com/pw/ADCreHdpXUjEYKXSawNrVz6zonInRaTZL3LS42avusDZlbu1j74a7_yzZtoHWvm4LS7zLh7G0S14za3NW751qAzCK3yk6atTtqC5LmlFbbAW0FAikZxuE9MC4QaLIvEb59fRXJ8XAugp2jGE5pogKnP7I6u_=w391-h154-s-no-gm?authuser=0\" width=\"550\">\n",
    "\n",
    "Complete your work by hand. You may want to check your work with Python"
   ]
  },
  {
   "cell_type": "code",
   "execution_count": null,
   "metadata": {
    "id": "PpDJ_ejqPLjT"
   },
   "outputs": [],
   "source": [
    "#You can check your answer here"
   ]
  },
  {
   "cell_type": "markdown",
   "metadata": {
    "id": "LnUpl-lrifeH"
   },
   "source": [
    "### 5.3 Putting it all together"
   ]
  },
  {
   "cell_type": "markdown",
   "metadata": {
    "id": "tV-BxC4rOa2f"
   },
   "source": [
    "#### Question 5.3.1 - [10pts] \n",
    "\n",
    "<img src=\"https://lh3.googleusercontent.com/pw/ADCreHc1hinnT5dtPhw0a4WVzaHNqJBpHEApPeBAviHvpjjHMlGTwAAuleWCabxyA9rdqvSTJ21VoroEIzU2KuFV6O9g1_3spBC28B72FaqqpzERyNhv6BisEx4vNRRG5IHubT8Xl1N6oNfeQTYUrrI8DNHe=w784-h147-s-no-gm?authuser=0\" width=\"550\">\n",
    "\n",
    "Complete your work by hand. You may want to check your work with Python\n"
   ]
  },
  {
   "cell_type": "code",
   "execution_count": null,
   "metadata": {
    "id": "IGE7KBMV_a_s"
   },
   "outputs": [],
   "source": [
    "#You can check your answer here"
   ]
  },
  {
   "cell_type": "markdown",
   "metadata": {
    "id": "nYBXEFUvXsM4"
   },
   "source": [
    "### 5.4 \"Shortcut\" method\n",
    "If you look on the internet you will find folks talking about the \"shortcut method\". I want to see your work to find L and U the \"long\" way, as explained above and as explained in the zyBook, but if it helps you to also know the \"shortcut\" you can find it at links like [these](https://www.youtube.com/watch?v=UlWcofkUDDU)\n",
    "\n",
    "If it confuses you, just ignore it!"
   ]
  },
  {
   "cell_type": "markdown",
   "metadata": {
    "id": "nalaih-3UQte"
   },
   "source": [
    "### 5.5 PLU Decomposition\n",
    "You can extend this analysis to be able to account for row switches by decomposing $A$ as $A=PLU$, where $P$ is a \"permutation\" matrix that accounts for the row switching. This is not covered in the zyBook.\n",
    "\n",
    "There are many [resources online](https://www.youtube.com/watch?v=E3cCRcdFGmE) if you are curious!\n"
   ]
  }
 ],
 "metadata": {
  "colab": {
   "authorship_tag": "ABX9TyO0zos6V99VJHTBrTMv7gRJ",
   "provenance": [
    {
     "file_id": "1suKg862MNwzdQ1tq8nnovf-QZFHJhZMy",
     "timestamp": 1713904100339
    }
   ],
   "toc_visible": true
  },
  "kernelspec": {
   "display_name": "engr225",
   "language": "python",
   "name": "python3"
  },
  "language_info": {
   "codemirror_mode": {
    "name": "ipython",
    "version": 3
   },
   "file_extension": ".py",
   "mimetype": "text/x-python",
   "name": "python",
   "nbconvert_exporter": "python",
   "pygments_lexer": "ipython3",
   "version": "3.11.7"
  }
 },
 "nbformat": 4,
 "nbformat_minor": 0
}
