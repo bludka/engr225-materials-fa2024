{
 "cells": [
  {
   "cell_type": "markdown",
   "metadata": {},
   "source": [
    "# Lab Week 14 Part 1: Norm and Condition Number\n",
    "\n",
    "**This part of your lab is CODING ONLY.  You do not need to complete the problems by hand.**"
   ]
  },
  {
   "cell_type": "code",
   "execution_count": null,
   "metadata": {},
   "outputs": [],
   "source": [
    "#run this!\n",
    "import numpy as np\n",
    "np.set_printoptions(precision=4,suppress=True)"
   ]
  },
  {
   "cell_type": "markdown",
   "metadata": {},
   "source": [
    "## 1. Norms\n",
    "\n",
    "For vectors the Euclidian norm is the same as the magnitude.\n",
    "\n",
    "So for some vector:\n",
    "\n",
    "$\\vec{v} = (v_1,v_2,...,v_n)$ in ${\\rm I\\!R}^n$\n",
    "\n",
    "The Euclidian norm is:\n",
    "\n",
    "$$||\\vec{v}|| = \\sqrt{\\sum_{i=1}^{n} v_i^2 }$$"
   ]
  },
  {
   "cell_type": "markdown",
   "metadata": {},
   "source": [
    "In a previous lab we wrote a user function to calculate the norm (magnitude) of a vector:"
   ]
  },
  {
   "cell_type": "code",
   "execution_count": null,
   "metadata": {},
   "outputs": [],
   "source": [
    "# create the function\n",
    "def vecnorm(v):\n",
    "    sum = 0\n",
    "    for i in range(len(v)):\n",
    "        sum = sum + v[i]**2\n",
    "    norm = np.sqrt(sum)\n",
    "    return norm\n",
    "\n",
    "# call the function to test it\n",
    "\n",
    "# Test 1\n",
    "w = np.array([3,4])\n",
    "print(vecnorm(w))\n",
    "\n",
    "# Test 2\n",
    "u = np.array([1,1,1,1])\n",
    "print(vecnorm(u))"
   ]
  },
  {
   "cell_type": "markdown",
   "metadata": {},
   "source": [
    "The \"Frobenius\" Norm for Matrices, is similar to the Euclidian norm for vectors:\n",
    "\n",
    "$$||A||_f = \\sqrt{\\sum_{i=1}^{m} \\sum_{j=1}^{n} a_{ij}^2 }$$\n",
    "\n",
    "Each entry of the matrix is squared and summed together, and then the square root of that sum is taken."
   ]
  },
  {
   "cell_type": "markdown",
   "metadata": {},
   "source": [
    "### Question 1.1 [5pts]\n",
    "\n",
    "Write a USER FUNCTION named `normfro()` using NESTED LOOPS to calculate the Frobenius norm of a matrix. Test your function to make sure it works for a matrix of any size.\n",
    "\n",
    "HINT: One loop is used to change the index of the row, and another loop is used to change the index of the column. To find the number of rows and columns you need to loop over you can use\n",
    "\n",
    "`m,n = np.shape(A)`\n",
    "\n",
    "Check you answer using `np.linalg.norm(A,'fro')`"
   ]
  },
  {
   "cell_type": "code",
   "execution_count": null,
   "metadata": {},
   "outputs": [],
   "source": [
    "# your code here"
   ]
  },
  {
   "cell_type": "markdown",
   "metadata": {},
   "source": [
    "## 2. Condition Number"
   ]
  },
  {
   "cell_type": "markdown",
   "metadata": {},
   "source": [
    "The Condition Number of a matrix is calculated as:\n",
    "\n",
    "$$||A||_f *||A^{-1}||_f$$"
   ]
  },
  {
   "cell_type": "markdown",
   "metadata": {},
   "source": [
    "### Question 2.1 [5pts]\n",
    "\n",
    "Write a USER FUNCTION named `condfro()` to calculate the Condition Number. Your function should call the function `normfro()` that you created in Question 1.1, and the `np.linalg.inv()` function. Test your function to make sure it works for an invertible matrix of any size. Check your answer using `np.linalg.cond(A,'fro')`"
   ]
  },
  {
   "cell_type": "code",
   "execution_count": null,
   "metadata": {},
   "outputs": [],
   "source": [
    "# your code here"
   ]
  },
  {
   "cell_type": "markdown",
   "metadata": {},
   "source": [
    "### Question 2.2 [3pts]\n",
    "\n",
    "Two chemistry students have made measurements to estimate the number of grams of compounds, $x_1$, $x_2$, and $x_3$, in a solution. From their measurements they have determined the following relationships:\n",
    "\n",
    "$93.477x_1+10.202 x_2+28.832x_3=34.7177$\n",
    "\n",
    "$1.963x_1+32.816 x_2+62.414x_3=70.9241$\n",
    "\n",
    "$26.821x_1+36.816 x_2+57.234x_3=82.9271$\n",
    "\n",
    "Use the `np.linalg.inv()` function to solve the system of equations."
   ]
  },
  {
   "cell_type": "code",
   "execution_count": null,
   "metadata": {},
   "outputs": [],
   "source": [
    "# your code here"
   ]
  },
  {
   "cell_type": "markdown",
   "metadata": {},
   "source": [
    "### Question 2.3 [2pts]\n",
    "After presenting their results to the professor, the chemistry students realize that the measurements used to determine the RHS vector ($b$) are only accurate to one significant figure (the first digit). Round the RHS to the appropriate accuracy and re-solve the problem in Question 2.2."
   ]
  },
  {
   "cell_type": "code",
   "execution_count": null,
   "metadata": {},
   "outputs": [],
   "source": [
    "# your code here"
   ]
  },
  {
   "cell_type": "markdown",
   "metadata": {},
   "source": [
    "### Question 2.4 [3 pts]\n",
    "\n",
    "Calculate the Condition Number of the coefficient matrix in Question 2.2 using the user function you created in Question 2.1. Check your answer using `np.linalg.cond(A,'fro')`"
   ]
  },
  {
   "cell_type": "code",
   "execution_count": null,
   "metadata": {},
   "outputs": [],
   "source": [
    "# your code here"
   ]
  },
  {
   "cell_type": "markdown",
   "metadata": {},
   "source": [
    "### Question 2.5 [2pts]\n",
    "\n",
    "Use your answer in Question 2.4 to explain why your solutions to Question 2.2 and Question 2.3 are different. Would you want the condition number to be larger or smaller?"
   ]
  },
  {
   "cell_type": "markdown",
   "metadata": {},
   "source": [
    "*Click on this box and write your explanation here.*\n",
    "\n",
    "When A has a large condition number, small changes in b can cause large changes in x. We would have more confidence in our solution for x if the condition number of A was smaller."
   ]
  },
  {
   "cell_type": "code",
   "execution_count": null,
   "metadata": {},
   "outputs": [],
   "source": [
    "# supporting code here if needed\n",
    "# don't forget to write your explanation above."
   ]
  }
 ],
 "metadata": {
  "kernelspec": {
   "display_name": "engr225",
   "language": "python",
   "name": "python3"
  },
  "language_info": {
   "codemirror_mode": {
    "name": "ipython",
    "version": 3
   },
   "file_extension": ".py",
   "mimetype": "text/x-python",
   "name": "python",
   "nbconvert_exporter": "python",
   "pygments_lexer": "ipython3",
   "version": "3.11.7"
  }
 },
 "nbformat": 4,
 "nbformat_minor": 2
}
