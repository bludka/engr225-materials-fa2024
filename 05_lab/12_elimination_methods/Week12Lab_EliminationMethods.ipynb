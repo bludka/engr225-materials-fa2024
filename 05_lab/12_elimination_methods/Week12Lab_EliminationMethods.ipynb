{
 "cells": [
  {
   "cell_type": "markdown",
   "metadata": {
    "id": "BuDCX7YnLVrE"
   },
   "source": [
    "# Lab Week 12\n",
    "You will turn in TWO documents via Canvas upload:\n",
    "1. Handwritten answers\n",
    "2. Python Jupyter Notebook answer\n",
    "\n",
    "You are encouraged to use:\n",
    "* [Python for Linear Algebra Reference Sheet](https://humboldt.cloudbank.2i2c.cloud/hub/user-redirect/git-pull?repo=https%3A%2F%2Fgithub.com%2Fbludka%2Fengr225-materials-fa2024&branch=main&urlpath=lab%2Ftree%2Fengr225-materials-fa2024%2F00_resources%2FPython_Toolbox_for_Linear_Algebra.ipynb)\n",
    "* [Elimination Notes for \"Nice\" Systems](https://humboldt.cloudbank.2i2c.cloud/hub/user-redirect/git-pull?repo=https%3A%2F%2Fgithub.com%2Fbludka%2Fengr225-materials-fa2024&branch=main&urlpath=lab%2Ftree%2Fengr225-materials-fa2024%2F00_resources%2FElimination_Methods_for_Systems_of_Equations_with_Unique_Solution.ipynb)\n",
    "* Lecture Notes:\n",
    "    * [Gaussian Elimination for \"Nice\" Systems](https://docs.google.com/presentation/d/1oi8hM7kyn5FGcA7vfJpGC1etQT1pagTmADT9fNLguLE/edit?usp=sharing)\n",
    "    * [Gauss-Jordan Elimination for \"Nice\" Systems](https://docs.google.com/presentation/d/1Nb-Qt66G9BsWGQTedyVFUpkMl9EHU8MJuIapQ91N1QM/edit?usp=sharing)\n",
    "\n",
    "\n",
    "<font color='red'>***Answer all questions by performing a row operation by hand first, then imediately check your row operation using Python. Make sure to check each row operation as you go to avoid wandering down the wrong path!***<font> \n",
    "\n",
    "<font color='magenta'> If a question does not require a calculation, `print()` your answer and thought process to the screen, in addition to writing it in your handwritten version.\n"
   ]
  },
  {
   "cell_type": "markdown",
   "metadata": {
    "id": "SMDSOUVk-Tp8"
   },
   "source": [
    "## 1. Gaussian Elimination \n",
    "\n",
    "Perform the following tasks for each system of equation below\n",
    "\n",
    "> a.) Create a coefficient matrix, named $A$. [1pt]\n",
    "\n",
    "> b.) Create a column vector (mx1 matrix) of the constants, named $b$. [1pt]\n",
    "\n",
    "> c.) Concatenate $A$ and $b$ to create an augmented matrix $[A | b]$. (*When you do this in Python, make sure to use code to do this. Examples in the [Reference Sheet](https://humboldt.cloudbank.2i2c.cloud/hub/user-redirect/git-pull?repo=https%3A%2F%2Fgithub.com%2Fbludka%2Fengr225-materials-fa2024&branch=main&urlpath=lab%2Ftree%2Fengr225-materials-fa2024%2F00_resources%2FPython_Toolbox_for_Linear_Algebra.ipynb)*) [1pt]\n",
    "\n",
    "> d.) Use **Gausssian elimination** to solve your system of equations. Steps for this process are outlined in the [Elimination Notes](https://humboldt.cloudbank.2i2c.cloud/hub/user-redirect/git-pull?repo=https%3A%2F%2Fgithub.com%2Fbludka%2Fengr225-materials-fa2024&branch=main&urlpath=lab%2Ftree%2Fengr225-materials-fa2024%2F00_resources%2FElimination_Methods_for_Systems_of_Equations_with_Unique_Solution.ipynb). (*For the coding part, make sure to show **each** elementary row operation calculation and print the result at each step. Examples of row operations in the [Reference Sheet](https://humboldt.cloudbank.2i2c.cloud/hub/user-redirect/git-pull?repo=https%3A%2F%2Fgithub.com%2Fbludka%2Fengr225-materials-fa2024&branch=main&urlpath=lab%2Ftree%2Fengr225-materials-fa2024%2F00_resources%2FPython_Toolbox_for_Linear_Algebra.ipynb)*) [6 pts]\n",
    "\n",
    "> e.) Write on paper/print to the screen the solution for each of your variables. [1pt]\n"
   ]
  },
  {
   "cell_type": "code",
   "execution_count": null,
   "metadata": {
    "id": "MtGuE6dW54rL"
   },
   "outputs": [],
   "source": [
    "# run this code! \n",
    "import numpy as np\n",
    "np.set_printoptions(precision=4,suppress=True)"
   ]
  },
  {
   "cell_type": "markdown",
   "metadata": {
    "id": "K1bFm6i6GU0t"
   },
   "source": [
    "### Question 1.1 [10 pts]\n",
    "\n",
    "Make sure to complete steps a-e above for the following system:\n",
    "\n",
    "> $x_1 + x_2 + 2x_3 = 8 $\n",
    "\n",
    "> $-x_1 - 2x_2 + 3x_3 = 1 $\n",
    "\n",
    "> $3x_1 - 7x_2 + 4x_3 = 10 $"
   ]
  },
  {
   "cell_type": "code",
   "execution_count": null,
   "metadata": {
    "colab": {
     "base_uri": "https://localhost:8080/"
    },
    "executionInfo": {
     "elapsed": 161,
     "status": "ok",
     "timestamp": 1712707493877,
     "user": {
      "displayName": "Bonnie Ludka",
      "userId": "16620433016455303136"
     },
     "user_tz": 420
    },
    "id": "En4SjKV8QXju",
    "outputId": "0222b465-1cb0-431b-de53-41a2a62955ba"
   },
   "outputs": [],
   "source": [
    "#a) coefficient matrix A\n",
    "# your code here\n",
    "\n",
    "#b) vector of constants b\n",
    "# your code here\n",
    "\n",
    "#c) augmented matrix A|b\n",
    "# your code here\n",
    "\n",
    "#d) Gausssian Elimination\n",
    "# your code here\n",
    "\n",
    "#e) solution\n",
    "# your code here\n"
   ]
  },
  {
   "cell_type": "markdown",
   "metadata": {
    "id": "3Ek8NET3Fuq9"
   },
   "source": [
    "### Question 1.2 [10 pts]\n",
    "Make sure to complete steps a-e above for the following system:\n",
    "\n",
    "> $x_1 - 3x_2 + 4x_3 = 7 $\n",
    "\n",
    "> $x_3 = 5 $\n",
    "\n",
    "> $x_2 + 2x_3 = 2 $"
   ]
  },
  {
   "cell_type": "code",
   "execution_count": null,
   "metadata": {
    "id": "oyBcgT25QZyt"
   },
   "outputs": [],
   "source": [
    "#a) coefficient matrix A\n",
    "# your code here\n",
    "\n",
    "#b) vector of constants b\n",
    "# your code here\n",
    "\n",
    "#c) augmented matrix A|b\n",
    "# your code here\n",
    "\n",
    "#d) Gausssian Elimination\n",
    "# your code here\n",
    "\n",
    "#e) solution\n",
    "# your code here"
   ]
  },
  {
   "cell_type": "markdown",
   "metadata": {
    "id": "owlWxH6GGs6y"
   },
   "source": [
    "### Question 1.3 [10 pts]\n",
    "\n",
    "Make sure to complete steps a-e above for the following system:\n",
    "\n",
    "> $x_1 - 3x_3 = -2 $\n",
    "\n",
    "> $3x_1 + x_2 - 2x_3 = 5 $\n",
    "\n",
    "> $2x_1 + 2x_2 + x_3 = 4 $"
   ]
  },
  {
   "cell_type": "code",
   "execution_count": null,
   "metadata": {
    "id": "OE3R0w59QcSn"
   },
   "outputs": [],
   "source": [
    "#a) coefficient matrix A\n",
    "# your code here\n",
    "\n",
    "#b) vector of constants b\n",
    "# your code here\n",
    "\n",
    "#c) augmented matrix A|b\n",
    "# your code here\n",
    "\n",
    "#d) Gausssian Elimination\n",
    "# your code here\n",
    "\n",
    "#e) solution\n",
    "# your code here"
   ]
  },
  {
   "cell_type": "markdown",
   "metadata": {
    "id": "DDOYcMI4H0KZ"
   },
   "source": [
    "### Question 1.4 [10 pts]\n",
    "\n",
    "Make sure to complete steps a-e above for the following system:\n",
    "\n",
    "> $3x_1 + 1x_3 = 10 $\n",
    "\n",
    "> $5x_2 = 25 $\n",
    "\n",
    "> $x_1 + 10x_2 = 54 $\n",
    "\n"
   ]
  },
  {
   "cell_type": "code",
   "execution_count": null,
   "metadata": {
    "id": "Gf697evcQlLv"
   },
   "outputs": [],
   "source": [
    "#a) coefficient matrix A\n",
    "# your code here\n",
    "\n",
    "#b) vector of constants b\n",
    "# your code here\n",
    "\n",
    "#c) augmented matrix A|b\n",
    "# your code here\n",
    "\n",
    "#d) Gausssian Elimination\n",
    "# your code here\n",
    "\n",
    "#e) solution\n",
    "# your code here"
   ]
  },
  {
   "cell_type": "markdown",
   "metadata": {
    "id": "EYSf_GYeiRZR"
   },
   "source": [
    "### Question 1.5 [10 pts]\n",
    "\n",
    "Make sure to complete steps a-e above for the following system:\n",
    "\n",
    "> $x_2 = 2 $\n",
    "\n",
    "> $2x_1 + 3x_2 + 1x_3 = 10 $\n",
    "\n",
    "> $5x_1 + 6x_2 + 2x_3 = 21 $"
   ]
  },
  {
   "cell_type": "code",
   "execution_count": null,
   "metadata": {
    "id": "pWFZRxkAQMDs"
   },
   "outputs": [],
   "source": [
    "#a) coefficient matrix A\n",
    "# your code here\n",
    "\n",
    "#b) vector of constants b\n",
    "# your code here\n",
    "\n",
    "#c) augmented matrix A|b\n",
    "# your code here\n",
    "\n",
    "#d) Gausssian Elimination\n",
    "# your code here\n",
    "\n",
    "#e) solution\n",
    "# your code here"
   ]
  },
  {
   "cell_type": "markdown",
   "metadata": {
    "id": "SM3hipybiyZb"
   },
   "source": [
    "## 2. Program for Automating Backsubstitution\n",
    "### Question 2.1 [10pts]\n",
    "Imagine you have just finished the elimination portion of Gaussian Elimination. Your coefficient matrix is a 3x3 matrix and after elimination it is now an upper triangular matrix such that your system of equations has a unique solution. In order to find the solution using Gaussian Elimination, you will need to perform **backsubstitution**. Write a user function that takes a 3x4 augmented matrix in echelon form as it's argument, and returns a column vector of the solution. For this question, assume the coeffiecient matrix is upper triangular when it is in echelon form. Make sure to call your function to test it. You do not need to provide a handwritten answer to this question - only your code."
   ]
  },
  {
   "cell_type": "code",
   "execution_count": null,
   "metadata": {},
   "outputs": [],
   "source": [
    "# your code here"
   ]
  },
  {
   "cell_type": "markdown",
   "metadata": {
    "id": "NpK-qB2sQuqE"
   },
   "source": [
    "## 3. Guass-Jordan Elimination\n",
    "\n",
    "Perform the following tasks for each system of equation below\n",
    "\n",
    "> a.) Create a coefficient matrix, named $A$. [1pt]\n",
    "\n",
    "> b.) Create a column vector (mx1 matrix) of the constants, named $b$. [1pt]\n",
    "\n",
    "> c.) Concatenate $A$ and $b$ to create an augmented matrix $[A | b]$. (*When you do this in Python, make sure to use code to do this. Examples in the [Reference Sheet](https://humboldt.cloudbank.2i2c.cloud/hub/user-redirect/git-pull?repo=https%3A%2F%2Fgithub.com%2Fbludka%2Fengr225-materials-fa2024&branch=main&urlpath=lab%2Ftree%2Fengr225-materials-fa2024%2F00_resources%2FPython_Toolbox_for_Linear_Algebra.ipynb)*) [1pt]\n",
    "\n",
    "> d.) Use **Gausss-Jordan Elimination** to solve your system of equations. Steps for this process are outlined in the [Elimination Notes](https://humboldt.cloudbank.2i2c.cloud/hub/user-redirect/git-pull?repo=https%3A%2F%2Fgithub.com%2Fbludka%2Fengr225-materials-fa2024&branch=main&urlpath=lab%2Ftree%2Fengr225-materials-fa2024%2F00_resources%2FElimination_Methods_for_Systems_of_Equations_with_Unique_Solution.ipynb). (*For the coding part, make sure to show **each** elementary row operation calculation and print the result at each step. Examples of row operations in the [Reference Sheet](https://humboldt.cloudbank.2i2c.cloud/hub/user-redirect/git-pull?repo=https%3A%2F%2Fgithub.com%2Fbludka%2Fengr225-materials-fa2024&branch=main&urlpath=lab%2Ftree%2Fengr225-materials-fa2024%2F00_resources%2FPython_Toolbox_for_Linear_Algebra.ipynb)*) [6 pts]\n",
    "\n",
    "> e.) Write on paper/print to the screen the solution for each of your variables. [1pt]\n",
    "\n",
    "\n",
    "\n"
   ]
  },
  {
   "cell_type": "markdown",
   "metadata": {
    "id": "XPtOrpZ9i1pI"
   },
   "source": [
    "### Question 3.1 [10 pts]\n",
    "\n",
    "Solve the following system of equations using Guass-JORDAN Elimination:\n",
    "\n",
    "> $x_1 + x_2 - x_3 =  -2$\n",
    "\n",
    "> $2x_1 -1x_2 +x_3 =  5$\n",
    "\n",
    "> $-x_1 + 2x_2 + 2x_3 = 1$\n",
    "\n"
   ]
  },
  {
   "cell_type": "code",
   "execution_count": null,
   "metadata": {
    "id": "IJd9JYMnjdMA"
   },
   "outputs": [],
   "source": [
    "#a) coefficient matrix A\n",
    "# your code here\n",
    "\n",
    "#b) vector of constants b\n",
    "# your code here\n",
    "\n",
    "#c) augmented matrix A|b\n",
    "# your code here\n",
    "\n",
    "#d) Gausss-JORDAN Elimination\n",
    "# your code here\n",
    "\n",
    "#e) solution\n",
    "# your code here"
   ]
  },
  {
   "cell_type": "markdown",
   "metadata": {},
   "source": [
    "### Question 3.2 [10 pts]\n",
    "\n",
    "Solve the following system of equations using Guass-JORDAN Elimination:\n",
    "\n",
    "> $5x_1 + 2x_2 =  7$\n",
    "\n",
    "> $2x_1 + 1x_2 =  3 $\n",
    "\n",
    "> $36x_1 + 8x_2 + 4x_3 = 60$"
   ]
  },
  {
   "cell_type": "code",
   "execution_count": null,
   "metadata": {},
   "outputs": [],
   "source": [
    "#a) coefficient matrix A\n",
    "# your code here\n",
    "\n",
    "#b) vector of constants b\n",
    "# your code here\n",
    "\n",
    "#c) augmented matrix A|b\n",
    "# your code here\n",
    "\n",
    "#d) Gausss-JORDAN Elimination\n",
    "# your code here\n",
    "\n",
    "#e) solution\n",
    "# your code here"
   ]
  },
  {
   "cell_type": "markdown",
   "metadata": {},
   "source": [
    "### Question 3.3 [10 pts]\n",
    "\n",
    "Solve the following system of equations using Guass-JORDAN Elimination:\n",
    "\n",
    "> $23x_1 + 34x_2 +4x_3 =  74$\n",
    "\n",
    "> $24x_1 + 37x_2 +4x_3 =  76$\n",
    "\n",
    "> $11x_1 + 16x_2 + 2x_3 = 36$"
   ]
  },
  {
   "cell_type": "code",
   "execution_count": null,
   "metadata": {},
   "outputs": [],
   "source": [
    "#a) coefficient matrix A\n",
    "# your code here\n",
    "\n",
    "#b) vector of constants b\n",
    "# your code here\n",
    "\n",
    "#c) augmented matrix A|b\n",
    "# your code here\n",
    "\n",
    "#d) Gausss-JORDAN Elimination\n",
    "# your code here\n",
    "\n",
    "#e) solution\n",
    "# your code here"
   ]
  },
  {
   "cell_type": "markdown",
   "metadata": {},
   "source": [
    "### Question 3.4 [10 pts]\n",
    "\n",
    "Solve the following system of equations using Guass-JORDAN Elimination:\n",
    "\n",
    "> $-18x_1 - 27x_2 - 9x_3 =  -22.5$\n",
    "\n",
    "> $-2x_1 - 39x_2 - 12 =  -19.75$\n",
    "\n",
    "> $19x_1 + 53x_2 + 17x_3 = 35.5$"
   ]
  },
  {
   "cell_type": "code",
   "execution_count": null,
   "metadata": {},
   "outputs": [],
   "source": [
    "#a) coefficient matrix A\n",
    "# your code here\n",
    "\n",
    "#b) vector of constants b\n",
    "# your code here\n",
    "\n",
    "#c) augmented matrix A|b\n",
    "# your code here\n",
    "\n",
    "#d) Gausss-JORDAN Elimination\n",
    "# your code here\n",
    "\n",
    "#e) solution\n",
    "# your code here"
   ]
  },
  {
   "cell_type": "markdown",
   "metadata": {},
   "source": [
    "### Question 3.5 [10 pts]\n",
    "\n",
    "Solve the following system of equations using Guass-JORDAN Elimination:\n",
    "\n",
    "> $-7x_1 + 52x_2 + 23x_3 =  -114$\n",
    "\n",
    "> $-4x_1 + 26x_2 + 12 =  -58$\n",
    "\n",
    "> $11x_1 + 79x_2 + 14x_3 = -132$"
   ]
  },
  {
   "cell_type": "code",
   "execution_count": null,
   "metadata": {},
   "outputs": [],
   "source": [
    "#a) coefficient matrix A\n",
    "# your code here\n",
    "\n",
    "#b) vector of constants b\n",
    "# your code here\n",
    "\n",
    "#c) augmented matrix A|b\n",
    "# your code here\n",
    "\n",
    "#d) Gausss-JORDAN Elimination\n",
    "# your code here\n",
    "\n",
    "#e) solution\n",
    "# your code here"
   ]
  }
 ],
 "metadata": {
  "colab": {
   "authorship_tag": "ABX9TyNI5oJEMTzPXSjFS2g10Z1z",
   "provenance": [],
   "toc_visible": true
  },
  "kernelspec": {
   "display_name": "engr225",
   "language": "python",
   "name": "python3"
  },
  "language_info": {
   "codemirror_mode": {
    "name": "ipython",
    "version": 3
   },
   "file_extension": ".py",
   "mimetype": "text/x-python",
   "name": "python",
   "nbconvert_exporter": "python",
   "pygments_lexer": "ipython3",
   "version": "3.11.7"
  }
 },
 "nbformat": 4,
 "nbformat_minor": 0
}
