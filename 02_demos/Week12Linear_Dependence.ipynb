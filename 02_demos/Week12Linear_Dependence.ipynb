{
 "cells": [
  {
   "cell_type": "code",
   "execution_count": 10,
   "metadata": {},
   "outputs": [],
   "source": [
    "# Run this cell first\n",
    "import matplotlib.pyplot as plt\n",
    "import numpy as np"
   ]
  },
  {
   "cell_type": "markdown",
   "metadata": {},
   "source": [
    "# Linear Dependence\n",
    "\n",
    "**Student Task**\n",
    "\n",
    "Find the solution to the following system of equations by GRAPHING them using paper:\n",
    "\n",
    ">$Eq1: x + y = 2$\n",
    "\n",
    ">$Eq2: -2x + y = 3$"
   ]
  },
  {
   "cell_type": "markdown",
   "metadata": {},
   "source": [
    "## We have TWO equations and TWO unknowns... \n",
    "\n",
    "TWO Equations: Eq1 and Eq2\n",
    "\n",
    "TWO unknowns: x and y\n",
    "\n",
    "...Seems like there could be a unqiue solution..."
   ]
  },
  {
   "cell_type": "code",
   "execution_count": null,
   "metadata": {},
   "outputs": [],
   "source": [
    "# We can check our work using Python:\n",
    "x = np.arange(-20,20)\n",
    "y1 = # first equation rearranged into y=mx+b format\n",
    "y2 = # second equation rearanged into y=mx+b format"
   ]
  },
  {
   "cell_type": "markdown",
   "metadata": {},
   "source": [
    "## What if we had THREE equations and two unknowns?\n",
    "\n",
    "It sounds like that is TOO much information!\n",
    "\n",
    "\n",
    "That means there can't be a solution?  How could our solution satisfy all those THINGS!!\n",
    "\n",
    "Oh...But what if one of our equations contained the same information that was in the others?\n",
    "\n",
    "Let us see what that might look like."
   ]
  },
  {
   "cell_type": "markdown",
   "metadata": {},
   "source": [
    "**Student Task**\n",
    "\n",
    "Make a LINEAR COMBINATION of Eq1 and Eq2 using this formula:\n",
    "\n",
    "$2*Eq1 + 3*Eq2$\n",
    "\n",
    "Where remember:\n",
    "\n",
    ">$Eq1: x + y = 2$\n",
    "\n",
    ">$Eq2: -2x + y = 3$"
   ]
  },
  {
   "cell_type": "markdown",
   "metadata": {},
   "source": [
    "*Your solution here* ...  .... ....."
   ]
  },
  {
   "cell_type": "markdown",
   "metadata": {},
   "source": [
    "So what would happen if we had this new equation AND Eq1 and Eq2 as our system of equations?\n",
    "\n",
    ">$Eq1: x + y = 2$\n",
    "\n",
    ">$Eq2: -2x + y = 3$\n",
    "\n",
    ">$Eq3: $ Linear Combination of Eq1 and Eq2"
   ]
  },
  {
   "cell_type": "markdown",
   "metadata": {},
   "source": [
    "Let's plot it."
   ]
  },
  {
   "cell_type": "code",
   "execution_count": null,
   "metadata": {},
   "outputs": [],
   "source": [
    "# We can check our work using Python:\n",
    "x = np.arange(-20,20)\n",
    "y1 = -x+2 # first equation rearranged into y=mx+b format\n",
    "y2 = 2*x+3# second equation rearanged into y=mx+b format\n",
    "y3 = #?\n",
    "plt.plot(x,y1,label='Eq1')\n",
    "plt.plot(x,y2,label='Eq2')\n",
    "plt.plot(x,y3,label='Eq3')\n",
    "plt.legend()\n",
    "plt.grid(True)"
   ]
  },
  {
   "cell_type": "markdown",
   "metadata": {},
   "source": [
    "Did it change the solution?  \n",
    "\n",
    "Was Eqn3 just a combination of information from Eq1 and Eq2??"
   ]
  },
  {
   "cell_type": "markdown",
   "metadata": {},
   "source": [
    "*I encourage you to test additional linear combinations and add them to the plot.* \n",
    "\n",
    "*Additionally, I encourage you to try adding an equation that is NOT a linear combination of Eq1 and Eq2*"
   ]
  }
 ],
 "metadata": {
  "kernelspec": {
   "display_name": "engr225",
   "language": "python",
   "name": "python3"
  },
  "language_info": {
   "codemirror_mode": {
    "name": "ipython",
    "version": 3
   },
   "file_extension": ".py",
   "mimetype": "text/x-python",
   "name": "python",
   "nbconvert_exporter": "python",
   "pygments_lexer": "ipython3",
   "version": "3.11.7"
  }
 },
 "nbformat": 4,
 "nbformat_minor": 2
}
